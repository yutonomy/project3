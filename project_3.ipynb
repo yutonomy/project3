{
 "cells": [
  {
   "cell_type": "markdown",
   "id": "6d6d0546-e04e-4ffd-9cd6-16eaad25440b",
   "metadata": {},
   "source": [
    "# Project 3"
   ]
  },
  {
   "cell_type": "code",
   "execution_count": 39,
   "id": "2f749697",
   "metadata": {},
   "outputs": [],
   "source": [
    "import plotly.io as pio\n",
    "\n",
    "pio.renderers.default = \"vscode+jupyterlab+notebook_connected\""
   ]
  },
  {
   "cell_type": "code",
   "execution_count": 40,
   "id": "1b6591bb-88b0-4f4a-b372-0822cca8f1be",
   "metadata": {},
   "outputs": [],
   "source": [
    "import pandas as pd\n",
    "import plotly.express as px"
   ]
  },
  {
   "cell_type": "code",
   "execution_count": 41,
   "id": "588cf47f-2bc4-4c1d-98e2-e40e66b1ae04",
   "metadata": {
    "scrolled": true
   },
   "outputs": [
    {
     "data": {
      "text/html": [
       "<div>\n",
       "<style scoped>\n",
       "    .dataframe tbody tr th:only-of-type {\n",
       "        vertical-align: middle;\n",
       "    }\n",
       "\n",
       "    .dataframe tbody tr th {\n",
       "        vertical-align: top;\n",
       "    }\n",
       "\n",
       "    .dataframe thead th {\n",
       "        text-align: right;\n",
       "    }\n",
       "</style>\n",
       "<table border=\"1\" class=\"dataframe\">\n",
       "  <thead>\n",
       "    <tr style=\"text-align: right;\">\n",
       "      <th></th>\n",
       "      <th>Year Published</th>\n",
       "      <th>PUMA</th>\n",
       "      <th>Borough</th>\n",
       "      <th>Neighborhoods</th>\n",
       "      <th>CD</th>\n",
       "      <th>Join</th>\n",
       "      <th>NYC_Poverty_Rate</th>\n",
       "      <th>Median_Income</th>\n",
       "      <th>Perc_White</th>\n",
       "      <th>Perc_Black</th>\n",
       "      <th>...</th>\n",
       "      <th>Ind6Rank</th>\n",
       "      <th>Ind6Definition</th>\n",
       "      <th>Ind7</th>\n",
       "      <th>Ind7Outcome</th>\n",
       "      <th>Ind7Rank</th>\n",
       "      <th>Ind7Definition</th>\n",
       "      <th>Ind8</th>\n",
       "      <th>Ind8Outcome</th>\n",
       "      <th>Ind8Rank</th>\n",
       "      <th>Ind8Definition</th>\n",
       "    </tr>\n",
       "  </thead>\n",
       "  <tbody>\n",
       "    <tr>\n",
       "      <th>0</th>\n",
       "      <td>2020</td>\n",
       "      <td>3701</td>\n",
       "      <td>Bronx</td>\n",
       "      <td>Riverdale, Fieldston &amp; Kingsbridge</td>\n",
       "      <td>BX Community District 8</td>\n",
       "      <td>3701</td>\n",
       "      <td>0.152</td>\n",
       "      <td>30437</td>\n",
       "      <td>0.324</td>\n",
       "      <td>0.124</td>\n",
       "      <td>...</td>\n",
       "      <td>32.0</td>\n",
       "      <td>Percentage of jobs in small businesses (less t...</td>\n",
       "      <td>Participatory Budgeting</td>\n",
       "      <td>0.071777</td>\n",
       "      <td>26.0</td>\n",
       "      <td>Percentage of eligible residents casting a vot...</td>\n",
       "      <td>NaN</td>\n",
       "      <td>NaN</td>\n",
       "      <td>NaN</td>\n",
       "      <td>NaN</td>\n",
       "    </tr>\n",
       "    <tr>\n",
       "      <th>1</th>\n",
       "      <td>2020</td>\n",
       "      <td>3701</td>\n",
       "      <td>Bronx</td>\n",
       "      <td>Riverdale, Fieldston &amp; Kingsbridge</td>\n",
       "      <td>BX Community District 8</td>\n",
       "      <td>3701</td>\n",
       "      <td>0.152</td>\n",
       "      <td>30437</td>\n",
       "      <td>0.324</td>\n",
       "      <td>0.124</td>\n",
       "      <td>...</td>\n",
       "      <td>38.0</td>\n",
       "      <td>Percentage of bank &amp; credit union branches off...</td>\n",
       "      <td>Mobile Banking Utilization</td>\n",
       "      <td>0.205800</td>\n",
       "      <td>23.0</td>\n",
       "      <td>Estimated percentage of residents that used mo...</td>\n",
       "      <td>NaN</td>\n",
       "      <td>NaN</td>\n",
       "      <td>NaN</td>\n",
       "      <td>NaN</td>\n",
       "    </tr>\n",
       "    <tr>\n",
       "      <th>2</th>\n",
       "      <td>2020</td>\n",
       "      <td>3701</td>\n",
       "      <td>Bronx</td>\n",
       "      <td>Riverdale, Fieldston &amp; Kingsbridge</td>\n",
       "      <td>BX Community District 8</td>\n",
       "      <td>3701</td>\n",
       "      <td>0.152</td>\n",
       "      <td>30437</td>\n",
       "      <td>0.324</td>\n",
       "      <td>0.124</td>\n",
       "      <td>...</td>\n",
       "      <td>27.0</td>\n",
       "      <td>Number of pre-foreclosure notices issued per 1...</td>\n",
       "      <td>Financial Counseling</td>\n",
       "      <td>0.000000</td>\n",
       "      <td>40.0</td>\n",
       "      <td>Full-Time Equivalent Financial Counselors per ...</td>\n",
       "      <td>NaN</td>\n",
       "      <td>NaN</td>\n",
       "      <td>NaN</td>\n",
       "      <td>NaN</td>\n",
       "    </tr>\n",
       "    <tr>\n",
       "      <th>3</th>\n",
       "      <td>2020</td>\n",
       "      <td>3701</td>\n",
       "      <td>Bronx</td>\n",
       "      <td>Riverdale, Fieldston &amp; Kingsbridge</td>\n",
       "      <td>BX Community District 8</td>\n",
       "      <td>3701</td>\n",
       "      <td>0.152</td>\n",
       "      <td>30437</td>\n",
       "      <td>0.324</td>\n",
       "      <td>0.124</td>\n",
       "      <td>...</td>\n",
       "      <td>41.0</td>\n",
       "      <td>Average (mean) travel time to work in minutes</td>\n",
       "      <td>NaN</td>\n",
       "      <td>NaN</td>\n",
       "      <td>NaN</td>\n",
       "      <td>NaN</td>\n",
       "      <td>NaN</td>\n",
       "      <td>NaN</td>\n",
       "      <td>NaN</td>\n",
       "      <td>NaN</td>\n",
       "    </tr>\n",
       "    <tr>\n",
       "      <th>4</th>\n",
       "      <td>2020</td>\n",
       "      <td>3701</td>\n",
       "      <td>Bronx</td>\n",
       "      <td>Riverdale, Fieldston &amp; Kingsbridge</td>\n",
       "      <td>BX Community District 8</td>\n",
       "      <td>3701</td>\n",
       "      <td>0.152</td>\n",
       "      <td>30437</td>\n",
       "      <td>0.324</td>\n",
       "      <td>0.124</td>\n",
       "      <td>...</td>\n",
       "      <td>28.0</td>\n",
       "      <td>Percentage of people eligible for SNAP receivi...</td>\n",
       "      <td>Tax Credit Utilization</td>\n",
       "      <td>0.966000</td>\n",
       "      <td>9.0</td>\n",
       "      <td>Percentage of eligible Tax Units claiming EITC</td>\n",
       "      <td>Adults With High School Diploma</td>\n",
       "      <td>0.845032</td>\n",
       "      <td>21.0</td>\n",
       "      <td>Percentage of adults with a high school degree...</td>\n",
       "    </tr>\n",
       "    <tr>\n",
       "      <th>...</th>\n",
       "      <td>...</td>\n",
       "      <td>...</td>\n",
       "      <td>...</td>\n",
       "      <td>...</td>\n",
       "      <td>...</td>\n",
       "      <td>...</td>\n",
       "      <td>...</td>\n",
       "      <td>...</td>\n",
       "      <td>...</td>\n",
       "      <td>...</td>\n",
       "      <td>...</td>\n",
       "      <td>...</td>\n",
       "      <td>...</td>\n",
       "      <td>...</td>\n",
       "      <td>...</td>\n",
       "      <td>...</td>\n",
       "      <td>...</td>\n",
       "      <td>...</td>\n",
       "      <td>...</td>\n",
       "      <td>...</td>\n",
       "      <td>...</td>\n",
       "    </tr>\n",
       "    <tr>\n",
       "      <th>380</th>\n",
       "      <td>2020</td>\n",
       "      <td>4114</td>\n",
       "      <td>Queens</td>\n",
       "      <td>Far Rockaway, Breezy Point &amp; Broad Channel</td>\n",
       "      <td>QN Community District 14</td>\n",
       "      <td>4114</td>\n",
       "      <td>0.179</td>\n",
       "      <td>25920</td>\n",
       "      <td>0.350</td>\n",
       "      <td>0.353</td>\n",
       "      <td>...</td>\n",
       "      <td>42.0</td>\n",
       "      <td>Number of pre-foreclosure notices issued per 1...</td>\n",
       "      <td>Financial Counseling</td>\n",
       "      <td>1.413969</td>\n",
       "      <td>21.0</td>\n",
       "      <td>Full-Time Equivalent Financial Counselors per ...</td>\n",
       "      <td>NaN</td>\n",
       "      <td>NaN</td>\n",
       "      <td>NaN</td>\n",
       "      <td>NaN</td>\n",
       "    </tr>\n",
       "    <tr>\n",
       "      <th>381</th>\n",
       "      <td>2020</td>\n",
       "      <td>4114</td>\n",
       "      <td>Queens</td>\n",
       "      <td>Far Rockaway, Breezy Point &amp; Broad Channel</td>\n",
       "      <td>QN Community District 14</td>\n",
       "      <td>4114</td>\n",
       "      <td>0.179</td>\n",
       "      <td>25920</td>\n",
       "      <td>0.350</td>\n",
       "      <td>0.353</td>\n",
       "      <td>...</td>\n",
       "      <td>55.0</td>\n",
       "      <td>Average (mean) travel time to work in minutes</td>\n",
       "      <td>NaN</td>\n",
       "      <td>NaN</td>\n",
       "      <td>NaN</td>\n",
       "      <td>NaN</td>\n",
       "      <td>NaN</td>\n",
       "      <td>NaN</td>\n",
       "      <td>NaN</td>\n",
       "      <td>NaN</td>\n",
       "    </tr>\n",
       "    <tr>\n",
       "      <th>382</th>\n",
       "      <td>2020</td>\n",
       "      <td>4114</td>\n",
       "      <td>Queens</td>\n",
       "      <td>Far Rockaway, Breezy Point &amp; Broad Channel</td>\n",
       "      <td>QN Community District 14</td>\n",
       "      <td>4114</td>\n",
       "      <td>0.179</td>\n",
       "      <td>25920</td>\n",
       "      <td>0.350</td>\n",
       "      <td>0.353</td>\n",
       "      <td>...</td>\n",
       "      <td>15.0</td>\n",
       "      <td>Percentage of people eligible for SNAP receivi...</td>\n",
       "      <td>Tax Credit Utilization</td>\n",
       "      <td>0.936000</td>\n",
       "      <td>25.0</td>\n",
       "      <td>Percentage of eligible Tax Units claiming EITC</td>\n",
       "      <td>Adults With High School Diploma</td>\n",
       "      <td>0.790882</td>\n",
       "      <td>33.0</td>\n",
       "      <td>Percentage of adults with a high school degree...</td>\n",
       "    </tr>\n",
       "    <tr>\n",
       "      <th>383</th>\n",
       "      <td>2020</td>\n",
       "      <td>4114</td>\n",
       "      <td>Queens</td>\n",
       "      <td>Far Rockaway, Breezy Point &amp; Broad Channel</td>\n",
       "      <td>QN Community District 14</td>\n",
       "      <td>4114</td>\n",
       "      <td>0.179</td>\n",
       "      <td>25920</td>\n",
       "      <td>0.350</td>\n",
       "      <td>0.353</td>\n",
       "      <td>...</td>\n",
       "      <td>NaN</td>\n",
       "      <td>NaN</td>\n",
       "      <td>NaN</td>\n",
       "      <td>NaN</td>\n",
       "      <td>NaN</td>\n",
       "      <td>NaN</td>\n",
       "      <td>NaN</td>\n",
       "      <td>NaN</td>\n",
       "      <td>NaN</td>\n",
       "      <td>NaN</td>\n",
       "    </tr>\n",
       "    <tr>\n",
       "      <th>384</th>\n",
       "      <td>2020</td>\n",
       "      <td>4114</td>\n",
       "      <td>Queens</td>\n",
       "      <td>Far Rockaway, Breezy Point &amp; Broad Channel</td>\n",
       "      <td>QN Community District 14</td>\n",
       "      <td>4114</td>\n",
       "      <td>0.179</td>\n",
       "      <td>25920</td>\n",
       "      <td>0.350</td>\n",
       "      <td>0.353</td>\n",
       "      <td>...</td>\n",
       "      <td>NaN</td>\n",
       "      <td>NaN</td>\n",
       "      <td>NaN</td>\n",
       "      <td>NaN</td>\n",
       "      <td>NaN</td>\n",
       "      <td>NaN</td>\n",
       "      <td>NaN</td>\n",
       "      <td>NaN</td>\n",
       "      <td>NaN</td>\n",
       "      <td>NaN</td>\n",
       "    </tr>\n",
       "  </tbody>\n",
       "</table>\n",
       "<p>385 rows × 52 columns</p>\n",
       "</div>"
      ],
      "text/plain": [
       "     Year Published  PUMA Borough                               Neighborhoods  \\\n",
       "0              2020  3701   Bronx          Riverdale, Fieldston & Kingsbridge   \n",
       "1              2020  3701   Bronx          Riverdale, Fieldston & Kingsbridge   \n",
       "2              2020  3701   Bronx          Riverdale, Fieldston & Kingsbridge   \n",
       "3              2020  3701   Bronx          Riverdale, Fieldston & Kingsbridge   \n",
       "4              2020  3701   Bronx          Riverdale, Fieldston & Kingsbridge   \n",
       "..              ...   ...     ...                                         ...   \n",
       "380            2020  4114  Queens  Far Rockaway, Breezy Point & Broad Channel   \n",
       "381            2020  4114  Queens  Far Rockaway, Breezy Point & Broad Channel   \n",
       "382            2020  4114  Queens  Far Rockaway, Breezy Point & Broad Channel   \n",
       "383            2020  4114  Queens  Far Rockaway, Breezy Point & Broad Channel   \n",
       "384            2020  4114  Queens  Far Rockaway, Breezy Point & Broad Channel   \n",
       "\n",
       "                           CD  Join  NYC_Poverty_Rate  Median_Income  \\\n",
       "0     BX Community District 8  3701             0.152          30437   \n",
       "1     BX Community District 8  3701             0.152          30437   \n",
       "2     BX Community District 8  3701             0.152          30437   \n",
       "3     BX Community District 8  3701             0.152          30437   \n",
       "4     BX Community District 8  3701             0.152          30437   \n",
       "..                        ...   ...               ...            ...   \n",
       "380  QN Community District 14  4114             0.179          25920   \n",
       "381  QN Community District 14  4114             0.179          25920   \n",
       "382  QN Community District 14  4114             0.179          25920   \n",
       "383  QN Community District 14  4114             0.179          25920   \n",
       "384  QN Community District 14  4114             0.179          25920   \n",
       "\n",
       "     Perc_White  Perc_Black  ...  Ind6Rank  \\\n",
       "0         0.324       0.124  ...      32.0   \n",
       "1         0.324       0.124  ...      38.0   \n",
       "2         0.324       0.124  ...      27.0   \n",
       "3         0.324       0.124  ...      41.0   \n",
       "4         0.324       0.124  ...      28.0   \n",
       "..          ...         ...  ...       ...   \n",
       "380       0.350       0.353  ...      42.0   \n",
       "381       0.350       0.353  ...      55.0   \n",
       "382       0.350       0.353  ...      15.0   \n",
       "383       0.350       0.353  ...       NaN   \n",
       "384       0.350       0.353  ...       NaN   \n",
       "\n",
       "                                        Ind6Definition  \\\n",
       "0    Percentage of jobs in small businesses (less t...   \n",
       "1    Percentage of bank & credit union branches off...   \n",
       "2    Number of pre-foreclosure notices issued per 1...   \n",
       "3        Average (mean) travel time to work in minutes   \n",
       "4    Percentage of people eligible for SNAP receivi...   \n",
       "..                                                 ...   \n",
       "380  Number of pre-foreclosure notices issued per 1...   \n",
       "381      Average (mean) travel time to work in minutes   \n",
       "382  Percentage of people eligible for SNAP receivi...   \n",
       "383                                                NaN   \n",
       "384                                                NaN   \n",
       "\n",
       "                           Ind7 Ind7Outcome Ind7Rank  \\\n",
       "0       Participatory Budgeting    0.071777     26.0   \n",
       "1    Mobile Banking Utilization    0.205800     23.0   \n",
       "2          Financial Counseling    0.000000     40.0   \n",
       "3                           NaN         NaN      NaN   \n",
       "4        Tax Credit Utilization    0.966000      9.0   \n",
       "..                          ...         ...      ...   \n",
       "380        Financial Counseling    1.413969     21.0   \n",
       "381                         NaN         NaN      NaN   \n",
       "382      Tax Credit Utilization    0.936000     25.0   \n",
       "383                         NaN         NaN      NaN   \n",
       "384                         NaN         NaN      NaN   \n",
       "\n",
       "                                        Ind7Definition  \\\n",
       "0    Percentage of eligible residents casting a vot...   \n",
       "1    Estimated percentage of residents that used mo...   \n",
       "2    Full-Time Equivalent Financial Counselors per ...   \n",
       "3                                                  NaN   \n",
       "4       Percentage of eligible Tax Units claiming EITC   \n",
       "..                                                 ...   \n",
       "380  Full-Time Equivalent Financial Counselors per ...   \n",
       "381                                                NaN   \n",
       "382     Percentage of eligible Tax Units claiming EITC   \n",
       "383                                                NaN   \n",
       "384                                                NaN   \n",
       "\n",
       "                                Ind8 Ind8Outcome  Ind8Rank  \\\n",
       "0                                NaN         NaN       NaN   \n",
       "1                                NaN         NaN       NaN   \n",
       "2                                NaN         NaN       NaN   \n",
       "3                                NaN         NaN       NaN   \n",
       "4    Adults With High School Diploma    0.845032      21.0   \n",
       "..                               ...         ...       ...   \n",
       "380                              NaN         NaN       NaN   \n",
       "381                              NaN         NaN       NaN   \n",
       "382  Adults With High School Diploma    0.790882      33.0   \n",
       "383                              NaN         NaN       NaN   \n",
       "384                              NaN         NaN       NaN   \n",
       "\n",
       "                                        Ind8Definition  \n",
       "0                                                  NaN  \n",
       "1                                                  NaN  \n",
       "2                                                  NaN  \n",
       "3                                                  NaN  \n",
       "4    Percentage of adults with a high school degree...  \n",
       "..                                                 ...  \n",
       "380                                                NaN  \n",
       "381                                                NaN  \n",
       "382  Percentage of adults with a high school degree...  \n",
       "383                                                NaN  \n",
       "384                                                NaN  \n",
       "\n",
       "[385 rows x 52 columns]"
      ]
     },
     "execution_count": 41,
     "metadata": {},
     "output_type": "execute_result"
    }
   ],
   "source": [
    "df = pd.read_csv('/Users/yutonomy/Dropbox/Columbia SIPA/24FALL/Computing in Context/project3/Neighborhood.csv')\n",
    "df"
   ]
  },
  {
   "cell_type": "markdown",
   "id": "c51b1946-109e-4523-b5be-1f06ba33658b",
   "metadata": {},
   "source": [
    "- **Dataset(s) to be used:** [https://data.cityofnewyork.us/Business/Neighborhood-Financial-Health-Digital-Mapping-and-/r3dx-pew9/about_data]\n",
    "- **Analysis question:** The relationship between race and average income: is there any relationship between the percentage of black people and the change in the average income?\n",
    "- **Columns that will (likely) be used:**\n",
    "  - Median_Income\n",
    "  - Perc_Black\n",
    "- **Hypothesis**: The bigger the percentage of the black people gets, the less the average income becomes\n",
    "- **Site URL:** [https://github.com/yutonomy/project3]"
   ]
  },
  {
   "cell_type": "markdown",
   "id": "2abddc4f-61c9-4cb9-8ba1-298bf80733a9",
   "metadata": {},
   "source": [
    "# Check the data and clean the data if needed"
   ]
  },
  {
   "cell_type": "code",
   "execution_count": 42,
   "id": "477fc25f-393e-4c67-8aca-bc82b405eec5",
   "metadata": {},
   "outputs": [
    {
     "name": "stdout",
     "output_type": "stream",
     "text": [
      "<class 'pandas.core.frame.DataFrame'>\n",
      "RangeIndex: 385 entries, 0 to 384\n",
      "Data columns (total 52 columns):\n",
      " #   Column            Non-Null Count  Dtype  \n",
      "---  ------            --------------  -----  \n",
      " 0   Year Published    385 non-null    int64  \n",
      " 1   PUMA              385 non-null    int64  \n",
      " 2   Borough           385 non-null    object \n",
      " 3   Neighborhoods     385 non-null    object \n",
      " 4   CD                385 non-null    object \n",
      " 5   Join              385 non-null    int64  \n",
      " 6   NYC_Poverty_Rate  385 non-null    float64\n",
      " 7   Median_Income     385 non-null    int64  \n",
      " 8   Perc_White        385 non-null    float64\n",
      " 9   Perc_Black        385 non-null    float64\n",
      " 10  Perc_Asian        385 non-null    float64\n",
      " 11  Perc_Other        385 non-null    float64\n",
      " 12  Perc_Hispanic     385 non-null    float64\n",
      " 13  Goal              385 non-null    object \n",
      " 14  GoalName          385 non-null    object \n",
      " 15  GoalFullName      385 non-null    object \n",
      " 16  TotalOutcome      367 non-null    float64\n",
      " 17  GoalRank          385 non-null    object \n",
      " 18  IndexScore        330 non-null    float64\n",
      " 19  ScoreRank         330 non-null    object \n",
      " 20  Ind1              330 non-null    object \n",
      " 21  Ind1Outcome       275 non-null    object \n",
      " 22  Ind1Rank          330 non-null    float64\n",
      " 23  Ind1Definition    275 non-null    object \n",
      " 24  Ind2              330 non-null    object \n",
      " 25  Ind2Outcome       275 non-null    float64\n",
      " 26  Ind2Rank          330 non-null    float64\n",
      " 27  Ind2Definition    275 non-null    object \n",
      " 28  Ind3              330 non-null    object \n",
      " 29  Ind3Outcome       274 non-null    float64\n",
      " 30  Ind3Rank          329 non-null    float64\n",
      " 31  Ind3Definition    275 non-null    object \n",
      " 32  Ind4              330 non-null    object \n",
      " 33  Ind4Outcome       275 non-null    object \n",
      " 34  Ind4Rank          330 non-null    float64\n",
      " 35  Ind4Definition    275 non-null    object \n",
      " 36  Ind5              330 non-null    object \n",
      " 37  Ind5Outcome       275 non-null    float64\n",
      " 38  Ind5Rank          330 non-null    float64\n",
      " 39  Ind5Definition    275 non-null    object \n",
      " 40  Ind6              275 non-null    object \n",
      " 41  Ind6Outcome       275 non-null    float64\n",
      " 42  Ind6Rank          275 non-null    float64\n",
      " 43  Ind6Definition    275 non-null    object \n",
      " 44  Ind7              220 non-null    object \n",
      " 45  Ind7Outcome       207 non-null    float64\n",
      " 46  Ind7Rank          220 non-null    float64\n",
      " 47  Ind7Definition    220 non-null    object \n",
      " 48  Ind8              55 non-null     object \n",
      " 49  Ind8Outcome       55 non-null     float64\n",
      " 50  Ind8Rank          55 non-null     float64\n",
      " 51  Ind8Definition    55 non-null     object \n",
      "dtypes: float64(22), int64(4), object(26)\n",
      "memory usage: 156.5+ KB\n"
     ]
    }
   ],
   "source": [
    "df.info()"
   ]
  },
  {
   "cell_type": "code",
   "execution_count": 43,
   "id": "412fd915-a973-4528-8b8b-72c900ed869e",
   "metadata": {},
   "outputs": [
    {
     "data": {
      "text/html": [
       "<div>\n",
       "<style scoped>\n",
       "    .dataframe tbody tr th:only-of-type {\n",
       "        vertical-align: middle;\n",
       "    }\n",
       "\n",
       "    .dataframe tbody tr th {\n",
       "        vertical-align: top;\n",
       "    }\n",
       "\n",
       "    .dataframe thead th {\n",
       "        text-align: right;\n",
       "    }\n",
       "</style>\n",
       "<table border=\"1\" class=\"dataframe\">\n",
       "  <thead>\n",
       "    <tr style=\"text-align: right;\">\n",
       "      <th></th>\n",
       "      <th>Year Published</th>\n",
       "      <th>PUMA</th>\n",
       "      <th>Borough</th>\n",
       "      <th>Neighborhoods</th>\n",
       "      <th>CD</th>\n",
       "      <th>Join</th>\n",
       "      <th>NYC_Poverty_Rate</th>\n",
       "      <th>Median_Income</th>\n",
       "      <th>Perc_White</th>\n",
       "      <th>Perc_Black</th>\n",
       "      <th>...</th>\n",
       "      <th>Ind6Rank</th>\n",
       "      <th>Ind6Definition</th>\n",
       "      <th>Ind7</th>\n",
       "      <th>Ind7Outcome</th>\n",
       "      <th>Ind7Rank</th>\n",
       "      <th>Ind7Definition</th>\n",
       "      <th>Ind8</th>\n",
       "      <th>Ind8Outcome</th>\n",
       "      <th>Ind8Rank</th>\n",
       "      <th>Ind8Definition</th>\n",
       "    </tr>\n",
       "  </thead>\n",
       "  <tbody>\n",
       "    <tr>\n",
       "      <th>0</th>\n",
       "      <td>2020</td>\n",
       "      <td>3701</td>\n",
       "      <td>Bronx</td>\n",
       "      <td>Riverdale, Fieldston &amp; Kingsbridge</td>\n",
       "      <td>BX Community District 8</td>\n",
       "      <td>3701</td>\n",
       "      <td>0.152</td>\n",
       "      <td>30437</td>\n",
       "      <td>0.324</td>\n",
       "      <td>0.124</td>\n",
       "      <td>...</td>\n",
       "      <td>32.0</td>\n",
       "      <td>Percentage of jobs in small businesses (less t...</td>\n",
       "      <td>Participatory Budgeting</td>\n",
       "      <td>0.071777</td>\n",
       "      <td>26.0</td>\n",
       "      <td>Percentage of eligible residents casting a vot...</td>\n",
       "      <td>NaN</td>\n",
       "      <td>NaN</td>\n",
       "      <td>NaN</td>\n",
       "      <td>NaN</td>\n",
       "    </tr>\n",
       "    <tr>\n",
       "      <th>1</th>\n",
       "      <td>2020</td>\n",
       "      <td>3701</td>\n",
       "      <td>Bronx</td>\n",
       "      <td>Riverdale, Fieldston &amp; Kingsbridge</td>\n",
       "      <td>BX Community District 8</td>\n",
       "      <td>3701</td>\n",
       "      <td>0.152</td>\n",
       "      <td>30437</td>\n",
       "      <td>0.324</td>\n",
       "      <td>0.124</td>\n",
       "      <td>...</td>\n",
       "      <td>38.0</td>\n",
       "      <td>Percentage of bank &amp; credit union branches off...</td>\n",
       "      <td>Mobile Banking Utilization</td>\n",
       "      <td>0.205800</td>\n",
       "      <td>23.0</td>\n",
       "      <td>Estimated percentage of residents that used mo...</td>\n",
       "      <td>NaN</td>\n",
       "      <td>NaN</td>\n",
       "      <td>NaN</td>\n",
       "      <td>NaN</td>\n",
       "    </tr>\n",
       "    <tr>\n",
       "      <th>2</th>\n",
       "      <td>2020</td>\n",
       "      <td>3701</td>\n",
       "      <td>Bronx</td>\n",
       "      <td>Riverdale, Fieldston &amp; Kingsbridge</td>\n",
       "      <td>BX Community District 8</td>\n",
       "      <td>3701</td>\n",
       "      <td>0.152</td>\n",
       "      <td>30437</td>\n",
       "      <td>0.324</td>\n",
       "      <td>0.124</td>\n",
       "      <td>...</td>\n",
       "      <td>27.0</td>\n",
       "      <td>Number of pre-foreclosure notices issued per 1...</td>\n",
       "      <td>Financial Counseling</td>\n",
       "      <td>0.000000</td>\n",
       "      <td>40.0</td>\n",
       "      <td>Full-Time Equivalent Financial Counselors per ...</td>\n",
       "      <td>NaN</td>\n",
       "      <td>NaN</td>\n",
       "      <td>NaN</td>\n",
       "      <td>NaN</td>\n",
       "    </tr>\n",
       "    <tr>\n",
       "      <th>3</th>\n",
       "      <td>2020</td>\n",
       "      <td>3701</td>\n",
       "      <td>Bronx</td>\n",
       "      <td>Riverdale, Fieldston &amp; Kingsbridge</td>\n",
       "      <td>BX Community District 8</td>\n",
       "      <td>3701</td>\n",
       "      <td>0.152</td>\n",
       "      <td>30437</td>\n",
       "      <td>0.324</td>\n",
       "      <td>0.124</td>\n",
       "      <td>...</td>\n",
       "      <td>41.0</td>\n",
       "      <td>Average (mean) travel time to work in minutes</td>\n",
       "      <td>NaN</td>\n",
       "      <td>NaN</td>\n",
       "      <td>NaN</td>\n",
       "      <td>NaN</td>\n",
       "      <td>NaN</td>\n",
       "      <td>NaN</td>\n",
       "      <td>NaN</td>\n",
       "      <td>NaN</td>\n",
       "    </tr>\n",
       "    <tr>\n",
       "      <th>4</th>\n",
       "      <td>2020</td>\n",
       "      <td>3701</td>\n",
       "      <td>Bronx</td>\n",
       "      <td>Riverdale, Fieldston &amp; Kingsbridge</td>\n",
       "      <td>BX Community District 8</td>\n",
       "      <td>3701</td>\n",
       "      <td>0.152</td>\n",
       "      <td>30437</td>\n",
       "      <td>0.324</td>\n",
       "      <td>0.124</td>\n",
       "      <td>...</td>\n",
       "      <td>28.0</td>\n",
       "      <td>Percentage of people eligible for SNAP receivi...</td>\n",
       "      <td>Tax Credit Utilization</td>\n",
       "      <td>0.966000</td>\n",
       "      <td>9.0</td>\n",
       "      <td>Percentage of eligible Tax Units claiming EITC</td>\n",
       "      <td>Adults With High School Diploma</td>\n",
       "      <td>0.845032</td>\n",
       "      <td>21.0</td>\n",
       "      <td>Percentage of adults with a high school degree...</td>\n",
       "    </tr>\n",
       "  </tbody>\n",
       "</table>\n",
       "<p>5 rows × 52 columns</p>\n",
       "</div>"
      ],
      "text/plain": [
       "   Year Published  PUMA Borough                       Neighborhoods  \\\n",
       "0            2020  3701   Bronx  Riverdale, Fieldston & Kingsbridge   \n",
       "1            2020  3701   Bronx  Riverdale, Fieldston & Kingsbridge   \n",
       "2            2020  3701   Bronx  Riverdale, Fieldston & Kingsbridge   \n",
       "3            2020  3701   Bronx  Riverdale, Fieldston & Kingsbridge   \n",
       "4            2020  3701   Bronx  Riverdale, Fieldston & Kingsbridge   \n",
       "\n",
       "                        CD  Join  NYC_Poverty_Rate  Median_Income  Perc_White  \\\n",
       "0  BX Community District 8  3701             0.152          30437       0.324   \n",
       "1  BX Community District 8  3701             0.152          30437       0.324   \n",
       "2  BX Community District 8  3701             0.152          30437       0.324   \n",
       "3  BX Community District 8  3701             0.152          30437       0.324   \n",
       "4  BX Community District 8  3701             0.152          30437       0.324   \n",
       "\n",
       "   Perc_Black  ...  Ind6Rank  \\\n",
       "0       0.124  ...      32.0   \n",
       "1       0.124  ...      38.0   \n",
       "2       0.124  ...      27.0   \n",
       "3       0.124  ...      41.0   \n",
       "4       0.124  ...      28.0   \n",
       "\n",
       "                                      Ind6Definition  \\\n",
       "0  Percentage of jobs in small businesses (less t...   \n",
       "1  Percentage of bank & credit union branches off...   \n",
       "2  Number of pre-foreclosure notices issued per 1...   \n",
       "3      Average (mean) travel time to work in minutes   \n",
       "4  Percentage of people eligible for SNAP receivi...   \n",
       "\n",
       "                         Ind7 Ind7Outcome Ind7Rank  \\\n",
       "0     Participatory Budgeting    0.071777     26.0   \n",
       "1  Mobile Banking Utilization    0.205800     23.0   \n",
       "2        Financial Counseling    0.000000     40.0   \n",
       "3                         NaN         NaN      NaN   \n",
       "4      Tax Credit Utilization    0.966000      9.0   \n",
       "\n",
       "                                      Ind7Definition  \\\n",
       "0  Percentage of eligible residents casting a vot...   \n",
       "1  Estimated percentage of residents that used mo...   \n",
       "2  Full-Time Equivalent Financial Counselors per ...   \n",
       "3                                                NaN   \n",
       "4     Percentage of eligible Tax Units claiming EITC   \n",
       "\n",
       "                              Ind8 Ind8Outcome  Ind8Rank  \\\n",
       "0                              NaN         NaN       NaN   \n",
       "1                              NaN         NaN       NaN   \n",
       "2                              NaN         NaN       NaN   \n",
       "3                              NaN         NaN       NaN   \n",
       "4  Adults With High School Diploma    0.845032      21.0   \n",
       "\n",
       "                                      Ind8Definition  \n",
       "0                                                NaN  \n",
       "1                                                NaN  \n",
       "2                                                NaN  \n",
       "3                                                NaN  \n",
       "4  Percentage of adults with a high school degree...  \n",
       "\n",
       "[5 rows x 52 columns]"
      ]
     },
     "execution_count": 43,
     "metadata": {},
     "output_type": "execute_result"
    }
   ],
   "source": [
    "df.head()"
   ]
  },
  {
   "cell_type": "code",
   "execution_count": 44,
   "id": "785f02cd-a41c-4040-88e2-4829595598e7",
   "metadata": {},
   "outputs": [
    {
     "data": {
      "text/html": [
       "<div>\n",
       "<style scoped>\n",
       "    .dataframe tbody tr th:only-of-type {\n",
       "        vertical-align: middle;\n",
       "    }\n",
       "\n",
       "    .dataframe tbody tr th {\n",
       "        vertical-align: top;\n",
       "    }\n",
       "\n",
       "    .dataframe thead th {\n",
       "        text-align: right;\n",
       "    }\n",
       "</style>\n",
       "<table border=\"1\" class=\"dataframe\">\n",
       "  <thead>\n",
       "    <tr style=\"text-align: right;\">\n",
       "      <th></th>\n",
       "      <th>Year Published</th>\n",
       "      <th>PUMA</th>\n",
       "      <th>Borough</th>\n",
       "      <th>Neighborhoods</th>\n",
       "      <th>CD</th>\n",
       "      <th>Join</th>\n",
       "      <th>NYC_Poverty_Rate</th>\n",
       "      <th>Median_Income</th>\n",
       "      <th>Perc_White</th>\n",
       "      <th>Perc_Black</th>\n",
       "      <th>...</th>\n",
       "      <th>Ind6Rank</th>\n",
       "      <th>Ind6Definition</th>\n",
       "      <th>Ind7</th>\n",
       "      <th>Ind7Outcome</th>\n",
       "      <th>Ind7Rank</th>\n",
       "      <th>Ind7Definition</th>\n",
       "      <th>Ind8</th>\n",
       "      <th>Ind8Outcome</th>\n",
       "      <th>Ind8Rank</th>\n",
       "      <th>Ind8Definition</th>\n",
       "    </tr>\n",
       "  </thead>\n",
       "  <tbody>\n",
       "    <tr>\n",
       "      <th>374</th>\n",
       "      <td>2020</td>\n",
       "      <td>4113</td>\n",
       "      <td>Queens</td>\n",
       "      <td>Howard Beach &amp; Ozone Park</td>\n",
       "      <td>QN Community District 10</td>\n",
       "      <td>4113</td>\n",
       "      <td>0.189</td>\n",
       "      <td>27016</td>\n",
       "      <td>0.216</td>\n",
       "      <td>0.151</td>\n",
       "      <td>...</td>\n",
       "      <td>22.0</td>\n",
       "      <td>Percentage of bank &amp; credit union branches off...</td>\n",
       "      <td>Mobile Banking Utilization</td>\n",
       "      <td>0.224400</td>\n",
       "      <td>16.0</td>\n",
       "      <td>Estimated percentage of residents that used mo...</td>\n",
       "      <td>NaN</td>\n",
       "      <td>NaN</td>\n",
       "      <td>NaN</td>\n",
       "      <td>NaN</td>\n",
       "    </tr>\n",
       "    <tr>\n",
       "      <th>383</th>\n",
       "      <td>2020</td>\n",
       "      <td>4114</td>\n",
       "      <td>Queens</td>\n",
       "      <td>Far Rockaway, Breezy Point &amp; Broad Channel</td>\n",
       "      <td>QN Community District 14</td>\n",
       "      <td>4114</td>\n",
       "      <td>0.179</td>\n",
       "      <td>25920</td>\n",
       "      <td>0.350</td>\n",
       "      <td>0.353</td>\n",
       "      <td>...</td>\n",
       "      <td>NaN</td>\n",
       "      <td>NaN</td>\n",
       "      <td>NaN</td>\n",
       "      <td>NaN</td>\n",
       "      <td>NaN</td>\n",
       "      <td>NaN</td>\n",
       "      <td>NaN</td>\n",
       "      <td>NaN</td>\n",
       "      <td>NaN</td>\n",
       "      <td>NaN</td>\n",
       "    </tr>\n",
       "    <tr>\n",
       "      <th>125</th>\n",
       "      <td>2020</td>\n",
       "      <td>3807</td>\n",
       "      <td>Manhattan</td>\n",
       "      <td>Chelsea, Clinton &amp; Midtown Business District</td>\n",
       "      <td>MN Community Districts 4 &amp; 5</td>\n",
       "      <td>3807</td>\n",
       "      <td>0.108</td>\n",
       "      <td>65905</td>\n",
       "      <td>0.609</td>\n",
       "      <td>0.054</td>\n",
       "      <td>...</td>\n",
       "      <td>NaN</td>\n",
       "      <td>NaN</td>\n",
       "      <td>NaN</td>\n",
       "      <td>NaN</td>\n",
       "      <td>NaN</td>\n",
       "      <td>NaN</td>\n",
       "      <td>NaN</td>\n",
       "      <td>NaN</td>\n",
       "      <td>NaN</td>\n",
       "      <td>NaN</td>\n",
       "    </tr>\n",
       "    <tr>\n",
       "      <th>342</th>\n",
       "      <td>2020</td>\n",
       "      <td>4108</td>\n",
       "      <td>Queens</td>\n",
       "      <td>Forest Hills &amp; Rego Park</td>\n",
       "      <td>QN Community District 6</td>\n",
       "      <td>4108</td>\n",
       "      <td>0.163</td>\n",
       "      <td>41029</td>\n",
       "      <td>0.512</td>\n",
       "      <td>0.029</td>\n",
       "      <td>...</td>\n",
       "      <td>41.0</td>\n",
       "      <td>Percentage of people eligible for SNAP receivi...</td>\n",
       "      <td>Tax Credit Utilization</td>\n",
       "      <td>0.917000</td>\n",
       "      <td>36.0</td>\n",
       "      <td>Percentage of eligible Tax Units claiming EITC</td>\n",
       "      <td>Adults With High School Diploma</td>\n",
       "      <td>0.911013</td>\n",
       "      <td>8.0</td>\n",
       "      <td>Percentage of adults with a high school degree...</td>\n",
       "    </tr>\n",
       "    <tr>\n",
       "      <th>376</th>\n",
       "      <td>2020</td>\n",
       "      <td>4113</td>\n",
       "      <td>Queens</td>\n",
       "      <td>Howard Beach &amp; Ozone Park</td>\n",
       "      <td>QN Community District 10</td>\n",
       "      <td>4113</td>\n",
       "      <td>0.189</td>\n",
       "      <td>27016</td>\n",
       "      <td>0.216</td>\n",
       "      <td>0.151</td>\n",
       "      <td>...</td>\n",
       "      <td>43.0</td>\n",
       "      <td>Average (mean) travel time to work in minutes</td>\n",
       "      <td>NaN</td>\n",
       "      <td>NaN</td>\n",
       "      <td>NaN</td>\n",
       "      <td>NaN</td>\n",
       "      <td>NaN</td>\n",
       "      <td>NaN</td>\n",
       "      <td>NaN</td>\n",
       "      <td>NaN</td>\n",
       "    </tr>\n",
       "    <tr>\n",
       "      <th>107</th>\n",
       "      <td>2020</td>\n",
       "      <td>3805</td>\n",
       "      <td>Manhattan</td>\n",
       "      <td>Upper East Side</td>\n",
       "      <td>MN Community District 8</td>\n",
       "      <td>3805</td>\n",
       "      <td>0.073</td>\n",
       "      <td>71933</td>\n",
       "      <td>0.761</td>\n",
       "      <td>0.028</td>\n",
       "      <td>...</td>\n",
       "      <td>4.0</td>\n",
       "      <td>Average (mean) travel time to work in minutes</td>\n",
       "      <td>NaN</td>\n",
       "      <td>NaN</td>\n",
       "      <td>NaN</td>\n",
       "      <td>NaN</td>\n",
       "      <td>NaN</td>\n",
       "      <td>NaN</td>\n",
       "      <td>NaN</td>\n",
       "      <td>NaN</td>\n",
       "    </tr>\n",
       "    <tr>\n",
       "      <th>252</th>\n",
       "      <td>2020</td>\n",
       "      <td>4012</td>\n",
       "      <td>Brooklyn</td>\n",
       "      <td>Sunset Park &amp; Windsor Terrace</td>\n",
       "      <td>BK Community District 7</td>\n",
       "      <td>4012</td>\n",
       "      <td>0.294</td>\n",
       "      <td>20787</td>\n",
       "      <td>0.223</td>\n",
       "      <td>0.026</td>\n",
       "      <td>...</td>\n",
       "      <td>NaN</td>\n",
       "      <td>NaN</td>\n",
       "      <td>NaN</td>\n",
       "      <td>NaN</td>\n",
       "      <td>NaN</td>\n",
       "      <td>NaN</td>\n",
       "      <td>NaN</td>\n",
       "      <td>NaN</td>\n",
       "      <td>NaN</td>\n",
       "      <td>NaN</td>\n",
       "    </tr>\n",
       "    <tr>\n",
       "      <th>194</th>\n",
       "      <td>2020</td>\n",
       "      <td>4004</td>\n",
       "      <td>Brooklyn</td>\n",
       "      <td>Brooklyn Heights &amp; Fort Greene</td>\n",
       "      <td>BK Community District 2</td>\n",
       "      <td>4004</td>\n",
       "      <td>0.121</td>\n",
       "      <td>44313</td>\n",
       "      <td>0.447</td>\n",
       "      <td>0.261</td>\n",
       "      <td>...</td>\n",
       "      <td>13.0</td>\n",
       "      <td>Number of pre-foreclosure notices issued per 1...</td>\n",
       "      <td>Financial Counseling</td>\n",
       "      <td>7.997022</td>\n",
       "      <td>2.0</td>\n",
       "      <td>Full-Time Equivalent Financial Counselors per ...</td>\n",
       "      <td>NaN</td>\n",
       "      <td>NaN</td>\n",
       "      <td>NaN</td>\n",
       "      <td>NaN</td>\n",
       "    </tr>\n",
       "    <tr>\n",
       "      <th>175</th>\n",
       "      <td>2020</td>\n",
       "      <td>4001</td>\n",
       "      <td>Brooklyn</td>\n",
       "      <td>Greenpoint &amp; Williamsburg</td>\n",
       "      <td>BK Community District 1</td>\n",
       "      <td>4001</td>\n",
       "      <td>0.173</td>\n",
       "      <td>35889</td>\n",
       "      <td>0.631</td>\n",
       "      <td>0.042</td>\n",
       "      <td>...</td>\n",
       "      <td>2.0</td>\n",
       "      <td>Percentage of people eligible for SNAP receivi...</td>\n",
       "      <td>Tax Credit Utilization</td>\n",
       "      <td>0.946000</td>\n",
       "      <td>21.0</td>\n",
       "      <td>Percentage of eligible Tax Units claiming EITC</td>\n",
       "      <td>Adults With High School Diploma</td>\n",
       "      <td>0.845691</td>\n",
       "      <td>19.0</td>\n",
       "      <td>Percentage of adults with a high school degree...</td>\n",
       "    </tr>\n",
       "    <tr>\n",
       "      <th>49</th>\n",
       "      <td>2020</td>\n",
       "      <td>3707</td>\n",
       "      <td>Bronx</td>\n",
       "      <td>Morris Heights, Fordham South &amp; Mount Hope</td>\n",
       "      <td>BX Community District 5</td>\n",
       "      <td>3707</td>\n",
       "      <td>0.344</td>\n",
       "      <td>15628</td>\n",
       "      <td>0.013</td>\n",
       "      <td>0.274</td>\n",
       "      <td>...</td>\n",
       "      <td>NaN</td>\n",
       "      <td>NaN</td>\n",
       "      <td>NaN</td>\n",
       "      <td>NaN</td>\n",
       "      <td>NaN</td>\n",
       "      <td>NaN</td>\n",
       "      <td>NaN</td>\n",
       "      <td>NaN</td>\n",
       "      <td>NaN</td>\n",
       "      <td>NaN</td>\n",
       "    </tr>\n",
       "  </tbody>\n",
       "</table>\n",
       "<p>10 rows × 52 columns</p>\n",
       "</div>"
      ],
      "text/plain": [
       "     Year Published  PUMA    Borough  \\\n",
       "374            2020  4113     Queens   \n",
       "383            2020  4114     Queens   \n",
       "125            2020  3807  Manhattan   \n",
       "342            2020  4108     Queens   \n",
       "376            2020  4113     Queens   \n",
       "107            2020  3805  Manhattan   \n",
       "252            2020  4012   Brooklyn   \n",
       "194            2020  4004   Brooklyn   \n",
       "175            2020  4001   Brooklyn   \n",
       "49             2020  3707      Bronx   \n",
       "\n",
       "                                    Neighborhoods  \\\n",
       "374                     Howard Beach & Ozone Park   \n",
       "383    Far Rockaway, Breezy Point & Broad Channel   \n",
       "125  Chelsea, Clinton & Midtown Business District   \n",
       "342                      Forest Hills & Rego Park   \n",
       "376                     Howard Beach & Ozone Park   \n",
       "107                               Upper East Side   \n",
       "252                 Sunset Park & Windsor Terrace   \n",
       "194                Brooklyn Heights & Fort Greene   \n",
       "175                     Greenpoint & Williamsburg   \n",
       "49     Morris Heights, Fordham South & Mount Hope   \n",
       "\n",
       "                               CD  Join  NYC_Poverty_Rate  Median_Income  \\\n",
       "374      QN Community District 10  4113             0.189          27016   \n",
       "383      QN Community District 14  4114             0.179          25920   \n",
       "125  MN Community Districts 4 & 5  3807             0.108          65905   \n",
       "342       QN Community District 6  4108             0.163          41029   \n",
       "376      QN Community District 10  4113             0.189          27016   \n",
       "107       MN Community District 8  3805             0.073          71933   \n",
       "252       BK Community District 7  4012             0.294          20787   \n",
       "194       BK Community District 2  4004             0.121          44313   \n",
       "175       BK Community District 1  4001             0.173          35889   \n",
       "49        BX Community District 5  3707             0.344          15628   \n",
       "\n",
       "     Perc_White  Perc_Black  ...  Ind6Rank  \\\n",
       "374       0.216       0.151  ...      22.0   \n",
       "383       0.350       0.353  ...       NaN   \n",
       "125       0.609       0.054  ...       NaN   \n",
       "342       0.512       0.029  ...      41.0   \n",
       "376       0.216       0.151  ...      43.0   \n",
       "107       0.761       0.028  ...       4.0   \n",
       "252       0.223       0.026  ...       NaN   \n",
       "194       0.447       0.261  ...      13.0   \n",
       "175       0.631       0.042  ...       2.0   \n",
       "49        0.013       0.274  ...       NaN   \n",
       "\n",
       "                                        Ind6Definition  \\\n",
       "374  Percentage of bank & credit union branches off...   \n",
       "383                                                NaN   \n",
       "125                                                NaN   \n",
       "342  Percentage of people eligible for SNAP receivi...   \n",
       "376      Average (mean) travel time to work in minutes   \n",
       "107      Average (mean) travel time to work in minutes   \n",
       "252                                                NaN   \n",
       "194  Number of pre-foreclosure notices issued per 1...   \n",
       "175  Percentage of people eligible for SNAP receivi...   \n",
       "49                                                 NaN   \n",
       "\n",
       "                           Ind7 Ind7Outcome Ind7Rank  \\\n",
       "374  Mobile Banking Utilization    0.224400     16.0   \n",
       "383                         NaN         NaN      NaN   \n",
       "125                         NaN         NaN      NaN   \n",
       "342      Tax Credit Utilization    0.917000     36.0   \n",
       "376                         NaN         NaN      NaN   \n",
       "107                         NaN         NaN      NaN   \n",
       "252                         NaN         NaN      NaN   \n",
       "194        Financial Counseling    7.997022      2.0   \n",
       "175      Tax Credit Utilization    0.946000     21.0   \n",
       "49                          NaN         NaN      NaN   \n",
       "\n",
       "                                        Ind7Definition  \\\n",
       "374  Estimated percentage of residents that used mo...   \n",
       "383                                                NaN   \n",
       "125                                                NaN   \n",
       "342     Percentage of eligible Tax Units claiming EITC   \n",
       "376                                                NaN   \n",
       "107                                                NaN   \n",
       "252                                                NaN   \n",
       "194  Full-Time Equivalent Financial Counselors per ...   \n",
       "175     Percentage of eligible Tax Units claiming EITC   \n",
       "49                                                 NaN   \n",
       "\n",
       "                                Ind8 Ind8Outcome  Ind8Rank  \\\n",
       "374                              NaN         NaN       NaN   \n",
       "383                              NaN         NaN       NaN   \n",
       "125                              NaN         NaN       NaN   \n",
       "342  Adults With High School Diploma    0.911013       8.0   \n",
       "376                              NaN         NaN       NaN   \n",
       "107                              NaN         NaN       NaN   \n",
       "252                              NaN         NaN       NaN   \n",
       "194                              NaN         NaN       NaN   \n",
       "175  Adults With High School Diploma    0.845691      19.0   \n",
       "49                               NaN         NaN       NaN   \n",
       "\n",
       "                                        Ind8Definition  \n",
       "374                                                NaN  \n",
       "383                                                NaN  \n",
       "125                                                NaN  \n",
       "342  Percentage of adults with a high school degree...  \n",
       "376                                                NaN  \n",
       "107                                                NaN  \n",
       "252                                                NaN  \n",
       "194                                                NaN  \n",
       "175  Percentage of adults with a high school degree...  \n",
       "49                                                 NaN  \n",
       "\n",
       "[10 rows x 52 columns]"
      ]
     },
     "execution_count": 44,
     "metadata": {},
     "output_type": "execute_result"
    }
   ],
   "source": [
    "df.sample(10)"
   ]
  },
  {
   "cell_type": "markdown",
   "id": "4323f14a-08eb-41b3-8b38-9abf852d45e4",
   "metadata": {},
   "source": [
    "# Data Visualization\n",
    "We will do the data visualization: visualize in the bar graph and the scatterplot then figure out the relationship or correlation between % of black people and Median Incomes."
   ]
  },
  {
   "cell_type": "code",
   "execution_count": 45,
   "id": "ccef582e-213d-4eef-b8c6-ce326dd8e17c",
   "metadata": {},
   "outputs": [
    {
     "data": {
      "text/html": [
       "        <script type=\"text/javascript\">\n",
       "        window.PlotlyConfig = {MathJaxConfig: 'local'};\n",
       "        if (window.MathJax && window.MathJax.Hub && window.MathJax.Hub.Config) {window.MathJax.Hub.Config({SVG: {font: \"STIX-Web\"}});}\n",
       "        if (typeof require !== 'undefined') {\n",
       "        require.undef(\"plotly\");\n",
       "        requirejs.config({\n",
       "            paths: {\n",
       "                'plotly': ['https://cdn.plot.ly/plotly-2.32.0.min']\n",
       "            }\n",
       "        });\n",
       "        require(['plotly'], function(Plotly) {\n",
       "            window._Plotly = Plotly;\n",
       "        });\n",
       "        }\n",
       "        </script>\n",
       "        "
      ]
     },
     "metadata": {},
     "output_type": "display_data"
    },
    {
     "data": {
      "application/vnd.plotly.v1+json": {
       "config": {
        "plotlyServerURL": "https://plot.ly"
       },
       "data": [
        {
         "alignmentgroup": "True",
         "hovertemplate": "Perc_Black=%{x}<br>Median_Income=%{y}<extra></extra>",
         "legendgroup": "",
         "marker": {
          "color": "#000000",
          "pattern": {
           "shape": ""
          }
         },
         "name": "",
         "offsetgroup": "",
         "orientation": "v",
         "showlegend": false,
         "textposition": "auto",
         "type": "bar",
         "x": [
          0.124,
          0.124,
          0.124,
          0.124,
          0.124,
          0.124,
          0.124,
          0.655,
          0.154,
          0.655,
          0.655,
          0.655,
          0.655,
          0.655,
          0.655,
          0.285,
          0.285,
          0.154,
          0.285,
          0.285,
          0.285,
          0.285,
          0.285,
          0.215,
          0.215,
          0.215,
          0.215,
          0.215,
          0.215,
          0.215,
          0.215,
          0.301,
          0.301,
          0.301,
          0.301,
          0.215,
          0.301,
          0.301,
          0.301,
          0.154,
          0.154,
          0.154,
          0.154,
          0.154,
          0.274,
          0.274,
          0.274,
          0.274,
          0.274,
          0.274,
          0.274,
          0.308,
          0.032,
          0.308,
          0.308,
          0.308,
          0.308,
          0.308,
          0.308,
          0.288,
          0.288,
          0.032,
          0.288,
          0.288,
          0.288,
          0.288,
          0.288,
          0.282,
          0.282,
          0.282,
          0.042,
          0.282,
          0.282,
          0.282,
          0.282,
          0.078,
          0.078,
          0.078,
          0.078,
          0.042,
          0.078,
          0.078,
          0.078,
          0.215,
          0.215,
          0.215,
          0.215,
          0.215,
          0.571,
          0.571,
          0.571,
          0.571,
          0.571,
          0.571,
          0.571,
          0.298,
          0.742,
          0.298,
          0.298,
          0.298,
          0.298,
          0.298,
          0.298,
          0.028,
          0.028,
          0.742,
          0.028,
          0.028,
          0.028,
          0.028,
          0.028,
          0.06,
          0.06,
          0.06,
          0.015,
          0.06,
          0.06,
          0.06,
          0.06,
          0.054,
          0.054,
          0.054,
          0.054,
          0.015,
          0.054,
          0.054,
          0.054,
          0.032,
          0.032,
          0.032,
          0.032,
          0.032,
          0.079,
          0.079,
          0.079,
          0.079,
          0.079,
          0.079,
          0.079,
          0.022,
          0.063,
          0.022,
          0.022,
          0.022,
          0.022,
          0.022,
          0.022,
          0.009,
          0.009,
          0.063,
          0.009,
          0.009,
          0.009,
          0.009,
          0.009,
          0.037,
          0.037,
          0.037,
          0.079,
          0.037,
          0.037,
          0.037,
          0.037,
          0.221,
          0.221,
          0.221,
          0.221,
          0.079,
          0.221,
          0.221,
          0.221,
          0.042,
          0.042,
          0.042,
          0.042,
          0.042,
          0.183,
          0.183,
          0.183,
          0.183,
          0.183,
          0.183,
          0.183,
          0.53,
          0.151,
          0.53,
          0.53,
          0.53,
          0.53,
          0.53,
          0.53,
          0.261,
          0.261,
          0.151,
          0.261,
          0.261,
          0.261,
          0.261,
          0.261,
          0.068,
          0.068,
          0.068,
          0.068,
          0.068,
          0.068,
          0.068,
          0.593,
          0.593,
          0.593,
          0.593,
          0.593,
          0.593,
          0.593,
          0.742,
          0.742,
          0.742,
          0.742,
          0.742,
          0.522,
          0.522,
          0.522,
          0.522,
          0.522,
          0.522,
          0.522,
          0.63,
          0.63,
          0.63,
          0.63,
          0.63,
          0.63,
          0.63,
          0.873,
          0.873,
          0.873,
          0.873,
          0.873,
          0.873,
          0.873,
          0.663,
          0.663,
          0.663,
          0.663,
          0.663,
          0.663,
          0.663,
          0.026,
          0.026,
          0.026,
          0.026,
          0.026,
          0.026,
          0.026,
          0.015,
          0.015,
          0.015,
          0.015,
          0.015,
          0.023,
          0.023,
          0.023,
          0.023,
          0.023,
          0.023,
          0.023,
          0.32,
          0.32,
          0.32,
          0.32,
          0.32,
          0.32,
          0.32,
          0.038,
          0.038,
          0.038,
          0.038,
          0.038,
          0.038,
          0.038,
          0.009,
          0.009,
          0.009,
          0.009,
          0.009,
          0.009,
          0.009,
          0.106,
          0.106,
          0.106,
          0.106,
          0.106,
          0.106,
          0.106,
          0.063,
          0.063,
          0.063,
          0.063,
          0.063,
          0.048,
          0.048,
          0.048,
          0.048,
          0.048,
          0.048,
          0.048,
          0.021,
          0.021,
          0.021,
          0.021,
          0.021,
          0.021,
          0.021,
          0.018,
          0.018,
          0.018,
          0.018,
          0.018,
          0.018,
          0.018,
          0.561,
          0.561,
          0.561,
          0.561,
          0.561,
          0.561,
          0.561,
          0.114,
          0.114,
          0.114,
          0.114,
          0.114,
          0.114,
          0.114,
          0.079,
          0.079,
          0.079,
          0.079,
          0.079,
          0.029,
          0.029,
          0.029,
          0.029,
          0.029,
          0.029,
          0.029,
          0.013,
          0.013,
          0.013,
          0.013,
          0.013,
          0.013,
          0.013,
          0.015,
          0.015,
          0.015,
          0.015,
          0.015,
          0.015,
          0.015,
          0.058,
          0.058,
          0.058,
          0.058,
          0.058,
          0.058,
          0.058,
          0.621,
          0.621,
          0.621,
          0.621,
          0.621,
          0.621,
          0.621,
          0.151,
          0.151,
          0.151,
          0.151,
          0.151,
          0.353,
          0.353,
          0.353,
          0.353,
          0.353,
          0.353,
          0.353
         ],
         "xaxis": "x",
         "y": [
          30437,
          30437,
          30437,
          30437,
          30437,
          30437,
          30437,
          26136,
          18674,
          26136,
          26136,
          26136,
          26136,
          26136,
          26136,
          31573,
          31573,
          18674,
          31573,
          31573,
          31573,
          31573,
          31573,
          25358,
          25358,
          25358,
          24561,
          25358,
          25358,
          25358,
          25358,
          14213,
          14213,
          14213,
          14213,
          24561,
          14213,
          14213,
          14213,
          18674,
          18674,
          18674,
          18674,
          18674,
          15628,
          15628,
          15628,
          15628,
          15628,
          15628,
          15628,
          16710,
          73067,
          16710,
          16710,
          16710,
          16710,
          16710,
          16710,
          20300,
          20300,
          73067,
          20300,
          20300,
          20300,
          20300,
          20300,
          15510,
          15510,
          15510,
          35889,
          15510,
          15510,
          15510,
          15510,
          20421,
          20421,
          20421,
          20421,
          35889,
          20421,
          20421,
          20421,
          24561,
          24561,
          24561,
          24561,
          24561,
          26075,
          26075,
          26075,
          26075,
          26075,
          26075,
          26075,
          19510,
          19274,
          19510,
          19510,
          19510,
          19510,
          19510,
          19510,
          71933,
          71933,
          19274,
          71933,
          71933,
          71933,
          71933,
          71933,
          65844,
          65844,
          65844,
          30858,
          65844,
          65844,
          65844,
          65844,
          65905,
          65905,
          65905,
          65905,
          30858,
          65905,
          65905,
          65905,
          73067,
          73067,
          73067,
          73067,
          73067,
          25667,
          25667,
          25667,
          25667,
          25667,
          25667,
          25667,
          79181,
          31658,
          79181,
          79181,
          79181,
          79181,
          79181,
          79181,
          40637,
          40637,
          31658,
          40637,
          40637,
          40637,
          40637,
          40637,
          35413,
          35413,
          35413,
          21889,
          35413,
          35413,
          35413,
          35413,
          31347,
          31347,
          31347,
          31347,
          21889,
          31347,
          31347,
          31347,
          35889,
          35889,
          35889,
          35889,
          35889,
          22264,
          22264,
          22264,
          22264,
          22264,
          22264,
          22264,
          24627,
          27016,
          24627,
          24627,
          24627,
          24627,
          24627,
          24627,
          44313,
          44313,
          27016,
          44313,
          44313,
          44313,
          44313,
          44313,
          57393,
          57393,
          57393,
          57393,
          57393,
          57393,
          57393,
          29895,
          29895,
          29895,
          29895,
          29895,
          29895,
          29895,
          19274,
          19274,
          19274,
          19274,
          19274,
          22796,
          22796,
          22796,
          22796,
          22796,
          22796,
          22796,
          32210,
          32210,
          32210,
          32210,
          32210,
          32210,
          32210,
          27248,
          27248,
          27248,
          27248,
          27248,
          27248,
          27248,
          26140,
          26140,
          26140,
          26140,
          26140,
          26140,
          26140,
          20787,
          20787,
          20787,
          20787,
          20787,
          20787,
          20787,
          30858,
          30858,
          30858,
          30858,
          30858,
          21103,
          21103,
          21103,
          21103,
          21103,
          21103,
          21103,
          25708,
          25708,
          25708,
          25708,
          25708,
          25708,
          25708,
          29307,
          29307,
          29307,
          29307,
          29307,
          29307,
          29307,
          23329,
          23329,
          23329,
          23329,
          23329,
          23329,
          23329,
          19345,
          19345,
          19345,
          19345,
          19345,
          19345,
          19345,
          31658,
          31658,
          31658,
          31658,
          31658,
          22853,
          22853,
          22853,
          22853,
          22853,
          22853,
          22853,
          25517,
          25517,
          25517,
          25517,
          25517,
          25517,
          25517,
          37432,
          37432,
          37432,
          37432,
          37432,
          37432,
          37432,
          32961,
          32961,
          32961,
          32961,
          32961,
          32961,
          32961,
          30239,
          30239,
          30239,
          30239,
          30239,
          30239,
          30239,
          21889,
          21889,
          21889,
          21889,
          21889,
          41029,
          41029,
          41029,
          41029,
          41029,
          41029,
          41029,
          31245,
          31245,
          31245,
          31245,
          31245,
          31245,
          31245,
          31420,
          31420,
          31420,
          31420,
          31420,
          31420,
          31420,
          26357,
          26357,
          26357,
          26357,
          26357,
          26357,
          26357,
          25946,
          25946,
          25946,
          25946,
          25946,
          25946,
          25946,
          27016,
          27016,
          27016,
          27016,
          27016,
          25920,
          25920,
          25920,
          25920,
          25920,
          25920,
          25920
         ],
         "yaxis": "y"
        }
       ],
       "layout": {
        "barmode": "relative",
        "legend": {
         "tracegroupgap": 0
        },
        "margin": {
         "t": 60
        },
        "template": {
         "data": {
          "bar": [
           {
            "error_x": {
             "color": "#2a3f5f"
            },
            "error_y": {
             "color": "#2a3f5f"
            },
            "marker": {
             "line": {
              "color": "#E5ECF6",
              "width": 0.5
             },
             "pattern": {
              "fillmode": "overlay",
              "size": 10,
              "solidity": 0.2
             }
            },
            "type": "bar"
           }
          ],
          "barpolar": [
           {
            "marker": {
             "line": {
              "color": "#E5ECF6",
              "width": 0.5
             },
             "pattern": {
              "fillmode": "overlay",
              "size": 10,
              "solidity": 0.2
             }
            },
            "type": "barpolar"
           }
          ],
          "carpet": [
           {
            "aaxis": {
             "endlinecolor": "#2a3f5f",
             "gridcolor": "white",
             "linecolor": "white",
             "minorgridcolor": "white",
             "startlinecolor": "#2a3f5f"
            },
            "baxis": {
             "endlinecolor": "#2a3f5f",
             "gridcolor": "white",
             "linecolor": "white",
             "minorgridcolor": "white",
             "startlinecolor": "#2a3f5f"
            },
            "type": "carpet"
           }
          ],
          "choropleth": [
           {
            "colorbar": {
             "outlinewidth": 0,
             "ticks": ""
            },
            "type": "choropleth"
           }
          ],
          "contour": [
           {
            "colorbar": {
             "outlinewidth": 0,
             "ticks": ""
            },
            "colorscale": [
             [
              0,
              "#0d0887"
             ],
             [
              0.1111111111111111,
              "#46039f"
             ],
             [
              0.2222222222222222,
              "#7201a8"
             ],
             [
              0.3333333333333333,
              "#9c179e"
             ],
             [
              0.4444444444444444,
              "#bd3786"
             ],
             [
              0.5555555555555556,
              "#d8576b"
             ],
             [
              0.6666666666666666,
              "#ed7953"
             ],
             [
              0.7777777777777778,
              "#fb9f3a"
             ],
             [
              0.8888888888888888,
              "#fdca26"
             ],
             [
              1,
              "#f0f921"
             ]
            ],
            "type": "contour"
           }
          ],
          "contourcarpet": [
           {
            "colorbar": {
             "outlinewidth": 0,
             "ticks": ""
            },
            "type": "contourcarpet"
           }
          ],
          "heatmap": [
           {
            "colorbar": {
             "outlinewidth": 0,
             "ticks": ""
            },
            "colorscale": [
             [
              0,
              "#0d0887"
             ],
             [
              0.1111111111111111,
              "#46039f"
             ],
             [
              0.2222222222222222,
              "#7201a8"
             ],
             [
              0.3333333333333333,
              "#9c179e"
             ],
             [
              0.4444444444444444,
              "#bd3786"
             ],
             [
              0.5555555555555556,
              "#d8576b"
             ],
             [
              0.6666666666666666,
              "#ed7953"
             ],
             [
              0.7777777777777778,
              "#fb9f3a"
             ],
             [
              0.8888888888888888,
              "#fdca26"
             ],
             [
              1,
              "#f0f921"
             ]
            ],
            "type": "heatmap"
           }
          ],
          "heatmapgl": [
           {
            "colorbar": {
             "outlinewidth": 0,
             "ticks": ""
            },
            "colorscale": [
             [
              0,
              "#0d0887"
             ],
             [
              0.1111111111111111,
              "#46039f"
             ],
             [
              0.2222222222222222,
              "#7201a8"
             ],
             [
              0.3333333333333333,
              "#9c179e"
             ],
             [
              0.4444444444444444,
              "#bd3786"
             ],
             [
              0.5555555555555556,
              "#d8576b"
             ],
             [
              0.6666666666666666,
              "#ed7953"
             ],
             [
              0.7777777777777778,
              "#fb9f3a"
             ],
             [
              0.8888888888888888,
              "#fdca26"
             ],
             [
              1,
              "#f0f921"
             ]
            ],
            "type": "heatmapgl"
           }
          ],
          "histogram": [
           {
            "marker": {
             "pattern": {
              "fillmode": "overlay",
              "size": 10,
              "solidity": 0.2
             }
            },
            "type": "histogram"
           }
          ],
          "histogram2d": [
           {
            "colorbar": {
             "outlinewidth": 0,
             "ticks": ""
            },
            "colorscale": [
             [
              0,
              "#0d0887"
             ],
             [
              0.1111111111111111,
              "#46039f"
             ],
             [
              0.2222222222222222,
              "#7201a8"
             ],
             [
              0.3333333333333333,
              "#9c179e"
             ],
             [
              0.4444444444444444,
              "#bd3786"
             ],
             [
              0.5555555555555556,
              "#d8576b"
             ],
             [
              0.6666666666666666,
              "#ed7953"
             ],
             [
              0.7777777777777778,
              "#fb9f3a"
             ],
             [
              0.8888888888888888,
              "#fdca26"
             ],
             [
              1,
              "#f0f921"
             ]
            ],
            "type": "histogram2d"
           }
          ],
          "histogram2dcontour": [
           {
            "colorbar": {
             "outlinewidth": 0,
             "ticks": ""
            },
            "colorscale": [
             [
              0,
              "#0d0887"
             ],
             [
              0.1111111111111111,
              "#46039f"
             ],
             [
              0.2222222222222222,
              "#7201a8"
             ],
             [
              0.3333333333333333,
              "#9c179e"
             ],
             [
              0.4444444444444444,
              "#bd3786"
             ],
             [
              0.5555555555555556,
              "#d8576b"
             ],
             [
              0.6666666666666666,
              "#ed7953"
             ],
             [
              0.7777777777777778,
              "#fb9f3a"
             ],
             [
              0.8888888888888888,
              "#fdca26"
             ],
             [
              1,
              "#f0f921"
             ]
            ],
            "type": "histogram2dcontour"
           }
          ],
          "mesh3d": [
           {
            "colorbar": {
             "outlinewidth": 0,
             "ticks": ""
            },
            "type": "mesh3d"
           }
          ],
          "parcoords": [
           {
            "line": {
             "colorbar": {
              "outlinewidth": 0,
              "ticks": ""
             }
            },
            "type": "parcoords"
           }
          ],
          "pie": [
           {
            "automargin": true,
            "type": "pie"
           }
          ],
          "scatter": [
           {
            "fillpattern": {
             "fillmode": "overlay",
             "size": 10,
             "solidity": 0.2
            },
            "type": "scatter"
           }
          ],
          "scatter3d": [
           {
            "line": {
             "colorbar": {
              "outlinewidth": 0,
              "ticks": ""
             }
            },
            "marker": {
             "colorbar": {
              "outlinewidth": 0,
              "ticks": ""
             }
            },
            "type": "scatter3d"
           }
          ],
          "scattercarpet": [
           {
            "marker": {
             "colorbar": {
              "outlinewidth": 0,
              "ticks": ""
             }
            },
            "type": "scattercarpet"
           }
          ],
          "scattergeo": [
           {
            "marker": {
             "colorbar": {
              "outlinewidth": 0,
              "ticks": ""
             }
            },
            "type": "scattergeo"
           }
          ],
          "scattergl": [
           {
            "marker": {
             "colorbar": {
              "outlinewidth": 0,
              "ticks": ""
             }
            },
            "type": "scattergl"
           }
          ],
          "scattermapbox": [
           {
            "marker": {
             "colorbar": {
              "outlinewidth": 0,
              "ticks": ""
             }
            },
            "type": "scattermapbox"
           }
          ],
          "scatterpolar": [
           {
            "marker": {
             "colorbar": {
              "outlinewidth": 0,
              "ticks": ""
             }
            },
            "type": "scatterpolar"
           }
          ],
          "scatterpolargl": [
           {
            "marker": {
             "colorbar": {
              "outlinewidth": 0,
              "ticks": ""
             }
            },
            "type": "scatterpolargl"
           }
          ],
          "scatterternary": [
           {
            "marker": {
             "colorbar": {
              "outlinewidth": 0,
              "ticks": ""
             }
            },
            "type": "scatterternary"
           }
          ],
          "surface": [
           {
            "colorbar": {
             "outlinewidth": 0,
             "ticks": ""
            },
            "colorscale": [
             [
              0,
              "#0d0887"
             ],
             [
              0.1111111111111111,
              "#46039f"
             ],
             [
              0.2222222222222222,
              "#7201a8"
             ],
             [
              0.3333333333333333,
              "#9c179e"
             ],
             [
              0.4444444444444444,
              "#bd3786"
             ],
             [
              0.5555555555555556,
              "#d8576b"
             ],
             [
              0.6666666666666666,
              "#ed7953"
             ],
             [
              0.7777777777777778,
              "#fb9f3a"
             ],
             [
              0.8888888888888888,
              "#fdca26"
             ],
             [
              1,
              "#f0f921"
             ]
            ],
            "type": "surface"
           }
          ],
          "table": [
           {
            "cells": {
             "fill": {
              "color": "#EBF0F8"
             },
             "line": {
              "color": "white"
             }
            },
            "header": {
             "fill": {
              "color": "#C8D4E3"
             },
             "line": {
              "color": "white"
             }
            },
            "type": "table"
           }
          ]
         },
         "layout": {
          "annotationdefaults": {
           "arrowcolor": "#2a3f5f",
           "arrowhead": 0,
           "arrowwidth": 1
          },
          "autotypenumbers": "strict",
          "coloraxis": {
           "colorbar": {
            "outlinewidth": 0,
            "ticks": ""
           }
          },
          "colorscale": {
           "diverging": [
            [
             0,
             "#8e0152"
            ],
            [
             0.1,
             "#c51b7d"
            ],
            [
             0.2,
             "#de77ae"
            ],
            [
             0.3,
             "#f1b6da"
            ],
            [
             0.4,
             "#fde0ef"
            ],
            [
             0.5,
             "#f7f7f7"
            ],
            [
             0.6,
             "#e6f5d0"
            ],
            [
             0.7,
             "#b8e186"
            ],
            [
             0.8,
             "#7fbc41"
            ],
            [
             0.9,
             "#4d9221"
            ],
            [
             1,
             "#276419"
            ]
           ],
           "sequential": [
            [
             0,
             "#0d0887"
            ],
            [
             0.1111111111111111,
             "#46039f"
            ],
            [
             0.2222222222222222,
             "#7201a8"
            ],
            [
             0.3333333333333333,
             "#9c179e"
            ],
            [
             0.4444444444444444,
             "#bd3786"
            ],
            [
             0.5555555555555556,
             "#d8576b"
            ],
            [
             0.6666666666666666,
             "#ed7953"
            ],
            [
             0.7777777777777778,
             "#fb9f3a"
            ],
            [
             0.8888888888888888,
             "#fdca26"
            ],
            [
             1,
             "#f0f921"
            ]
           ],
           "sequentialminus": [
            [
             0,
             "#0d0887"
            ],
            [
             0.1111111111111111,
             "#46039f"
            ],
            [
             0.2222222222222222,
             "#7201a8"
            ],
            [
             0.3333333333333333,
             "#9c179e"
            ],
            [
             0.4444444444444444,
             "#bd3786"
            ],
            [
             0.5555555555555556,
             "#d8576b"
            ],
            [
             0.6666666666666666,
             "#ed7953"
            ],
            [
             0.7777777777777778,
             "#fb9f3a"
            ],
            [
             0.8888888888888888,
             "#fdca26"
            ],
            [
             1,
             "#f0f921"
            ]
           ]
          },
          "colorway": [
           "#636efa",
           "#EF553B",
           "#00cc96",
           "#ab63fa",
           "#FFA15A",
           "#19d3f3",
           "#FF6692",
           "#B6E880",
           "#FF97FF",
           "#FECB52"
          ],
          "font": {
           "color": "#2a3f5f"
          },
          "geo": {
           "bgcolor": "white",
           "lakecolor": "white",
           "landcolor": "#E5ECF6",
           "showlakes": true,
           "showland": true,
           "subunitcolor": "white"
          },
          "hoverlabel": {
           "align": "left"
          },
          "hovermode": "closest",
          "mapbox": {
           "style": "light"
          },
          "paper_bgcolor": "white",
          "plot_bgcolor": "#E5ECF6",
          "polar": {
           "angularaxis": {
            "gridcolor": "white",
            "linecolor": "white",
            "ticks": ""
           },
           "bgcolor": "#E5ECF6",
           "radialaxis": {
            "gridcolor": "white",
            "linecolor": "white",
            "ticks": ""
           }
          },
          "scene": {
           "xaxis": {
            "backgroundcolor": "#E5ECF6",
            "gridcolor": "white",
            "gridwidth": 2,
            "linecolor": "white",
            "showbackground": true,
            "ticks": "",
            "zerolinecolor": "white"
           },
           "yaxis": {
            "backgroundcolor": "#E5ECF6",
            "gridcolor": "white",
            "gridwidth": 2,
            "linecolor": "white",
            "showbackground": true,
            "ticks": "",
            "zerolinecolor": "white"
           },
           "zaxis": {
            "backgroundcolor": "#E5ECF6",
            "gridcolor": "white",
            "gridwidth": 2,
            "linecolor": "white",
            "showbackground": true,
            "ticks": "",
            "zerolinecolor": "white"
           }
          },
          "shapedefaults": {
           "line": {
            "color": "#2a3f5f"
           }
          },
          "ternary": {
           "aaxis": {
            "gridcolor": "white",
            "linecolor": "white",
            "ticks": ""
           },
           "baxis": {
            "gridcolor": "white",
            "linecolor": "white",
            "ticks": ""
           },
           "bgcolor": "#E5ECF6",
           "caxis": {
            "gridcolor": "white",
            "linecolor": "white",
            "ticks": ""
           }
          },
          "title": {
           "x": 0.05
          },
          "xaxis": {
           "automargin": true,
           "gridcolor": "white",
           "linecolor": "white",
           "ticks": "",
           "title": {
            "standoff": 15
           },
           "zerolinecolor": "white",
           "zerolinewidth": 2
          },
          "yaxis": {
           "automargin": true,
           "gridcolor": "white",
           "linecolor": "white",
           "ticks": "",
           "title": {
            "standoff": 15
           },
           "zerolinecolor": "white",
           "zerolinewidth": 2
          }
         }
        },
        "xaxis": {
         "anchor": "y",
         "domain": [
          0,
          1
         ],
         "title": {
          "text": "Perc_Black"
         }
        },
        "yaxis": {
         "anchor": "x",
         "domain": [
          0,
          1
         ],
         "title": {
          "text": "Median_Income"
         }
        }
       }
      },
      "text/html": [
       "<div>                            <div id=\"032c0309-28f0-43f7-bc78-93359a4efb37\" class=\"plotly-graph-div\" style=\"height:525px; width:100%;\"></div>            <script type=\"text/javascript\">                require([\"plotly\"], function(Plotly) {                    window.PLOTLYENV=window.PLOTLYENV || {};                                    if (document.getElementById(\"032c0309-28f0-43f7-bc78-93359a4efb37\")) {                    Plotly.newPlot(                        \"032c0309-28f0-43f7-bc78-93359a4efb37\",                        [{\"alignmentgroup\":\"True\",\"hovertemplate\":\"Perc_Black=%{x}\\u003cbr\\u003eMedian_Income=%{y}\\u003cextra\\u003e\\u003c\\u002fextra\\u003e\",\"legendgroup\":\"\",\"marker\":{\"color\":\"#000000\",\"pattern\":{\"shape\":\"\"}},\"name\":\"\",\"offsetgroup\":\"\",\"orientation\":\"v\",\"showlegend\":false,\"textposition\":\"auto\",\"x\":[0.124,0.124,0.124,0.124,0.124,0.124,0.124,0.655,0.154,0.655,0.655,0.655,0.655,0.655,0.655,0.285,0.285,0.154,0.285,0.285,0.285,0.285,0.285,0.215,0.215,0.215,0.215,0.215,0.215,0.215,0.215,0.301,0.301,0.301,0.301,0.215,0.301,0.301,0.301,0.154,0.154,0.154,0.154,0.154,0.274,0.274,0.274,0.274,0.274,0.274,0.274,0.308,0.032,0.308,0.308,0.308,0.308,0.308,0.308,0.288,0.288,0.032,0.288,0.288,0.288,0.288,0.288,0.282,0.282,0.282,0.042,0.282,0.282,0.282,0.282,0.078,0.078,0.078,0.078,0.042,0.078,0.078,0.078,0.215,0.215,0.215,0.215,0.215,0.571,0.571,0.571,0.571,0.571,0.571,0.571,0.298,0.742,0.298,0.298,0.298,0.298,0.298,0.298,0.028,0.028,0.742,0.028,0.028,0.028,0.028,0.028,0.06,0.06,0.06,0.015,0.06,0.06,0.06,0.06,0.054,0.054,0.054,0.054,0.015,0.054,0.054,0.054,0.032,0.032,0.032,0.032,0.032,0.079,0.079,0.079,0.079,0.079,0.079,0.079,0.022,0.063,0.022,0.022,0.022,0.022,0.022,0.022,0.009,0.009,0.063,0.009,0.009,0.009,0.009,0.009,0.037,0.037,0.037,0.079,0.037,0.037,0.037,0.037,0.221,0.221,0.221,0.221,0.079,0.221,0.221,0.221,0.042,0.042,0.042,0.042,0.042,0.183,0.183,0.183,0.183,0.183,0.183,0.183,0.53,0.151,0.53,0.53,0.53,0.53,0.53,0.53,0.261,0.261,0.151,0.261,0.261,0.261,0.261,0.261,0.068,0.068,0.068,0.068,0.068,0.068,0.068,0.593,0.593,0.593,0.593,0.593,0.593,0.593,0.742,0.742,0.742,0.742,0.742,0.522,0.522,0.522,0.522,0.522,0.522,0.522,0.63,0.63,0.63,0.63,0.63,0.63,0.63,0.873,0.873,0.873,0.873,0.873,0.873,0.873,0.663,0.663,0.663,0.663,0.663,0.663,0.663,0.026,0.026,0.026,0.026,0.026,0.026,0.026,0.015,0.015,0.015,0.015,0.015,0.023,0.023,0.023,0.023,0.023,0.023,0.023,0.32,0.32,0.32,0.32,0.32,0.32,0.32,0.038,0.038,0.038,0.038,0.038,0.038,0.038,0.009,0.009,0.009,0.009,0.009,0.009,0.009,0.106,0.106,0.106,0.106,0.106,0.106,0.106,0.063,0.063,0.063,0.063,0.063,0.048,0.048,0.048,0.048,0.048,0.048,0.048,0.021,0.021,0.021,0.021,0.021,0.021,0.021,0.018,0.018,0.018,0.018,0.018,0.018,0.018,0.561,0.561,0.561,0.561,0.561,0.561,0.561,0.114,0.114,0.114,0.114,0.114,0.114,0.114,0.079,0.079,0.079,0.079,0.079,0.029,0.029,0.029,0.029,0.029,0.029,0.029,0.013,0.013,0.013,0.013,0.013,0.013,0.013,0.015,0.015,0.015,0.015,0.015,0.015,0.015,0.058,0.058,0.058,0.058,0.058,0.058,0.058,0.621,0.621,0.621,0.621,0.621,0.621,0.621,0.151,0.151,0.151,0.151,0.151,0.353,0.353,0.353,0.353,0.353,0.353,0.353],\"xaxis\":\"x\",\"y\":[30437,30437,30437,30437,30437,30437,30437,26136,18674,26136,26136,26136,26136,26136,26136,31573,31573,18674,31573,31573,31573,31573,31573,25358,25358,25358,24561,25358,25358,25358,25358,14213,14213,14213,14213,24561,14213,14213,14213,18674,18674,18674,18674,18674,15628,15628,15628,15628,15628,15628,15628,16710,73067,16710,16710,16710,16710,16710,16710,20300,20300,73067,20300,20300,20300,20300,20300,15510,15510,15510,35889,15510,15510,15510,15510,20421,20421,20421,20421,35889,20421,20421,20421,24561,24561,24561,24561,24561,26075,26075,26075,26075,26075,26075,26075,19510,19274,19510,19510,19510,19510,19510,19510,71933,71933,19274,71933,71933,71933,71933,71933,65844,65844,65844,30858,65844,65844,65844,65844,65905,65905,65905,65905,30858,65905,65905,65905,73067,73067,73067,73067,73067,25667,25667,25667,25667,25667,25667,25667,79181,31658,79181,79181,79181,79181,79181,79181,40637,40637,31658,40637,40637,40637,40637,40637,35413,35413,35413,21889,35413,35413,35413,35413,31347,31347,31347,31347,21889,31347,31347,31347,35889,35889,35889,35889,35889,22264,22264,22264,22264,22264,22264,22264,24627,27016,24627,24627,24627,24627,24627,24627,44313,44313,27016,44313,44313,44313,44313,44313,57393,57393,57393,57393,57393,57393,57393,29895,29895,29895,29895,29895,29895,29895,19274,19274,19274,19274,19274,22796,22796,22796,22796,22796,22796,22796,32210,32210,32210,32210,32210,32210,32210,27248,27248,27248,27248,27248,27248,27248,26140,26140,26140,26140,26140,26140,26140,20787,20787,20787,20787,20787,20787,20787,30858,30858,30858,30858,30858,21103,21103,21103,21103,21103,21103,21103,25708,25708,25708,25708,25708,25708,25708,29307,29307,29307,29307,29307,29307,29307,23329,23329,23329,23329,23329,23329,23329,19345,19345,19345,19345,19345,19345,19345,31658,31658,31658,31658,31658,22853,22853,22853,22853,22853,22853,22853,25517,25517,25517,25517,25517,25517,25517,37432,37432,37432,37432,37432,37432,37432,32961,32961,32961,32961,32961,32961,32961,30239,30239,30239,30239,30239,30239,30239,21889,21889,21889,21889,21889,41029,41029,41029,41029,41029,41029,41029,31245,31245,31245,31245,31245,31245,31245,31420,31420,31420,31420,31420,31420,31420,26357,26357,26357,26357,26357,26357,26357,25946,25946,25946,25946,25946,25946,25946,27016,27016,27016,27016,27016,25920,25920,25920,25920,25920,25920,25920],\"yaxis\":\"y\",\"type\":\"bar\"}],                        {\"template\":{\"data\":{\"histogram2dcontour\":[{\"type\":\"histogram2dcontour\",\"colorbar\":{\"outlinewidth\":0,\"ticks\":\"\"},\"colorscale\":[[0.0,\"#0d0887\"],[0.1111111111111111,\"#46039f\"],[0.2222222222222222,\"#7201a8\"],[0.3333333333333333,\"#9c179e\"],[0.4444444444444444,\"#bd3786\"],[0.5555555555555556,\"#d8576b\"],[0.6666666666666666,\"#ed7953\"],[0.7777777777777778,\"#fb9f3a\"],[0.8888888888888888,\"#fdca26\"],[1.0,\"#f0f921\"]]}],\"choropleth\":[{\"type\":\"choropleth\",\"colorbar\":{\"outlinewidth\":0,\"ticks\":\"\"}}],\"histogram2d\":[{\"type\":\"histogram2d\",\"colorbar\":{\"outlinewidth\":0,\"ticks\":\"\"},\"colorscale\":[[0.0,\"#0d0887\"],[0.1111111111111111,\"#46039f\"],[0.2222222222222222,\"#7201a8\"],[0.3333333333333333,\"#9c179e\"],[0.4444444444444444,\"#bd3786\"],[0.5555555555555556,\"#d8576b\"],[0.6666666666666666,\"#ed7953\"],[0.7777777777777778,\"#fb9f3a\"],[0.8888888888888888,\"#fdca26\"],[1.0,\"#f0f921\"]]}],\"heatmap\":[{\"type\":\"heatmap\",\"colorbar\":{\"outlinewidth\":0,\"ticks\":\"\"},\"colorscale\":[[0.0,\"#0d0887\"],[0.1111111111111111,\"#46039f\"],[0.2222222222222222,\"#7201a8\"],[0.3333333333333333,\"#9c179e\"],[0.4444444444444444,\"#bd3786\"],[0.5555555555555556,\"#d8576b\"],[0.6666666666666666,\"#ed7953\"],[0.7777777777777778,\"#fb9f3a\"],[0.8888888888888888,\"#fdca26\"],[1.0,\"#f0f921\"]]}],\"heatmapgl\":[{\"type\":\"heatmapgl\",\"colorbar\":{\"outlinewidth\":0,\"ticks\":\"\"},\"colorscale\":[[0.0,\"#0d0887\"],[0.1111111111111111,\"#46039f\"],[0.2222222222222222,\"#7201a8\"],[0.3333333333333333,\"#9c179e\"],[0.4444444444444444,\"#bd3786\"],[0.5555555555555556,\"#d8576b\"],[0.6666666666666666,\"#ed7953\"],[0.7777777777777778,\"#fb9f3a\"],[0.8888888888888888,\"#fdca26\"],[1.0,\"#f0f921\"]]}],\"contourcarpet\":[{\"type\":\"contourcarpet\",\"colorbar\":{\"outlinewidth\":0,\"ticks\":\"\"}}],\"contour\":[{\"type\":\"contour\",\"colorbar\":{\"outlinewidth\":0,\"ticks\":\"\"},\"colorscale\":[[0.0,\"#0d0887\"],[0.1111111111111111,\"#46039f\"],[0.2222222222222222,\"#7201a8\"],[0.3333333333333333,\"#9c179e\"],[0.4444444444444444,\"#bd3786\"],[0.5555555555555556,\"#d8576b\"],[0.6666666666666666,\"#ed7953\"],[0.7777777777777778,\"#fb9f3a\"],[0.8888888888888888,\"#fdca26\"],[1.0,\"#f0f921\"]]}],\"surface\":[{\"type\":\"surface\",\"colorbar\":{\"outlinewidth\":0,\"ticks\":\"\"},\"colorscale\":[[0.0,\"#0d0887\"],[0.1111111111111111,\"#46039f\"],[0.2222222222222222,\"#7201a8\"],[0.3333333333333333,\"#9c179e\"],[0.4444444444444444,\"#bd3786\"],[0.5555555555555556,\"#d8576b\"],[0.6666666666666666,\"#ed7953\"],[0.7777777777777778,\"#fb9f3a\"],[0.8888888888888888,\"#fdca26\"],[1.0,\"#f0f921\"]]}],\"mesh3d\":[{\"type\":\"mesh3d\",\"colorbar\":{\"outlinewidth\":0,\"ticks\":\"\"}}],\"scatter\":[{\"fillpattern\":{\"fillmode\":\"overlay\",\"size\":10,\"solidity\":0.2},\"type\":\"scatter\"}],\"parcoords\":[{\"type\":\"parcoords\",\"line\":{\"colorbar\":{\"outlinewidth\":0,\"ticks\":\"\"}}}],\"scatterpolargl\":[{\"type\":\"scatterpolargl\",\"marker\":{\"colorbar\":{\"outlinewidth\":0,\"ticks\":\"\"}}}],\"bar\":[{\"error_x\":{\"color\":\"#2a3f5f\"},\"error_y\":{\"color\":\"#2a3f5f\"},\"marker\":{\"line\":{\"color\":\"#E5ECF6\",\"width\":0.5},\"pattern\":{\"fillmode\":\"overlay\",\"size\":10,\"solidity\":0.2}},\"type\":\"bar\"}],\"scattergeo\":[{\"type\":\"scattergeo\",\"marker\":{\"colorbar\":{\"outlinewidth\":0,\"ticks\":\"\"}}}],\"scatterpolar\":[{\"type\":\"scatterpolar\",\"marker\":{\"colorbar\":{\"outlinewidth\":0,\"ticks\":\"\"}}}],\"histogram\":[{\"marker\":{\"pattern\":{\"fillmode\":\"overlay\",\"size\":10,\"solidity\":0.2}},\"type\":\"histogram\"}],\"scattergl\":[{\"type\":\"scattergl\",\"marker\":{\"colorbar\":{\"outlinewidth\":0,\"ticks\":\"\"}}}],\"scatter3d\":[{\"type\":\"scatter3d\",\"line\":{\"colorbar\":{\"outlinewidth\":0,\"ticks\":\"\"}},\"marker\":{\"colorbar\":{\"outlinewidth\":0,\"ticks\":\"\"}}}],\"scattermapbox\":[{\"type\":\"scattermapbox\",\"marker\":{\"colorbar\":{\"outlinewidth\":0,\"ticks\":\"\"}}}],\"scatterternary\":[{\"type\":\"scatterternary\",\"marker\":{\"colorbar\":{\"outlinewidth\":0,\"ticks\":\"\"}}}],\"scattercarpet\":[{\"type\":\"scattercarpet\",\"marker\":{\"colorbar\":{\"outlinewidth\":0,\"ticks\":\"\"}}}],\"carpet\":[{\"aaxis\":{\"endlinecolor\":\"#2a3f5f\",\"gridcolor\":\"white\",\"linecolor\":\"white\",\"minorgridcolor\":\"white\",\"startlinecolor\":\"#2a3f5f\"},\"baxis\":{\"endlinecolor\":\"#2a3f5f\",\"gridcolor\":\"white\",\"linecolor\":\"white\",\"minorgridcolor\":\"white\",\"startlinecolor\":\"#2a3f5f\"},\"type\":\"carpet\"}],\"table\":[{\"cells\":{\"fill\":{\"color\":\"#EBF0F8\"},\"line\":{\"color\":\"white\"}},\"header\":{\"fill\":{\"color\":\"#C8D4E3\"},\"line\":{\"color\":\"white\"}},\"type\":\"table\"}],\"barpolar\":[{\"marker\":{\"line\":{\"color\":\"#E5ECF6\",\"width\":0.5},\"pattern\":{\"fillmode\":\"overlay\",\"size\":10,\"solidity\":0.2}},\"type\":\"barpolar\"}],\"pie\":[{\"automargin\":true,\"type\":\"pie\"}]},\"layout\":{\"autotypenumbers\":\"strict\",\"colorway\":[\"#636efa\",\"#EF553B\",\"#00cc96\",\"#ab63fa\",\"#FFA15A\",\"#19d3f3\",\"#FF6692\",\"#B6E880\",\"#FF97FF\",\"#FECB52\"],\"font\":{\"color\":\"#2a3f5f\"},\"hovermode\":\"closest\",\"hoverlabel\":{\"align\":\"left\"},\"paper_bgcolor\":\"white\",\"plot_bgcolor\":\"#E5ECF6\",\"polar\":{\"bgcolor\":\"#E5ECF6\",\"angularaxis\":{\"gridcolor\":\"white\",\"linecolor\":\"white\",\"ticks\":\"\"},\"radialaxis\":{\"gridcolor\":\"white\",\"linecolor\":\"white\",\"ticks\":\"\"}},\"ternary\":{\"bgcolor\":\"#E5ECF6\",\"aaxis\":{\"gridcolor\":\"white\",\"linecolor\":\"white\",\"ticks\":\"\"},\"baxis\":{\"gridcolor\":\"white\",\"linecolor\":\"white\",\"ticks\":\"\"},\"caxis\":{\"gridcolor\":\"white\",\"linecolor\":\"white\",\"ticks\":\"\"}},\"coloraxis\":{\"colorbar\":{\"outlinewidth\":0,\"ticks\":\"\"}},\"colorscale\":{\"sequential\":[[0.0,\"#0d0887\"],[0.1111111111111111,\"#46039f\"],[0.2222222222222222,\"#7201a8\"],[0.3333333333333333,\"#9c179e\"],[0.4444444444444444,\"#bd3786\"],[0.5555555555555556,\"#d8576b\"],[0.6666666666666666,\"#ed7953\"],[0.7777777777777778,\"#fb9f3a\"],[0.8888888888888888,\"#fdca26\"],[1.0,\"#f0f921\"]],\"sequentialminus\":[[0.0,\"#0d0887\"],[0.1111111111111111,\"#46039f\"],[0.2222222222222222,\"#7201a8\"],[0.3333333333333333,\"#9c179e\"],[0.4444444444444444,\"#bd3786\"],[0.5555555555555556,\"#d8576b\"],[0.6666666666666666,\"#ed7953\"],[0.7777777777777778,\"#fb9f3a\"],[0.8888888888888888,\"#fdca26\"],[1.0,\"#f0f921\"]],\"diverging\":[[0,\"#8e0152\"],[0.1,\"#c51b7d\"],[0.2,\"#de77ae\"],[0.3,\"#f1b6da\"],[0.4,\"#fde0ef\"],[0.5,\"#f7f7f7\"],[0.6,\"#e6f5d0\"],[0.7,\"#b8e186\"],[0.8,\"#7fbc41\"],[0.9,\"#4d9221\"],[1,\"#276419\"]]},\"xaxis\":{\"gridcolor\":\"white\",\"linecolor\":\"white\",\"ticks\":\"\",\"title\":{\"standoff\":15},\"zerolinecolor\":\"white\",\"automargin\":true,\"zerolinewidth\":2},\"yaxis\":{\"gridcolor\":\"white\",\"linecolor\":\"white\",\"ticks\":\"\",\"title\":{\"standoff\":15},\"zerolinecolor\":\"white\",\"automargin\":true,\"zerolinewidth\":2},\"scene\":{\"xaxis\":{\"backgroundcolor\":\"#E5ECF6\",\"gridcolor\":\"white\",\"linecolor\":\"white\",\"showbackground\":true,\"ticks\":\"\",\"zerolinecolor\":\"white\",\"gridwidth\":2},\"yaxis\":{\"backgroundcolor\":\"#E5ECF6\",\"gridcolor\":\"white\",\"linecolor\":\"white\",\"showbackground\":true,\"ticks\":\"\",\"zerolinecolor\":\"white\",\"gridwidth\":2},\"zaxis\":{\"backgroundcolor\":\"#E5ECF6\",\"gridcolor\":\"white\",\"linecolor\":\"white\",\"showbackground\":true,\"ticks\":\"\",\"zerolinecolor\":\"white\",\"gridwidth\":2}},\"shapedefaults\":{\"line\":{\"color\":\"#2a3f5f\"}},\"annotationdefaults\":{\"arrowcolor\":\"#2a3f5f\",\"arrowhead\":0,\"arrowwidth\":1},\"geo\":{\"bgcolor\":\"white\",\"landcolor\":\"#E5ECF6\",\"subunitcolor\":\"white\",\"showland\":true,\"showlakes\":true,\"lakecolor\":\"white\"},\"title\":{\"x\":0.05},\"mapbox\":{\"style\":\"light\"}}},\"xaxis\":{\"anchor\":\"y\",\"domain\":[0.0,1.0],\"title\":{\"text\":\"Perc_Black\"}},\"yaxis\":{\"anchor\":\"x\",\"domain\":[0.0,1.0],\"title\":{\"text\":\"Median_Income\"}},\"legend\":{\"tracegroupgap\":0},\"margin\":{\"t\":60},\"barmode\":\"relative\"},                        {\"responsive\": true}                    ).then(function(){\n",
       "                            \n",
       "var gd = document.getElementById('032c0309-28f0-43f7-bc78-93359a4efb37');\n",
       "var x = new MutationObserver(function (mutations, observer) {{\n",
       "        var display = window.getComputedStyle(gd).display;\n",
       "        if (!display || display === 'none') {{\n",
       "            console.log([gd, 'removed!']);\n",
       "            Plotly.purge(gd);\n",
       "            observer.disconnect();\n",
       "        }}\n",
       "}});\n",
       "\n",
       "// Listen for the removal of the full notebook cells\n",
       "var notebookContainer = gd.closest('#notebook-container');\n",
       "if (notebookContainer) {{\n",
       "    x.observe(notebookContainer, {childList: true});\n",
       "}}\n",
       "\n",
       "// Listen for the clearing of the current output cell\n",
       "var outputEl = gd.closest('.output');\n",
       "if (outputEl) {{\n",
       "    x.observe(outputEl, {childList: true});\n",
       "}}\n",
       "\n",
       "                        })                };                });            </script>        </div>"
      ]
     },
     "metadata": {},
     "output_type": "display_data"
    }
   ],
   "source": [
    "fig = px.bar(df, x='Perc_Black', y='Median_Income', color_discrete_sequence=['#000000'])  # Pure black color \n",
    "fig.show()\n"
   ]
  },
  {
   "cell_type": "code",
   "execution_count": 46,
   "id": "e190d9eb-8bf2-4005-808a-e75755e489f3",
   "metadata": {},
   "outputs": [
    {
     "data": {
      "application/vnd.plotly.v1+json": {
       "config": {
        "plotlyServerURL": "https://plot.ly"
       },
       "data": [
        {
         "hovertemplate": "Perc_Black=%{x}<br>Median_Income=%{y}<extra></extra>",
         "legendgroup": "",
         "marker": {
          "color": "#636efa",
          "symbol": "circle"
         },
         "mode": "markers",
         "name": "",
         "orientation": "v",
         "showlegend": false,
         "type": "scatter",
         "x": [
          0.124,
          0.124,
          0.124,
          0.124,
          0.124,
          0.124,
          0.124,
          0.655,
          0.154,
          0.655,
          0.655,
          0.655,
          0.655,
          0.655,
          0.655,
          0.285,
          0.285,
          0.154,
          0.285,
          0.285,
          0.285,
          0.285,
          0.285,
          0.215,
          0.215,
          0.215,
          0.215,
          0.215,
          0.215,
          0.215,
          0.215,
          0.301,
          0.301,
          0.301,
          0.301,
          0.215,
          0.301,
          0.301,
          0.301,
          0.154,
          0.154,
          0.154,
          0.154,
          0.154,
          0.274,
          0.274,
          0.274,
          0.274,
          0.274,
          0.274,
          0.274,
          0.308,
          0.032,
          0.308,
          0.308,
          0.308,
          0.308,
          0.308,
          0.308,
          0.288,
          0.288,
          0.032,
          0.288,
          0.288,
          0.288,
          0.288,
          0.288,
          0.282,
          0.282,
          0.282,
          0.042,
          0.282,
          0.282,
          0.282,
          0.282,
          0.078,
          0.078,
          0.078,
          0.078,
          0.042,
          0.078,
          0.078,
          0.078,
          0.215,
          0.215,
          0.215,
          0.215,
          0.215,
          0.571,
          0.571,
          0.571,
          0.571,
          0.571,
          0.571,
          0.571,
          0.298,
          0.742,
          0.298,
          0.298,
          0.298,
          0.298,
          0.298,
          0.298,
          0.028,
          0.028,
          0.742,
          0.028,
          0.028,
          0.028,
          0.028,
          0.028,
          0.06,
          0.06,
          0.06,
          0.015,
          0.06,
          0.06,
          0.06,
          0.06,
          0.054,
          0.054,
          0.054,
          0.054,
          0.015,
          0.054,
          0.054,
          0.054,
          0.032,
          0.032,
          0.032,
          0.032,
          0.032,
          0.079,
          0.079,
          0.079,
          0.079,
          0.079,
          0.079,
          0.079,
          0.022,
          0.063,
          0.022,
          0.022,
          0.022,
          0.022,
          0.022,
          0.022,
          0.009,
          0.009,
          0.063,
          0.009,
          0.009,
          0.009,
          0.009,
          0.009,
          0.037,
          0.037,
          0.037,
          0.079,
          0.037,
          0.037,
          0.037,
          0.037,
          0.221,
          0.221,
          0.221,
          0.221,
          0.079,
          0.221,
          0.221,
          0.221,
          0.042,
          0.042,
          0.042,
          0.042,
          0.042,
          0.183,
          0.183,
          0.183,
          0.183,
          0.183,
          0.183,
          0.183,
          0.53,
          0.151,
          0.53,
          0.53,
          0.53,
          0.53,
          0.53,
          0.53,
          0.261,
          0.261,
          0.151,
          0.261,
          0.261,
          0.261,
          0.261,
          0.261,
          0.068,
          0.068,
          0.068,
          0.068,
          0.068,
          0.068,
          0.068,
          0.593,
          0.593,
          0.593,
          0.593,
          0.593,
          0.593,
          0.593,
          0.742,
          0.742,
          0.742,
          0.742,
          0.742,
          0.522,
          0.522,
          0.522,
          0.522,
          0.522,
          0.522,
          0.522,
          0.63,
          0.63,
          0.63,
          0.63,
          0.63,
          0.63,
          0.63,
          0.873,
          0.873,
          0.873,
          0.873,
          0.873,
          0.873,
          0.873,
          0.663,
          0.663,
          0.663,
          0.663,
          0.663,
          0.663,
          0.663,
          0.026,
          0.026,
          0.026,
          0.026,
          0.026,
          0.026,
          0.026,
          0.015,
          0.015,
          0.015,
          0.015,
          0.015,
          0.023,
          0.023,
          0.023,
          0.023,
          0.023,
          0.023,
          0.023,
          0.32,
          0.32,
          0.32,
          0.32,
          0.32,
          0.32,
          0.32,
          0.038,
          0.038,
          0.038,
          0.038,
          0.038,
          0.038,
          0.038,
          0.009,
          0.009,
          0.009,
          0.009,
          0.009,
          0.009,
          0.009,
          0.106,
          0.106,
          0.106,
          0.106,
          0.106,
          0.106,
          0.106,
          0.063,
          0.063,
          0.063,
          0.063,
          0.063,
          0.048,
          0.048,
          0.048,
          0.048,
          0.048,
          0.048,
          0.048,
          0.021,
          0.021,
          0.021,
          0.021,
          0.021,
          0.021,
          0.021,
          0.018,
          0.018,
          0.018,
          0.018,
          0.018,
          0.018,
          0.018,
          0.561,
          0.561,
          0.561,
          0.561,
          0.561,
          0.561,
          0.561,
          0.114,
          0.114,
          0.114,
          0.114,
          0.114,
          0.114,
          0.114,
          0.079,
          0.079,
          0.079,
          0.079,
          0.079,
          0.029,
          0.029,
          0.029,
          0.029,
          0.029,
          0.029,
          0.029,
          0.013,
          0.013,
          0.013,
          0.013,
          0.013,
          0.013,
          0.013,
          0.015,
          0.015,
          0.015,
          0.015,
          0.015,
          0.015,
          0.015,
          0.058,
          0.058,
          0.058,
          0.058,
          0.058,
          0.058,
          0.058,
          0.621,
          0.621,
          0.621,
          0.621,
          0.621,
          0.621,
          0.621,
          0.151,
          0.151,
          0.151,
          0.151,
          0.151,
          0.353,
          0.353,
          0.353,
          0.353,
          0.353,
          0.353,
          0.353
         ],
         "xaxis": "x",
         "y": [
          30437,
          30437,
          30437,
          30437,
          30437,
          30437,
          30437,
          26136,
          18674,
          26136,
          26136,
          26136,
          26136,
          26136,
          26136,
          31573,
          31573,
          18674,
          31573,
          31573,
          31573,
          31573,
          31573,
          25358,
          25358,
          25358,
          24561,
          25358,
          25358,
          25358,
          25358,
          14213,
          14213,
          14213,
          14213,
          24561,
          14213,
          14213,
          14213,
          18674,
          18674,
          18674,
          18674,
          18674,
          15628,
          15628,
          15628,
          15628,
          15628,
          15628,
          15628,
          16710,
          73067,
          16710,
          16710,
          16710,
          16710,
          16710,
          16710,
          20300,
          20300,
          73067,
          20300,
          20300,
          20300,
          20300,
          20300,
          15510,
          15510,
          15510,
          35889,
          15510,
          15510,
          15510,
          15510,
          20421,
          20421,
          20421,
          20421,
          35889,
          20421,
          20421,
          20421,
          24561,
          24561,
          24561,
          24561,
          24561,
          26075,
          26075,
          26075,
          26075,
          26075,
          26075,
          26075,
          19510,
          19274,
          19510,
          19510,
          19510,
          19510,
          19510,
          19510,
          71933,
          71933,
          19274,
          71933,
          71933,
          71933,
          71933,
          71933,
          65844,
          65844,
          65844,
          30858,
          65844,
          65844,
          65844,
          65844,
          65905,
          65905,
          65905,
          65905,
          30858,
          65905,
          65905,
          65905,
          73067,
          73067,
          73067,
          73067,
          73067,
          25667,
          25667,
          25667,
          25667,
          25667,
          25667,
          25667,
          79181,
          31658,
          79181,
          79181,
          79181,
          79181,
          79181,
          79181,
          40637,
          40637,
          31658,
          40637,
          40637,
          40637,
          40637,
          40637,
          35413,
          35413,
          35413,
          21889,
          35413,
          35413,
          35413,
          35413,
          31347,
          31347,
          31347,
          31347,
          21889,
          31347,
          31347,
          31347,
          35889,
          35889,
          35889,
          35889,
          35889,
          22264,
          22264,
          22264,
          22264,
          22264,
          22264,
          22264,
          24627,
          27016,
          24627,
          24627,
          24627,
          24627,
          24627,
          24627,
          44313,
          44313,
          27016,
          44313,
          44313,
          44313,
          44313,
          44313,
          57393,
          57393,
          57393,
          57393,
          57393,
          57393,
          57393,
          29895,
          29895,
          29895,
          29895,
          29895,
          29895,
          29895,
          19274,
          19274,
          19274,
          19274,
          19274,
          22796,
          22796,
          22796,
          22796,
          22796,
          22796,
          22796,
          32210,
          32210,
          32210,
          32210,
          32210,
          32210,
          32210,
          27248,
          27248,
          27248,
          27248,
          27248,
          27248,
          27248,
          26140,
          26140,
          26140,
          26140,
          26140,
          26140,
          26140,
          20787,
          20787,
          20787,
          20787,
          20787,
          20787,
          20787,
          30858,
          30858,
          30858,
          30858,
          30858,
          21103,
          21103,
          21103,
          21103,
          21103,
          21103,
          21103,
          25708,
          25708,
          25708,
          25708,
          25708,
          25708,
          25708,
          29307,
          29307,
          29307,
          29307,
          29307,
          29307,
          29307,
          23329,
          23329,
          23329,
          23329,
          23329,
          23329,
          23329,
          19345,
          19345,
          19345,
          19345,
          19345,
          19345,
          19345,
          31658,
          31658,
          31658,
          31658,
          31658,
          22853,
          22853,
          22853,
          22853,
          22853,
          22853,
          22853,
          25517,
          25517,
          25517,
          25517,
          25517,
          25517,
          25517,
          37432,
          37432,
          37432,
          37432,
          37432,
          37432,
          37432,
          32961,
          32961,
          32961,
          32961,
          32961,
          32961,
          32961,
          30239,
          30239,
          30239,
          30239,
          30239,
          30239,
          30239,
          21889,
          21889,
          21889,
          21889,
          21889,
          41029,
          41029,
          41029,
          41029,
          41029,
          41029,
          41029,
          31245,
          31245,
          31245,
          31245,
          31245,
          31245,
          31245,
          31420,
          31420,
          31420,
          31420,
          31420,
          31420,
          31420,
          26357,
          26357,
          26357,
          26357,
          26357,
          26357,
          26357,
          25946,
          25946,
          25946,
          25946,
          25946,
          25946,
          25946,
          27016,
          27016,
          27016,
          27016,
          27016,
          25920,
          25920,
          25920,
          25920,
          25920,
          25920,
          25920
         ],
         "yaxis": "y"
        }
       ],
       "layout": {
        "legend": {
         "tracegroupgap": 0
        },
        "margin": {
         "t": 60
        },
        "template": {
         "data": {
          "bar": [
           {
            "error_x": {
             "color": "#2a3f5f"
            },
            "error_y": {
             "color": "#2a3f5f"
            },
            "marker": {
             "line": {
              "color": "#E5ECF6",
              "width": 0.5
             },
             "pattern": {
              "fillmode": "overlay",
              "size": 10,
              "solidity": 0.2
             }
            },
            "type": "bar"
           }
          ],
          "barpolar": [
           {
            "marker": {
             "line": {
              "color": "#E5ECF6",
              "width": 0.5
             },
             "pattern": {
              "fillmode": "overlay",
              "size": 10,
              "solidity": 0.2
             }
            },
            "type": "barpolar"
           }
          ],
          "carpet": [
           {
            "aaxis": {
             "endlinecolor": "#2a3f5f",
             "gridcolor": "white",
             "linecolor": "white",
             "minorgridcolor": "white",
             "startlinecolor": "#2a3f5f"
            },
            "baxis": {
             "endlinecolor": "#2a3f5f",
             "gridcolor": "white",
             "linecolor": "white",
             "minorgridcolor": "white",
             "startlinecolor": "#2a3f5f"
            },
            "type": "carpet"
           }
          ],
          "choropleth": [
           {
            "colorbar": {
             "outlinewidth": 0,
             "ticks": ""
            },
            "type": "choropleth"
           }
          ],
          "contour": [
           {
            "colorbar": {
             "outlinewidth": 0,
             "ticks": ""
            },
            "colorscale": [
             [
              0,
              "#0d0887"
             ],
             [
              0.1111111111111111,
              "#46039f"
             ],
             [
              0.2222222222222222,
              "#7201a8"
             ],
             [
              0.3333333333333333,
              "#9c179e"
             ],
             [
              0.4444444444444444,
              "#bd3786"
             ],
             [
              0.5555555555555556,
              "#d8576b"
             ],
             [
              0.6666666666666666,
              "#ed7953"
             ],
             [
              0.7777777777777778,
              "#fb9f3a"
             ],
             [
              0.8888888888888888,
              "#fdca26"
             ],
             [
              1,
              "#f0f921"
             ]
            ],
            "type": "contour"
           }
          ],
          "contourcarpet": [
           {
            "colorbar": {
             "outlinewidth": 0,
             "ticks": ""
            },
            "type": "contourcarpet"
           }
          ],
          "heatmap": [
           {
            "colorbar": {
             "outlinewidth": 0,
             "ticks": ""
            },
            "colorscale": [
             [
              0,
              "#0d0887"
             ],
             [
              0.1111111111111111,
              "#46039f"
             ],
             [
              0.2222222222222222,
              "#7201a8"
             ],
             [
              0.3333333333333333,
              "#9c179e"
             ],
             [
              0.4444444444444444,
              "#bd3786"
             ],
             [
              0.5555555555555556,
              "#d8576b"
             ],
             [
              0.6666666666666666,
              "#ed7953"
             ],
             [
              0.7777777777777778,
              "#fb9f3a"
             ],
             [
              0.8888888888888888,
              "#fdca26"
             ],
             [
              1,
              "#f0f921"
             ]
            ],
            "type": "heatmap"
           }
          ],
          "heatmapgl": [
           {
            "colorbar": {
             "outlinewidth": 0,
             "ticks": ""
            },
            "colorscale": [
             [
              0,
              "#0d0887"
             ],
             [
              0.1111111111111111,
              "#46039f"
             ],
             [
              0.2222222222222222,
              "#7201a8"
             ],
             [
              0.3333333333333333,
              "#9c179e"
             ],
             [
              0.4444444444444444,
              "#bd3786"
             ],
             [
              0.5555555555555556,
              "#d8576b"
             ],
             [
              0.6666666666666666,
              "#ed7953"
             ],
             [
              0.7777777777777778,
              "#fb9f3a"
             ],
             [
              0.8888888888888888,
              "#fdca26"
             ],
             [
              1,
              "#f0f921"
             ]
            ],
            "type": "heatmapgl"
           }
          ],
          "histogram": [
           {
            "marker": {
             "pattern": {
              "fillmode": "overlay",
              "size": 10,
              "solidity": 0.2
             }
            },
            "type": "histogram"
           }
          ],
          "histogram2d": [
           {
            "colorbar": {
             "outlinewidth": 0,
             "ticks": ""
            },
            "colorscale": [
             [
              0,
              "#0d0887"
             ],
             [
              0.1111111111111111,
              "#46039f"
             ],
             [
              0.2222222222222222,
              "#7201a8"
             ],
             [
              0.3333333333333333,
              "#9c179e"
             ],
             [
              0.4444444444444444,
              "#bd3786"
             ],
             [
              0.5555555555555556,
              "#d8576b"
             ],
             [
              0.6666666666666666,
              "#ed7953"
             ],
             [
              0.7777777777777778,
              "#fb9f3a"
             ],
             [
              0.8888888888888888,
              "#fdca26"
             ],
             [
              1,
              "#f0f921"
             ]
            ],
            "type": "histogram2d"
           }
          ],
          "histogram2dcontour": [
           {
            "colorbar": {
             "outlinewidth": 0,
             "ticks": ""
            },
            "colorscale": [
             [
              0,
              "#0d0887"
             ],
             [
              0.1111111111111111,
              "#46039f"
             ],
             [
              0.2222222222222222,
              "#7201a8"
             ],
             [
              0.3333333333333333,
              "#9c179e"
             ],
             [
              0.4444444444444444,
              "#bd3786"
             ],
             [
              0.5555555555555556,
              "#d8576b"
             ],
             [
              0.6666666666666666,
              "#ed7953"
             ],
             [
              0.7777777777777778,
              "#fb9f3a"
             ],
             [
              0.8888888888888888,
              "#fdca26"
             ],
             [
              1,
              "#f0f921"
             ]
            ],
            "type": "histogram2dcontour"
           }
          ],
          "mesh3d": [
           {
            "colorbar": {
             "outlinewidth": 0,
             "ticks": ""
            },
            "type": "mesh3d"
           }
          ],
          "parcoords": [
           {
            "line": {
             "colorbar": {
              "outlinewidth": 0,
              "ticks": ""
             }
            },
            "type": "parcoords"
           }
          ],
          "pie": [
           {
            "automargin": true,
            "type": "pie"
           }
          ],
          "scatter": [
           {
            "fillpattern": {
             "fillmode": "overlay",
             "size": 10,
             "solidity": 0.2
            },
            "type": "scatter"
           }
          ],
          "scatter3d": [
           {
            "line": {
             "colorbar": {
              "outlinewidth": 0,
              "ticks": ""
             }
            },
            "marker": {
             "colorbar": {
              "outlinewidth": 0,
              "ticks": ""
             }
            },
            "type": "scatter3d"
           }
          ],
          "scattercarpet": [
           {
            "marker": {
             "colorbar": {
              "outlinewidth": 0,
              "ticks": ""
             }
            },
            "type": "scattercarpet"
           }
          ],
          "scattergeo": [
           {
            "marker": {
             "colorbar": {
              "outlinewidth": 0,
              "ticks": ""
             }
            },
            "type": "scattergeo"
           }
          ],
          "scattergl": [
           {
            "marker": {
             "colorbar": {
              "outlinewidth": 0,
              "ticks": ""
             }
            },
            "type": "scattergl"
           }
          ],
          "scattermapbox": [
           {
            "marker": {
             "colorbar": {
              "outlinewidth": 0,
              "ticks": ""
             }
            },
            "type": "scattermapbox"
           }
          ],
          "scatterpolar": [
           {
            "marker": {
             "colorbar": {
              "outlinewidth": 0,
              "ticks": ""
             }
            },
            "type": "scatterpolar"
           }
          ],
          "scatterpolargl": [
           {
            "marker": {
             "colorbar": {
              "outlinewidth": 0,
              "ticks": ""
             }
            },
            "type": "scatterpolargl"
           }
          ],
          "scatterternary": [
           {
            "marker": {
             "colorbar": {
              "outlinewidth": 0,
              "ticks": ""
             }
            },
            "type": "scatterternary"
           }
          ],
          "surface": [
           {
            "colorbar": {
             "outlinewidth": 0,
             "ticks": ""
            },
            "colorscale": [
             [
              0,
              "#0d0887"
             ],
             [
              0.1111111111111111,
              "#46039f"
             ],
             [
              0.2222222222222222,
              "#7201a8"
             ],
             [
              0.3333333333333333,
              "#9c179e"
             ],
             [
              0.4444444444444444,
              "#bd3786"
             ],
             [
              0.5555555555555556,
              "#d8576b"
             ],
             [
              0.6666666666666666,
              "#ed7953"
             ],
             [
              0.7777777777777778,
              "#fb9f3a"
             ],
             [
              0.8888888888888888,
              "#fdca26"
             ],
             [
              1,
              "#f0f921"
             ]
            ],
            "type": "surface"
           }
          ],
          "table": [
           {
            "cells": {
             "fill": {
              "color": "#EBF0F8"
             },
             "line": {
              "color": "white"
             }
            },
            "header": {
             "fill": {
              "color": "#C8D4E3"
             },
             "line": {
              "color": "white"
             }
            },
            "type": "table"
           }
          ]
         },
         "layout": {
          "annotationdefaults": {
           "arrowcolor": "#2a3f5f",
           "arrowhead": 0,
           "arrowwidth": 1
          },
          "autotypenumbers": "strict",
          "coloraxis": {
           "colorbar": {
            "outlinewidth": 0,
            "ticks": ""
           }
          },
          "colorscale": {
           "diverging": [
            [
             0,
             "#8e0152"
            ],
            [
             0.1,
             "#c51b7d"
            ],
            [
             0.2,
             "#de77ae"
            ],
            [
             0.3,
             "#f1b6da"
            ],
            [
             0.4,
             "#fde0ef"
            ],
            [
             0.5,
             "#f7f7f7"
            ],
            [
             0.6,
             "#e6f5d0"
            ],
            [
             0.7,
             "#b8e186"
            ],
            [
             0.8,
             "#7fbc41"
            ],
            [
             0.9,
             "#4d9221"
            ],
            [
             1,
             "#276419"
            ]
           ],
           "sequential": [
            [
             0,
             "#0d0887"
            ],
            [
             0.1111111111111111,
             "#46039f"
            ],
            [
             0.2222222222222222,
             "#7201a8"
            ],
            [
             0.3333333333333333,
             "#9c179e"
            ],
            [
             0.4444444444444444,
             "#bd3786"
            ],
            [
             0.5555555555555556,
             "#d8576b"
            ],
            [
             0.6666666666666666,
             "#ed7953"
            ],
            [
             0.7777777777777778,
             "#fb9f3a"
            ],
            [
             0.8888888888888888,
             "#fdca26"
            ],
            [
             1,
             "#f0f921"
            ]
           ],
           "sequentialminus": [
            [
             0,
             "#0d0887"
            ],
            [
             0.1111111111111111,
             "#46039f"
            ],
            [
             0.2222222222222222,
             "#7201a8"
            ],
            [
             0.3333333333333333,
             "#9c179e"
            ],
            [
             0.4444444444444444,
             "#bd3786"
            ],
            [
             0.5555555555555556,
             "#d8576b"
            ],
            [
             0.6666666666666666,
             "#ed7953"
            ],
            [
             0.7777777777777778,
             "#fb9f3a"
            ],
            [
             0.8888888888888888,
             "#fdca26"
            ],
            [
             1,
             "#f0f921"
            ]
           ]
          },
          "colorway": [
           "#636efa",
           "#EF553B",
           "#00cc96",
           "#ab63fa",
           "#FFA15A",
           "#19d3f3",
           "#FF6692",
           "#B6E880",
           "#FF97FF",
           "#FECB52"
          ],
          "font": {
           "color": "#2a3f5f"
          },
          "geo": {
           "bgcolor": "white",
           "lakecolor": "white",
           "landcolor": "#E5ECF6",
           "showlakes": true,
           "showland": true,
           "subunitcolor": "white"
          },
          "hoverlabel": {
           "align": "left"
          },
          "hovermode": "closest",
          "mapbox": {
           "style": "light"
          },
          "paper_bgcolor": "white",
          "plot_bgcolor": "#E5ECF6",
          "polar": {
           "angularaxis": {
            "gridcolor": "white",
            "linecolor": "white",
            "ticks": ""
           },
           "bgcolor": "#E5ECF6",
           "radialaxis": {
            "gridcolor": "white",
            "linecolor": "white",
            "ticks": ""
           }
          },
          "scene": {
           "xaxis": {
            "backgroundcolor": "#E5ECF6",
            "gridcolor": "white",
            "gridwidth": 2,
            "linecolor": "white",
            "showbackground": true,
            "ticks": "",
            "zerolinecolor": "white"
           },
           "yaxis": {
            "backgroundcolor": "#E5ECF6",
            "gridcolor": "white",
            "gridwidth": 2,
            "linecolor": "white",
            "showbackground": true,
            "ticks": "",
            "zerolinecolor": "white"
           },
           "zaxis": {
            "backgroundcolor": "#E5ECF6",
            "gridcolor": "white",
            "gridwidth": 2,
            "linecolor": "white",
            "showbackground": true,
            "ticks": "",
            "zerolinecolor": "white"
           }
          },
          "shapedefaults": {
           "line": {
            "color": "#2a3f5f"
           }
          },
          "ternary": {
           "aaxis": {
            "gridcolor": "white",
            "linecolor": "white",
            "ticks": ""
           },
           "baxis": {
            "gridcolor": "white",
            "linecolor": "white",
            "ticks": ""
           },
           "bgcolor": "#E5ECF6",
           "caxis": {
            "gridcolor": "white",
            "linecolor": "white",
            "ticks": ""
           }
          },
          "title": {
           "x": 0.05
          },
          "xaxis": {
           "automargin": true,
           "gridcolor": "white",
           "linecolor": "white",
           "ticks": "",
           "title": {
            "standoff": 15
           },
           "zerolinecolor": "white",
           "zerolinewidth": 2
          },
          "yaxis": {
           "automargin": true,
           "gridcolor": "white",
           "linecolor": "white",
           "ticks": "",
           "title": {
            "standoff": 15
           },
           "zerolinecolor": "white",
           "zerolinewidth": 2
          }
         }
        },
        "xaxis": {
         "anchor": "y",
         "domain": [
          0,
          1
         ],
         "title": {
          "text": "Perc_Black"
         }
        },
        "yaxis": {
         "anchor": "x",
         "domain": [
          0,
          1
         ],
         "title": {
          "text": "Median_Income"
         }
        }
       }
      },
      "text/html": [
       "<div>                            <div id=\"86e6cee0-b4a7-42d9-ac47-d8767ff8abae\" class=\"plotly-graph-div\" style=\"height:525px; width:100%;\"></div>            <script type=\"text/javascript\">                require([\"plotly\"], function(Plotly) {                    window.PLOTLYENV=window.PLOTLYENV || {};                                    if (document.getElementById(\"86e6cee0-b4a7-42d9-ac47-d8767ff8abae\")) {                    Plotly.newPlot(                        \"86e6cee0-b4a7-42d9-ac47-d8767ff8abae\",                        [{\"hovertemplate\":\"Perc_Black=%{x}\\u003cbr\\u003eMedian_Income=%{y}\\u003cextra\\u003e\\u003c\\u002fextra\\u003e\",\"legendgroup\":\"\",\"marker\":{\"color\":\"#636efa\",\"symbol\":\"circle\"},\"mode\":\"markers\",\"name\":\"\",\"orientation\":\"v\",\"showlegend\":false,\"x\":[0.124,0.124,0.124,0.124,0.124,0.124,0.124,0.655,0.154,0.655,0.655,0.655,0.655,0.655,0.655,0.285,0.285,0.154,0.285,0.285,0.285,0.285,0.285,0.215,0.215,0.215,0.215,0.215,0.215,0.215,0.215,0.301,0.301,0.301,0.301,0.215,0.301,0.301,0.301,0.154,0.154,0.154,0.154,0.154,0.274,0.274,0.274,0.274,0.274,0.274,0.274,0.308,0.032,0.308,0.308,0.308,0.308,0.308,0.308,0.288,0.288,0.032,0.288,0.288,0.288,0.288,0.288,0.282,0.282,0.282,0.042,0.282,0.282,0.282,0.282,0.078,0.078,0.078,0.078,0.042,0.078,0.078,0.078,0.215,0.215,0.215,0.215,0.215,0.571,0.571,0.571,0.571,0.571,0.571,0.571,0.298,0.742,0.298,0.298,0.298,0.298,0.298,0.298,0.028,0.028,0.742,0.028,0.028,0.028,0.028,0.028,0.06,0.06,0.06,0.015,0.06,0.06,0.06,0.06,0.054,0.054,0.054,0.054,0.015,0.054,0.054,0.054,0.032,0.032,0.032,0.032,0.032,0.079,0.079,0.079,0.079,0.079,0.079,0.079,0.022,0.063,0.022,0.022,0.022,0.022,0.022,0.022,0.009,0.009,0.063,0.009,0.009,0.009,0.009,0.009,0.037,0.037,0.037,0.079,0.037,0.037,0.037,0.037,0.221,0.221,0.221,0.221,0.079,0.221,0.221,0.221,0.042,0.042,0.042,0.042,0.042,0.183,0.183,0.183,0.183,0.183,0.183,0.183,0.53,0.151,0.53,0.53,0.53,0.53,0.53,0.53,0.261,0.261,0.151,0.261,0.261,0.261,0.261,0.261,0.068,0.068,0.068,0.068,0.068,0.068,0.068,0.593,0.593,0.593,0.593,0.593,0.593,0.593,0.742,0.742,0.742,0.742,0.742,0.522,0.522,0.522,0.522,0.522,0.522,0.522,0.63,0.63,0.63,0.63,0.63,0.63,0.63,0.873,0.873,0.873,0.873,0.873,0.873,0.873,0.663,0.663,0.663,0.663,0.663,0.663,0.663,0.026,0.026,0.026,0.026,0.026,0.026,0.026,0.015,0.015,0.015,0.015,0.015,0.023,0.023,0.023,0.023,0.023,0.023,0.023,0.32,0.32,0.32,0.32,0.32,0.32,0.32,0.038,0.038,0.038,0.038,0.038,0.038,0.038,0.009,0.009,0.009,0.009,0.009,0.009,0.009,0.106,0.106,0.106,0.106,0.106,0.106,0.106,0.063,0.063,0.063,0.063,0.063,0.048,0.048,0.048,0.048,0.048,0.048,0.048,0.021,0.021,0.021,0.021,0.021,0.021,0.021,0.018,0.018,0.018,0.018,0.018,0.018,0.018,0.561,0.561,0.561,0.561,0.561,0.561,0.561,0.114,0.114,0.114,0.114,0.114,0.114,0.114,0.079,0.079,0.079,0.079,0.079,0.029,0.029,0.029,0.029,0.029,0.029,0.029,0.013,0.013,0.013,0.013,0.013,0.013,0.013,0.015,0.015,0.015,0.015,0.015,0.015,0.015,0.058,0.058,0.058,0.058,0.058,0.058,0.058,0.621,0.621,0.621,0.621,0.621,0.621,0.621,0.151,0.151,0.151,0.151,0.151,0.353,0.353,0.353,0.353,0.353,0.353,0.353],\"xaxis\":\"x\",\"y\":[30437,30437,30437,30437,30437,30437,30437,26136,18674,26136,26136,26136,26136,26136,26136,31573,31573,18674,31573,31573,31573,31573,31573,25358,25358,25358,24561,25358,25358,25358,25358,14213,14213,14213,14213,24561,14213,14213,14213,18674,18674,18674,18674,18674,15628,15628,15628,15628,15628,15628,15628,16710,73067,16710,16710,16710,16710,16710,16710,20300,20300,73067,20300,20300,20300,20300,20300,15510,15510,15510,35889,15510,15510,15510,15510,20421,20421,20421,20421,35889,20421,20421,20421,24561,24561,24561,24561,24561,26075,26075,26075,26075,26075,26075,26075,19510,19274,19510,19510,19510,19510,19510,19510,71933,71933,19274,71933,71933,71933,71933,71933,65844,65844,65844,30858,65844,65844,65844,65844,65905,65905,65905,65905,30858,65905,65905,65905,73067,73067,73067,73067,73067,25667,25667,25667,25667,25667,25667,25667,79181,31658,79181,79181,79181,79181,79181,79181,40637,40637,31658,40637,40637,40637,40637,40637,35413,35413,35413,21889,35413,35413,35413,35413,31347,31347,31347,31347,21889,31347,31347,31347,35889,35889,35889,35889,35889,22264,22264,22264,22264,22264,22264,22264,24627,27016,24627,24627,24627,24627,24627,24627,44313,44313,27016,44313,44313,44313,44313,44313,57393,57393,57393,57393,57393,57393,57393,29895,29895,29895,29895,29895,29895,29895,19274,19274,19274,19274,19274,22796,22796,22796,22796,22796,22796,22796,32210,32210,32210,32210,32210,32210,32210,27248,27248,27248,27248,27248,27248,27248,26140,26140,26140,26140,26140,26140,26140,20787,20787,20787,20787,20787,20787,20787,30858,30858,30858,30858,30858,21103,21103,21103,21103,21103,21103,21103,25708,25708,25708,25708,25708,25708,25708,29307,29307,29307,29307,29307,29307,29307,23329,23329,23329,23329,23329,23329,23329,19345,19345,19345,19345,19345,19345,19345,31658,31658,31658,31658,31658,22853,22853,22853,22853,22853,22853,22853,25517,25517,25517,25517,25517,25517,25517,37432,37432,37432,37432,37432,37432,37432,32961,32961,32961,32961,32961,32961,32961,30239,30239,30239,30239,30239,30239,30239,21889,21889,21889,21889,21889,41029,41029,41029,41029,41029,41029,41029,31245,31245,31245,31245,31245,31245,31245,31420,31420,31420,31420,31420,31420,31420,26357,26357,26357,26357,26357,26357,26357,25946,25946,25946,25946,25946,25946,25946,27016,27016,27016,27016,27016,25920,25920,25920,25920,25920,25920,25920],\"yaxis\":\"y\",\"type\":\"scatter\"}],                        {\"template\":{\"data\":{\"histogram2dcontour\":[{\"type\":\"histogram2dcontour\",\"colorbar\":{\"outlinewidth\":0,\"ticks\":\"\"},\"colorscale\":[[0.0,\"#0d0887\"],[0.1111111111111111,\"#46039f\"],[0.2222222222222222,\"#7201a8\"],[0.3333333333333333,\"#9c179e\"],[0.4444444444444444,\"#bd3786\"],[0.5555555555555556,\"#d8576b\"],[0.6666666666666666,\"#ed7953\"],[0.7777777777777778,\"#fb9f3a\"],[0.8888888888888888,\"#fdca26\"],[1.0,\"#f0f921\"]]}],\"choropleth\":[{\"type\":\"choropleth\",\"colorbar\":{\"outlinewidth\":0,\"ticks\":\"\"}}],\"histogram2d\":[{\"type\":\"histogram2d\",\"colorbar\":{\"outlinewidth\":0,\"ticks\":\"\"},\"colorscale\":[[0.0,\"#0d0887\"],[0.1111111111111111,\"#46039f\"],[0.2222222222222222,\"#7201a8\"],[0.3333333333333333,\"#9c179e\"],[0.4444444444444444,\"#bd3786\"],[0.5555555555555556,\"#d8576b\"],[0.6666666666666666,\"#ed7953\"],[0.7777777777777778,\"#fb9f3a\"],[0.8888888888888888,\"#fdca26\"],[1.0,\"#f0f921\"]]}],\"heatmap\":[{\"type\":\"heatmap\",\"colorbar\":{\"outlinewidth\":0,\"ticks\":\"\"},\"colorscale\":[[0.0,\"#0d0887\"],[0.1111111111111111,\"#46039f\"],[0.2222222222222222,\"#7201a8\"],[0.3333333333333333,\"#9c179e\"],[0.4444444444444444,\"#bd3786\"],[0.5555555555555556,\"#d8576b\"],[0.6666666666666666,\"#ed7953\"],[0.7777777777777778,\"#fb9f3a\"],[0.8888888888888888,\"#fdca26\"],[1.0,\"#f0f921\"]]}],\"heatmapgl\":[{\"type\":\"heatmapgl\",\"colorbar\":{\"outlinewidth\":0,\"ticks\":\"\"},\"colorscale\":[[0.0,\"#0d0887\"],[0.1111111111111111,\"#46039f\"],[0.2222222222222222,\"#7201a8\"],[0.3333333333333333,\"#9c179e\"],[0.4444444444444444,\"#bd3786\"],[0.5555555555555556,\"#d8576b\"],[0.6666666666666666,\"#ed7953\"],[0.7777777777777778,\"#fb9f3a\"],[0.8888888888888888,\"#fdca26\"],[1.0,\"#f0f921\"]]}],\"contourcarpet\":[{\"type\":\"contourcarpet\",\"colorbar\":{\"outlinewidth\":0,\"ticks\":\"\"}}],\"contour\":[{\"type\":\"contour\",\"colorbar\":{\"outlinewidth\":0,\"ticks\":\"\"},\"colorscale\":[[0.0,\"#0d0887\"],[0.1111111111111111,\"#46039f\"],[0.2222222222222222,\"#7201a8\"],[0.3333333333333333,\"#9c179e\"],[0.4444444444444444,\"#bd3786\"],[0.5555555555555556,\"#d8576b\"],[0.6666666666666666,\"#ed7953\"],[0.7777777777777778,\"#fb9f3a\"],[0.8888888888888888,\"#fdca26\"],[1.0,\"#f0f921\"]]}],\"surface\":[{\"type\":\"surface\",\"colorbar\":{\"outlinewidth\":0,\"ticks\":\"\"},\"colorscale\":[[0.0,\"#0d0887\"],[0.1111111111111111,\"#46039f\"],[0.2222222222222222,\"#7201a8\"],[0.3333333333333333,\"#9c179e\"],[0.4444444444444444,\"#bd3786\"],[0.5555555555555556,\"#d8576b\"],[0.6666666666666666,\"#ed7953\"],[0.7777777777777778,\"#fb9f3a\"],[0.8888888888888888,\"#fdca26\"],[1.0,\"#f0f921\"]]}],\"mesh3d\":[{\"type\":\"mesh3d\",\"colorbar\":{\"outlinewidth\":0,\"ticks\":\"\"}}],\"scatter\":[{\"fillpattern\":{\"fillmode\":\"overlay\",\"size\":10,\"solidity\":0.2},\"type\":\"scatter\"}],\"parcoords\":[{\"type\":\"parcoords\",\"line\":{\"colorbar\":{\"outlinewidth\":0,\"ticks\":\"\"}}}],\"scatterpolargl\":[{\"type\":\"scatterpolargl\",\"marker\":{\"colorbar\":{\"outlinewidth\":0,\"ticks\":\"\"}}}],\"bar\":[{\"error_x\":{\"color\":\"#2a3f5f\"},\"error_y\":{\"color\":\"#2a3f5f\"},\"marker\":{\"line\":{\"color\":\"#E5ECF6\",\"width\":0.5},\"pattern\":{\"fillmode\":\"overlay\",\"size\":10,\"solidity\":0.2}},\"type\":\"bar\"}],\"scattergeo\":[{\"type\":\"scattergeo\",\"marker\":{\"colorbar\":{\"outlinewidth\":0,\"ticks\":\"\"}}}],\"scatterpolar\":[{\"type\":\"scatterpolar\",\"marker\":{\"colorbar\":{\"outlinewidth\":0,\"ticks\":\"\"}}}],\"histogram\":[{\"marker\":{\"pattern\":{\"fillmode\":\"overlay\",\"size\":10,\"solidity\":0.2}},\"type\":\"histogram\"}],\"scattergl\":[{\"type\":\"scattergl\",\"marker\":{\"colorbar\":{\"outlinewidth\":0,\"ticks\":\"\"}}}],\"scatter3d\":[{\"type\":\"scatter3d\",\"line\":{\"colorbar\":{\"outlinewidth\":0,\"ticks\":\"\"}},\"marker\":{\"colorbar\":{\"outlinewidth\":0,\"ticks\":\"\"}}}],\"scattermapbox\":[{\"type\":\"scattermapbox\",\"marker\":{\"colorbar\":{\"outlinewidth\":0,\"ticks\":\"\"}}}],\"scatterternary\":[{\"type\":\"scatterternary\",\"marker\":{\"colorbar\":{\"outlinewidth\":0,\"ticks\":\"\"}}}],\"scattercarpet\":[{\"type\":\"scattercarpet\",\"marker\":{\"colorbar\":{\"outlinewidth\":0,\"ticks\":\"\"}}}],\"carpet\":[{\"aaxis\":{\"endlinecolor\":\"#2a3f5f\",\"gridcolor\":\"white\",\"linecolor\":\"white\",\"minorgridcolor\":\"white\",\"startlinecolor\":\"#2a3f5f\"},\"baxis\":{\"endlinecolor\":\"#2a3f5f\",\"gridcolor\":\"white\",\"linecolor\":\"white\",\"minorgridcolor\":\"white\",\"startlinecolor\":\"#2a3f5f\"},\"type\":\"carpet\"}],\"table\":[{\"cells\":{\"fill\":{\"color\":\"#EBF0F8\"},\"line\":{\"color\":\"white\"}},\"header\":{\"fill\":{\"color\":\"#C8D4E3\"},\"line\":{\"color\":\"white\"}},\"type\":\"table\"}],\"barpolar\":[{\"marker\":{\"line\":{\"color\":\"#E5ECF6\",\"width\":0.5},\"pattern\":{\"fillmode\":\"overlay\",\"size\":10,\"solidity\":0.2}},\"type\":\"barpolar\"}],\"pie\":[{\"automargin\":true,\"type\":\"pie\"}]},\"layout\":{\"autotypenumbers\":\"strict\",\"colorway\":[\"#636efa\",\"#EF553B\",\"#00cc96\",\"#ab63fa\",\"#FFA15A\",\"#19d3f3\",\"#FF6692\",\"#B6E880\",\"#FF97FF\",\"#FECB52\"],\"font\":{\"color\":\"#2a3f5f\"},\"hovermode\":\"closest\",\"hoverlabel\":{\"align\":\"left\"},\"paper_bgcolor\":\"white\",\"plot_bgcolor\":\"#E5ECF6\",\"polar\":{\"bgcolor\":\"#E5ECF6\",\"angularaxis\":{\"gridcolor\":\"white\",\"linecolor\":\"white\",\"ticks\":\"\"},\"radialaxis\":{\"gridcolor\":\"white\",\"linecolor\":\"white\",\"ticks\":\"\"}},\"ternary\":{\"bgcolor\":\"#E5ECF6\",\"aaxis\":{\"gridcolor\":\"white\",\"linecolor\":\"white\",\"ticks\":\"\"},\"baxis\":{\"gridcolor\":\"white\",\"linecolor\":\"white\",\"ticks\":\"\"},\"caxis\":{\"gridcolor\":\"white\",\"linecolor\":\"white\",\"ticks\":\"\"}},\"coloraxis\":{\"colorbar\":{\"outlinewidth\":0,\"ticks\":\"\"}},\"colorscale\":{\"sequential\":[[0.0,\"#0d0887\"],[0.1111111111111111,\"#46039f\"],[0.2222222222222222,\"#7201a8\"],[0.3333333333333333,\"#9c179e\"],[0.4444444444444444,\"#bd3786\"],[0.5555555555555556,\"#d8576b\"],[0.6666666666666666,\"#ed7953\"],[0.7777777777777778,\"#fb9f3a\"],[0.8888888888888888,\"#fdca26\"],[1.0,\"#f0f921\"]],\"sequentialminus\":[[0.0,\"#0d0887\"],[0.1111111111111111,\"#46039f\"],[0.2222222222222222,\"#7201a8\"],[0.3333333333333333,\"#9c179e\"],[0.4444444444444444,\"#bd3786\"],[0.5555555555555556,\"#d8576b\"],[0.6666666666666666,\"#ed7953\"],[0.7777777777777778,\"#fb9f3a\"],[0.8888888888888888,\"#fdca26\"],[1.0,\"#f0f921\"]],\"diverging\":[[0,\"#8e0152\"],[0.1,\"#c51b7d\"],[0.2,\"#de77ae\"],[0.3,\"#f1b6da\"],[0.4,\"#fde0ef\"],[0.5,\"#f7f7f7\"],[0.6,\"#e6f5d0\"],[0.7,\"#b8e186\"],[0.8,\"#7fbc41\"],[0.9,\"#4d9221\"],[1,\"#276419\"]]},\"xaxis\":{\"gridcolor\":\"white\",\"linecolor\":\"white\",\"ticks\":\"\",\"title\":{\"standoff\":15},\"zerolinecolor\":\"white\",\"automargin\":true,\"zerolinewidth\":2},\"yaxis\":{\"gridcolor\":\"white\",\"linecolor\":\"white\",\"ticks\":\"\",\"title\":{\"standoff\":15},\"zerolinecolor\":\"white\",\"automargin\":true,\"zerolinewidth\":2},\"scene\":{\"xaxis\":{\"backgroundcolor\":\"#E5ECF6\",\"gridcolor\":\"white\",\"linecolor\":\"white\",\"showbackground\":true,\"ticks\":\"\",\"zerolinecolor\":\"white\",\"gridwidth\":2},\"yaxis\":{\"backgroundcolor\":\"#E5ECF6\",\"gridcolor\":\"white\",\"linecolor\":\"white\",\"showbackground\":true,\"ticks\":\"\",\"zerolinecolor\":\"white\",\"gridwidth\":2},\"zaxis\":{\"backgroundcolor\":\"#E5ECF6\",\"gridcolor\":\"white\",\"linecolor\":\"white\",\"showbackground\":true,\"ticks\":\"\",\"zerolinecolor\":\"white\",\"gridwidth\":2}},\"shapedefaults\":{\"line\":{\"color\":\"#2a3f5f\"}},\"annotationdefaults\":{\"arrowcolor\":\"#2a3f5f\",\"arrowhead\":0,\"arrowwidth\":1},\"geo\":{\"bgcolor\":\"white\",\"landcolor\":\"#E5ECF6\",\"subunitcolor\":\"white\",\"showland\":true,\"showlakes\":true,\"lakecolor\":\"white\"},\"title\":{\"x\":0.05},\"mapbox\":{\"style\":\"light\"}}},\"xaxis\":{\"anchor\":\"y\",\"domain\":[0.0,1.0],\"title\":{\"text\":\"Perc_Black\"}},\"yaxis\":{\"anchor\":\"x\",\"domain\":[0.0,1.0],\"title\":{\"text\":\"Median_Income\"}},\"legend\":{\"tracegroupgap\":0},\"margin\":{\"t\":60}},                        {\"responsive\": true}                    ).then(function(){\n",
       "                            \n",
       "var gd = document.getElementById('86e6cee0-b4a7-42d9-ac47-d8767ff8abae');\n",
       "var x = new MutationObserver(function (mutations, observer) {{\n",
       "        var display = window.getComputedStyle(gd).display;\n",
       "        if (!display || display === 'none') {{\n",
       "            console.log([gd, 'removed!']);\n",
       "            Plotly.purge(gd);\n",
       "            observer.disconnect();\n",
       "        }}\n",
       "}});\n",
       "\n",
       "// Listen for the removal of the full notebook cells\n",
       "var notebookContainer = gd.closest('#notebook-container');\n",
       "if (notebookContainer) {{\n",
       "    x.observe(notebookContainer, {childList: true});\n",
       "}}\n",
       "\n",
       "// Listen for the clearing of the current output cell\n",
       "var outputEl = gd.closest('.output');\n",
       "if (outputEl) {{\n",
       "    x.observe(outputEl, {childList: true});\n",
       "}}\n",
       "\n",
       "                        })                };                });            </script>        </div>"
      ]
     },
     "metadata": {},
     "output_type": "display_data"
    }
   ],
   "source": [
    "fig = px.scatter(df, x='Perc_Black', y='Median_Income')\n",
    "fig.show()"
   ]
  },
  {
   "cell_type": "markdown",
   "id": "2d3f4856-b828-4192-ad48-59c48567a869",
   "metadata": {},
   "source": [
    "# Reflection\n",
    "Based on the bar graph and the scatterplot above, it can be said that the higher the percentage of Black people, the lower the median income tends to be, and conversely, the lower the percentage, the higher the median income."
   ]
  },
  {
   "cell_type": "markdown",
   "id": "f172ea35-9e24-4ed1-91a6-663c755041c3",
   "metadata": {},
   "source": [
    "# Check the regression"
   ]
  },
  {
   "cell_type": "code",
   "execution_count": 47,
   "id": "1c0c0ba6-064d-4def-8828-cfca30c8f723",
   "metadata": {},
   "outputs": [
    {
     "name": "stdout",
     "output_type": "stream",
     "text": [
      "Regression coefficient (slope): -20276.573844372164\n",
      "Intercept: 35800.935109920705\n"
     ]
    }
   ],
   "source": [
    "import numpy as np\n",
    "x = df['Perc_Black']\n",
    "y = df['Median_Income']\n",
    "\n",
    "coefficients = np.polyfit(x, y, 1)\n",
    "\n",
    "print(f\"Regression coefficient (slope): {coefficients[0]}\")\n",
    "print(f\"Intercept: {coefficients[1]}\")"
   ]
  },
  {
   "cell_type": "markdown",
   "id": "b731b599-f628-44f4-aba3-c019063e568b",
   "metadata": {},
   "source": [
    "# Takeaway\n",
    "The regression coefficient (slope): -20276.57 indicates that for every 1% increase in Perc_Black (percentage of the Black population), the Median_Income (median income) decreases by approximately $20,276. Since the value is negative, it suggests a negative linear relationship between Perc_Black and Median_Income."
   ]
  }
 ],
 "metadata": {
  "kernelspec": {
   "display_name": "base",
   "language": "python",
   "name": "python3"
  },
  "language_info": {
   "codemirror_mode": {
    "name": "ipython",
    "version": 3
   },
   "file_extension": ".py",
   "mimetype": "text/x-python",
   "name": "python",
   "nbconvert_exporter": "python",
   "pygments_lexer": "ipython3",
   "version": "3.12.2"
  }
 },
 "nbformat": 4,
 "nbformat_minor": 5
}
