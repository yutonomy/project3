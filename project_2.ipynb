{
 "cells": [
  {
   "cell_type": "markdown",
   "id": "7465a5ae-5896-443b-afc1-67c0f63830e5",
   "metadata": {},
   "source": [
    "# Project 2"
   ]
  },
  {
   "cell_type": "code",
   "execution_count": 1,
   "id": "5be5052f-4a1c-468d-a6d0-c0e4a9b45f6d",
   "metadata": {
    "scrolled": true
   },
   "outputs": [
    {
     "data": {
      "text/html": [
       "<div>\n",
       "<style scoped>\n",
       "    .dataframe tbody tr th:only-of-type {\n",
       "        vertical-align: middle;\n",
       "    }\n",
       "\n",
       "    .dataframe tbody tr th {\n",
       "        vertical-align: top;\n",
       "    }\n",
       "\n",
       "    .dataframe thead th {\n",
       "        text-align: right;\n",
       "    }\n",
       "</style>\n",
       "<table border=\"1\" class=\"dataframe\">\n",
       "  <thead>\n",
       "    <tr style=\"text-align: right;\">\n",
       "      <th></th>\n",
       "      <th>Year</th>\n",
       "      <th>Materal Race or Ethnicity</th>\n",
       "      <th>Infant Mortality Rate</th>\n",
       "      <th>Neonatal Mortality Rate</th>\n",
       "      <th>Postneonatal Mortality Rate</th>\n",
       "      <th>Infant Deaths</th>\n",
       "      <th>Neonatal Infant Deaths</th>\n",
       "      <th>Postneonatal Infant Deaths</th>\n",
       "      <th>Number of Live Births</th>\n",
       "    </tr>\n",
       "  </thead>\n",
       "  <tbody>\n",
       "    <tr>\n",
       "      <th>53</th>\n",
       "      <td>2016</td>\n",
       "      <td>Non-Hispanic Black</td>\n",
       "      <td>8.0</td>\n",
       "      <td>4.9</td>\n",
       "      <td>3.2</td>\n",
       "      <td>180.0</td>\n",
       "      <td>109.0</td>\n",
       "      <td>71.0</td>\n",
       "      <td>22465</td>\n",
       "    </tr>\n",
       "    <tr>\n",
       "      <th>13</th>\n",
       "      <td>2009</td>\n",
       "      <td>White Non-Hispanic</td>\n",
       "      <td>3.4</td>\n",
       "      <td>2.5</td>\n",
       "      <td>0.9</td>\n",
       "      <td>131.0</td>\n",
       "      <td>97.0</td>\n",
       "      <td>34.0</td>\n",
       "      <td>38438</td>\n",
       "    </tr>\n",
       "    <tr>\n",
       "      <th>78</th>\n",
       "      <td>2020</td>\n",
       "      <td>Black NH</td>\n",
       "      <td>6.9</td>\n",
       "      <td>3.8</td>\n",
       "      <td>3.1</td>\n",
       "      <td>126.0</td>\n",
       "      <td>69.0</td>\n",
       "      <td>57.0</td>\n",
       "      <td>18162</td>\n",
       "    </tr>\n",
       "    <tr>\n",
       "      <th>63</th>\n",
       "      <td>2017</td>\n",
       "      <td>Non-Hispanic White</td>\n",
       "      <td>2.4</td>\n",
       "      <td>1.6</td>\n",
       "      <td>0.7</td>\n",
       "      <td>95.0</td>\n",
       "      <td>66.0</td>\n",
       "      <td>29.0</td>\n",
       "      <td>40345</td>\n",
       "    </tr>\n",
       "    <tr>\n",
       "      <th>1</th>\n",
       "      <td>2013</td>\n",
       "      <td>Other Hispanic</td>\n",
       "      <td>4.3</td>\n",
       "      <td>2.6</td>\n",
       "      <td>1.7</td>\n",
       "      <td>120.0</td>\n",
       "      <td>72.0</td>\n",
       "      <td>48.0</td>\n",
       "      <td>27621</td>\n",
       "    </tr>\n",
       "    <tr>\n",
       "      <th>0</th>\n",
       "      <td>2007</td>\n",
       "      <td>Black Non-Hispanic</td>\n",
       "      <td>9.8</td>\n",
       "      <td>6.0</td>\n",
       "      <td>3.8</td>\n",
       "      <td>287.0</td>\n",
       "      <td>177.0</td>\n",
       "      <td>110.0</td>\n",
       "      <td>29268</td>\n",
       "    </tr>\n",
       "    <tr>\n",
       "      <th>75</th>\n",
       "      <td>2020</td>\n",
       "      <td>Other Hispanic</td>\n",
       "      <td>4.3</td>\n",
       "      <td>2.8</td>\n",
       "      <td>1.5</td>\n",
       "      <td>99.0</td>\n",
       "      <td>65.0</td>\n",
       "      <td>34.0</td>\n",
       "      <td>23236</td>\n",
       "    </tr>\n",
       "    <tr>\n",
       "      <th>43</th>\n",
       "      <td>2014</td>\n",
       "      <td>Other/Two or More</td>\n",
       "      <td>NaN</td>\n",
       "      <td>NaN</td>\n",
       "      <td>NaN</td>\n",
       "      <td>NaN</td>\n",
       "      <td>NaN</td>\n",
       "      <td>NaN</td>\n",
       "      <td>1485</td>\n",
       "    </tr>\n",
       "    <tr>\n",
       "      <th>68</th>\n",
       "      <td>2019</td>\n",
       "      <td>Other Hispanic</td>\n",
       "      <td>3.9</td>\n",
       "      <td>2.9</td>\n",
       "      <td>1.0</td>\n",
       "      <td>97.0</td>\n",
       "      <td>71.0</td>\n",
       "      <td>26.0</td>\n",
       "      <td>24796</td>\n",
       "    </tr>\n",
       "    <tr>\n",
       "      <th>29</th>\n",
       "      <td>2011</td>\n",
       "      <td>Asian and Pacific Islander</td>\n",
       "      <td>2.9</td>\n",
       "      <td>1.8</td>\n",
       "      <td>1.2</td>\n",
       "      <td>57.0</td>\n",
       "      <td>34.0</td>\n",
       "      <td>23.0</td>\n",
       "      <td>19399</td>\n",
       "    </tr>\n",
       "  </tbody>\n",
       "</table>\n",
       "</div>"
      ],
      "text/plain": [
       "    Year   Materal Race or Ethnicity  Infant Mortality Rate  \\\n",
       "53  2016          Non-Hispanic Black                    8.0   \n",
       "13  2009          White Non-Hispanic                    3.4   \n",
       "78  2020                    Black NH                    6.9   \n",
       "63  2017          Non-Hispanic White                    2.4   \n",
       "1   2013              Other Hispanic                    4.3   \n",
       "0   2007          Black Non-Hispanic                    9.8   \n",
       "75  2020              Other Hispanic                    4.3   \n",
       "43  2014           Other/Two or More                    NaN   \n",
       "68  2019              Other Hispanic                    3.9   \n",
       "29  2011  Asian and Pacific Islander                    2.9   \n",
       "\n",
       "    Neonatal Mortality Rate  Postneonatal Mortality Rate  Infant Deaths  \\\n",
       "53                      4.9                          3.2          180.0   \n",
       "13                      2.5                          0.9          131.0   \n",
       "78                      3.8                          3.1          126.0   \n",
       "63                      1.6                          0.7           95.0   \n",
       "1                       2.6                          1.7          120.0   \n",
       "0                       6.0                          3.8          287.0   \n",
       "75                      2.8                          1.5           99.0   \n",
       "43                      NaN                          NaN            NaN   \n",
       "68                      2.9                          1.0           97.0   \n",
       "29                      1.8                          1.2           57.0   \n",
       "\n",
       "    Neonatal Infant Deaths  Postneonatal Infant Deaths  Number of Live Births  \n",
       "53                   109.0                        71.0                  22465  \n",
       "13                    97.0                        34.0                  38438  \n",
       "78                    69.0                        57.0                  18162  \n",
       "63                    66.0                        29.0                  40345  \n",
       "1                     72.0                        48.0                  27621  \n",
       "0                    177.0                       110.0                  29268  \n",
       "75                    65.0                        34.0                  23236  \n",
       "43                     NaN                         NaN                   1485  \n",
       "68                    71.0                        26.0                  24796  \n",
       "29                    34.0                        23.0                  19399  "
      ]
     },
     "execution_count": 1,
     "metadata": {},
     "output_type": "execute_result"
    }
   ],
   "source": [
    "import pandas as pd\n",
    "import matplotlib.pyplot as plt\n",
    "infant = pd.read_csv('/Users/yutonomy/Dropbox/Columbia SIPA/24FALL/Computing in Context/Project2/Infant_Mortality_20241119.csv')\n",
    "infant.sample(10)"
   ]
  },
  {
   "cell_type": "code",
   "execution_count": 2,
   "id": "c7f1c175-3d7e-4853-abf8-ff225189fd5c",
   "metadata": {},
   "outputs": [
    {
     "data": {
      "text/plain": [
       "['Black Non-Hispanic',\n",
       " 'Other Hispanic',\n",
       " 'Black Non-Hispanic',\n",
       " 'White Non-Hispanic',\n",
       " 'Black Non-Hispanic',\n",
       " 'Black Non-Hispanic',\n",
       " 'White Non-Hispanic',\n",
       " 'Black Non-Hispanic',\n",
       " 'Other/Two or More',\n",
       " 'Other/Two or More',\n",
       " 'Other/Two or More',\n",
       " 'Black Non-Hispanic',\n",
       " 'Other Hispanic',\n",
       " 'White Non-Hispanic',\n",
       " 'Puerto Rican',\n",
       " 'Other/Two or More',\n",
       " 'Other Hispanic',\n",
       " 'Other Hispanic',\n",
       " 'Puerto Rican',\n",
       " 'Other/Two or More',\n",
       " 'Puerto Rican',\n",
       " 'White Non-Hispanic',\n",
       " 'Asian and Pacific Islander',\n",
       " 'Asian and Pacific Islander',\n",
       " 'Puerto Rican',\n",
       " 'Asian and Pacific Islander',\n",
       " 'White Non-Hispanic',\n",
       " 'Asian and Pacific Islander',\n",
       " 'White Non-Hispanic',\n",
       " 'Asian and Pacific Islander',\n",
       " 'Puerto Rican',\n",
       " 'Asian and Pacific Islander',\n",
       " 'Black Non-Hispanic',\n",
       " 'Other Hispanic',\n",
       " 'White Non-Hispanic',\n",
       " 'Other Hispanic',\n",
       " 'Other Hispanic',\n",
       " 'Puerto Rican',\n",
       " 'Puerto Rican',\n",
       " 'Other/Two or More',\n",
       " 'Other Hispanic',\n",
       " 'Puerto Rican',\n",
       " 'Other/Two or More',\n",
       " 'Other/Two or More',\n",
       " 'Asian and Pacific Islander',\n",
       " 'Black Non-Hispanic',\n",
       " 'White Non-Hispanic',\n",
       " 'Asian and Pacific Islander',\n",
       " 'Puerto Rican',\n",
       " 'Other Hispanic',\n",
       " 'Other/Two or More',\n",
       " 'Other Hispanic',\n",
       " 'Non-Hispanic White',\n",
       " 'Non-Hispanic Black',\n",
       " 'Asian and Pacific Islander',\n",
       " 'Non-Hispanic Black',\n",
       " 'Other/Two or More',\n",
       " 'Non-Hispanic White',\n",
       " 'Puerto Rican',\n",
       " 'Asian and Pacific Islander',\n",
       " 'Puerto Rican',\n",
       " 'Other Hispanic',\n",
       " 'Asian and Pacific Islander',\n",
       " 'Non-Hispanic White',\n",
       " 'Non-Hispanic Black',\n",
       " 'Other/Two or More',\n",
       " 'Unknown',\n",
       " 'Puerto Rican',\n",
       " 'Other Hispanic',\n",
       " 'Asian and Pacific Islander',\n",
       " 'Non-Hispanic White',\n",
       " 'Non-Hispanic Black',\n",
       " 'Other/Two or More',\n",
       " 'Unknown',\n",
       " 'Puerto Rican',\n",
       " 'Other Hispanic',\n",
       " 'API',\n",
       " 'White NH',\n",
       " 'Black NH',\n",
       " 'Other/Two or More',\n",
       " 'Unknown',\n",
       " 'Total',\n",
       " 'Puerto Rican',\n",
       " 'Other Hispanic',\n",
       " 'Asian and Pacific Islander',\n",
       " 'Non-Hispanic White',\n",
       " 'Non-Hispanic Black',\n",
       " 'Other and Unknown']"
      ]
     },
     "execution_count": 2,
     "metadata": {},
     "output_type": "execute_result"
    }
   ],
   "source": [
    "category = [i for i in infant['Materal Race or Ethnicity']]\n",
    "category"
   ]
  },
  {
   "cell_type": "code",
   "execution_count": 3,
   "id": "c0a808cd-b0b1-42ef-ac4c-1dee354ac64e",
   "metadata": {},
   "outputs": [],
   "source": [
    "def classify_race(race):\n",
    "    if 'Black' in race:\n",
    "        return 'Black'\n",
    "    elif 'White' in race:\n",
    "        return 'White'\n",
    "    elif 'Asian' in race:\n",
    "        return 'Asian'\n",
    "    elif 'Hispanic' in race:\n",
    "        return 'Hispanic'\n",
    "    else:\n",
    "        return 'Other'"
   ]
  },
  {
   "cell_type": "code",
   "execution_count": 4,
   "id": "78deee24-d0c6-4188-bcfa-636346b86453",
   "metadata": {},
   "outputs": [
    {
     "data": {
      "text/html": [
       "<div>\n",
       "<style scoped>\n",
       "    .dataframe tbody tr th:only-of-type {\n",
       "        vertical-align: middle;\n",
       "    }\n",
       "\n",
       "    .dataframe tbody tr th {\n",
       "        vertical-align: top;\n",
       "    }\n",
       "\n",
       "    .dataframe thead th {\n",
       "        text-align: right;\n",
       "    }\n",
       "</style>\n",
       "<table border=\"1\" class=\"dataframe\">\n",
       "  <thead>\n",
       "    <tr style=\"text-align: right;\">\n",
       "      <th></th>\n",
       "      <th>Year</th>\n",
       "      <th>Materal Race or Ethnicity</th>\n",
       "      <th>Infant Mortality Rate</th>\n",
       "      <th>Neonatal Mortality Rate</th>\n",
       "      <th>Postneonatal Mortality Rate</th>\n",
       "      <th>Infant Deaths</th>\n",
       "      <th>Neonatal Infant Deaths</th>\n",
       "      <th>Postneonatal Infant Deaths</th>\n",
       "      <th>Number of Live Births</th>\n",
       "      <th>Race Category</th>\n",
       "    </tr>\n",
       "  </thead>\n",
       "  <tbody>\n",
       "    <tr>\n",
       "      <th>0</th>\n",
       "      <td>2007</td>\n",
       "      <td>Black Non-Hispanic</td>\n",
       "      <td>9.8</td>\n",
       "      <td>6.0</td>\n",
       "      <td>3.8</td>\n",
       "      <td>287.0</td>\n",
       "      <td>177.0</td>\n",
       "      <td>110.0</td>\n",
       "      <td>29268</td>\n",
       "      <td>Black</td>\n",
       "    </tr>\n",
       "    <tr>\n",
       "      <th>1</th>\n",
       "      <td>2013</td>\n",
       "      <td>Other Hispanic</td>\n",
       "      <td>4.3</td>\n",
       "      <td>2.6</td>\n",
       "      <td>1.7</td>\n",
       "      <td>120.0</td>\n",
       "      <td>72.0</td>\n",
       "      <td>48.0</td>\n",
       "      <td>27621</td>\n",
       "      <td>Hispanic</td>\n",
       "    </tr>\n",
       "    <tr>\n",
       "      <th>2</th>\n",
       "      <td>2013</td>\n",
       "      <td>Black Non-Hispanic</td>\n",
       "      <td>8.3</td>\n",
       "      <td>5.5</td>\n",
       "      <td>2.9</td>\n",
       "      <td>201.0</td>\n",
       "      <td>132.0</td>\n",
       "      <td>69.0</td>\n",
       "      <td>24108</td>\n",
       "      <td>Black</td>\n",
       "    </tr>\n",
       "    <tr>\n",
       "      <th>3</th>\n",
       "      <td>2008</td>\n",
       "      <td>White Non-Hispanic</td>\n",
       "      <td>3.3</td>\n",
       "      <td>2.1</td>\n",
       "      <td>1.1</td>\n",
       "      <td>125.0</td>\n",
       "      <td>82.0</td>\n",
       "      <td>43.0</td>\n",
       "      <td>38383</td>\n",
       "      <td>White</td>\n",
       "    </tr>\n",
       "    <tr>\n",
       "      <th>4</th>\n",
       "      <td>2009</td>\n",
       "      <td>Black Non-Hispanic</td>\n",
       "      <td>9.5</td>\n",
       "      <td>5.8</td>\n",
       "      <td>3.7</td>\n",
       "      <td>259.0</td>\n",
       "      <td>158.0</td>\n",
       "      <td>101.0</td>\n",
       "      <td>27405</td>\n",
       "      <td>Black</td>\n",
       "    </tr>\n",
       "    <tr>\n",
       "      <th>5</th>\n",
       "      <td>2010</td>\n",
       "      <td>Black Non-Hispanic</td>\n",
       "      <td>8.6</td>\n",
       "      <td>5.6</td>\n",
       "      <td>3.1</td>\n",
       "      <td>230.0</td>\n",
       "      <td>148.0</td>\n",
       "      <td>82.0</td>\n",
       "      <td>26635</td>\n",
       "      <td>Black</td>\n",
       "    </tr>\n",
       "    <tr>\n",
       "      <th>6</th>\n",
       "      <td>2010</td>\n",
       "      <td>White Non-Hispanic</td>\n",
       "      <td>2.8</td>\n",
       "      <td>2.0</td>\n",
       "      <td>0.8</td>\n",
       "      <td>104.0</td>\n",
       "      <td>75.0</td>\n",
       "      <td>29.0</td>\n",
       "      <td>37780</td>\n",
       "      <td>White</td>\n",
       "    </tr>\n",
       "    <tr>\n",
       "      <th>7</th>\n",
       "      <td>2011</td>\n",
       "      <td>Black Non-Hispanic</td>\n",
       "      <td>8.1</td>\n",
       "      <td>5.3</td>\n",
       "      <td>2.9</td>\n",
       "      <td>210.0</td>\n",
       "      <td>136.0</td>\n",
       "      <td>74.0</td>\n",
       "      <td>25825</td>\n",
       "      <td>Black</td>\n",
       "    </tr>\n",
       "    <tr>\n",
       "      <th>8</th>\n",
       "      <td>2008</td>\n",
       "      <td>Other/Two or More</td>\n",
       "      <td>NaN</td>\n",
       "      <td>NaN</td>\n",
       "      <td>NaN</td>\n",
       "      <td>NaN</td>\n",
       "      <td>NaN</td>\n",
       "      <td>NaN</td>\n",
       "      <td>2548</td>\n",
       "      <td>Other</td>\n",
       "    </tr>\n",
       "    <tr>\n",
       "      <th>9</th>\n",
       "      <td>2007</td>\n",
       "      <td>Other/Two or More</td>\n",
       "      <td>NaN</td>\n",
       "      <td>NaN</td>\n",
       "      <td>NaN</td>\n",
       "      <td>NaN</td>\n",
       "      <td>NaN</td>\n",
       "      <td>NaN</td>\n",
       "      <td>230</td>\n",
       "      <td>Other</td>\n",
       "    </tr>\n",
       "  </tbody>\n",
       "</table>\n",
       "</div>"
      ],
      "text/plain": [
       "   Year Materal Race or Ethnicity  Infant Mortality Rate  \\\n",
       "0  2007        Black Non-Hispanic                    9.8   \n",
       "1  2013            Other Hispanic                    4.3   \n",
       "2  2013        Black Non-Hispanic                    8.3   \n",
       "3  2008        White Non-Hispanic                    3.3   \n",
       "4  2009        Black Non-Hispanic                    9.5   \n",
       "5  2010        Black Non-Hispanic                    8.6   \n",
       "6  2010        White Non-Hispanic                    2.8   \n",
       "7  2011        Black Non-Hispanic                    8.1   \n",
       "8  2008         Other/Two or More                    NaN   \n",
       "9  2007         Other/Two or More                    NaN   \n",
       "\n",
       "   Neonatal Mortality Rate  Postneonatal Mortality Rate  Infant Deaths  \\\n",
       "0                      6.0                          3.8          287.0   \n",
       "1                      2.6                          1.7          120.0   \n",
       "2                      5.5                          2.9          201.0   \n",
       "3                      2.1                          1.1          125.0   \n",
       "4                      5.8                          3.7          259.0   \n",
       "5                      5.6                          3.1          230.0   \n",
       "6                      2.0                          0.8          104.0   \n",
       "7                      5.3                          2.9          210.0   \n",
       "8                      NaN                          NaN            NaN   \n",
       "9                      NaN                          NaN            NaN   \n",
       "\n",
       "   Neonatal Infant Deaths  Postneonatal Infant Deaths  Number of Live Births  \\\n",
       "0                   177.0                       110.0                  29268   \n",
       "1                    72.0                        48.0                  27621   \n",
       "2                   132.0                        69.0                  24108   \n",
       "3                    82.0                        43.0                  38383   \n",
       "4                   158.0                       101.0                  27405   \n",
       "5                   148.0                        82.0                  26635   \n",
       "6                    75.0                        29.0                  37780   \n",
       "7                   136.0                        74.0                  25825   \n",
       "8                     NaN                         NaN                   2548   \n",
       "9                     NaN                         NaN                    230   \n",
       "\n",
       "  Race Category  \n",
       "0         Black  \n",
       "1      Hispanic  \n",
       "2         Black  \n",
       "3         White  \n",
       "4         Black  \n",
       "5         Black  \n",
       "6         White  \n",
       "7         Black  \n",
       "8         Other  \n",
       "9         Other  "
      ]
     },
     "execution_count": 4,
     "metadata": {},
     "output_type": "execute_result"
    }
   ],
   "source": [
    "infant['Race Category'] = infant['Materal Race or Ethnicity'].apply(classify_race)\n",
    "infant.head(10)"
   ]
  },
  {
   "cell_type": "code",
   "execution_count": 5,
   "id": "9321d404-66dc-4d0c-8b44-7b8a0174d7f9",
   "metadata": {},
   "outputs": [
    {
     "data": {
      "text/html": [
       "<div>\n",
       "<style scoped>\n",
       "    .dataframe tbody tr th:only-of-type {\n",
       "        vertical-align: middle;\n",
       "    }\n",
       "\n",
       "    .dataframe tbody tr th {\n",
       "        vertical-align: top;\n",
       "    }\n",
       "\n",
       "    .dataframe thead th {\n",
       "        text-align: right;\n",
       "    }\n",
       "</style>\n",
       "<table border=\"1\" class=\"dataframe\">\n",
       "  <thead>\n",
       "    <tr style=\"text-align: right;\">\n",
       "      <th></th>\n",
       "      <th>Year</th>\n",
       "      <th>Materal Race or Ethnicity</th>\n",
       "      <th>Infant Mortality Rate</th>\n",
       "      <th>Neonatal Mortality Rate</th>\n",
       "      <th>Postneonatal Mortality Rate</th>\n",
       "      <th>Infant Deaths</th>\n",
       "      <th>Neonatal Infant Deaths</th>\n",
       "      <th>Postneonatal Infant Deaths</th>\n",
       "      <th>Number of Live Births</th>\n",
       "      <th>Race Category</th>\n",
       "    </tr>\n",
       "  </thead>\n",
       "  <tbody>\n",
       "    <tr>\n",
       "      <th>0</th>\n",
       "      <td>2007</td>\n",
       "      <td>Black Non-Hispanic</td>\n",
       "      <td>9.8</td>\n",
       "      <td>6.0</td>\n",
       "      <td>3.8</td>\n",
       "      <td>287.0</td>\n",
       "      <td>177.0</td>\n",
       "      <td>110.0</td>\n",
       "      <td>29268</td>\n",
       "      <td>Black</td>\n",
       "    </tr>\n",
       "    <tr>\n",
       "      <th>1</th>\n",
       "      <td>2013</td>\n",
       "      <td>Other Hispanic</td>\n",
       "      <td>4.3</td>\n",
       "      <td>2.6</td>\n",
       "      <td>1.7</td>\n",
       "      <td>120.0</td>\n",
       "      <td>72.0</td>\n",
       "      <td>48.0</td>\n",
       "      <td>27621</td>\n",
       "      <td>Hispanic</td>\n",
       "    </tr>\n",
       "    <tr>\n",
       "      <th>2</th>\n",
       "      <td>2013</td>\n",
       "      <td>Black Non-Hispanic</td>\n",
       "      <td>8.3</td>\n",
       "      <td>5.5</td>\n",
       "      <td>2.9</td>\n",
       "      <td>201.0</td>\n",
       "      <td>132.0</td>\n",
       "      <td>69.0</td>\n",
       "      <td>24108</td>\n",
       "      <td>Black</td>\n",
       "    </tr>\n",
       "    <tr>\n",
       "      <th>3</th>\n",
       "      <td>2008</td>\n",
       "      <td>White Non-Hispanic</td>\n",
       "      <td>3.3</td>\n",
       "      <td>2.1</td>\n",
       "      <td>1.1</td>\n",
       "      <td>125.0</td>\n",
       "      <td>82.0</td>\n",
       "      <td>43.0</td>\n",
       "      <td>38383</td>\n",
       "      <td>White</td>\n",
       "    </tr>\n",
       "    <tr>\n",
       "      <th>4</th>\n",
       "      <td>2009</td>\n",
       "      <td>Black Non-Hispanic</td>\n",
       "      <td>9.5</td>\n",
       "      <td>5.8</td>\n",
       "      <td>3.7</td>\n",
       "      <td>259.0</td>\n",
       "      <td>158.0</td>\n",
       "      <td>101.0</td>\n",
       "      <td>27405</td>\n",
       "      <td>Black</td>\n",
       "    </tr>\n",
       "    <tr>\n",
       "      <th>5</th>\n",
       "      <td>2010</td>\n",
       "      <td>Black Non-Hispanic</td>\n",
       "      <td>8.6</td>\n",
       "      <td>5.6</td>\n",
       "      <td>3.1</td>\n",
       "      <td>230.0</td>\n",
       "      <td>148.0</td>\n",
       "      <td>82.0</td>\n",
       "      <td>26635</td>\n",
       "      <td>Black</td>\n",
       "    </tr>\n",
       "    <tr>\n",
       "      <th>6</th>\n",
       "      <td>2010</td>\n",
       "      <td>White Non-Hispanic</td>\n",
       "      <td>2.8</td>\n",
       "      <td>2.0</td>\n",
       "      <td>0.8</td>\n",
       "      <td>104.0</td>\n",
       "      <td>75.0</td>\n",
       "      <td>29.0</td>\n",
       "      <td>37780</td>\n",
       "      <td>White</td>\n",
       "    </tr>\n",
       "    <tr>\n",
       "      <th>7</th>\n",
       "      <td>2011</td>\n",
       "      <td>Black Non-Hispanic</td>\n",
       "      <td>8.1</td>\n",
       "      <td>5.3</td>\n",
       "      <td>2.9</td>\n",
       "      <td>210.0</td>\n",
       "      <td>136.0</td>\n",
       "      <td>74.0</td>\n",
       "      <td>25825</td>\n",
       "      <td>Black</td>\n",
       "    </tr>\n",
       "    <tr>\n",
       "      <th>11</th>\n",
       "      <td>2014</td>\n",
       "      <td>Black Non-Hispanic</td>\n",
       "      <td>7.5</td>\n",
       "      <td>4.3</td>\n",
       "      <td>3.1</td>\n",
       "      <td>177.0</td>\n",
       "      <td>103.0</td>\n",
       "      <td>74.0</td>\n",
       "      <td>23680</td>\n",
       "      <td>Black</td>\n",
       "    </tr>\n",
       "    <tr>\n",
       "      <th>12</th>\n",
       "      <td>2011</td>\n",
       "      <td>Other Hispanic</td>\n",
       "      <td>4.3</td>\n",
       "      <td>2.8</td>\n",
       "      <td>1.6</td>\n",
       "      <td>124.0</td>\n",
       "      <td>79.0</td>\n",
       "      <td>45.0</td>\n",
       "      <td>28643</td>\n",
       "      <td>Hispanic</td>\n",
       "    </tr>\n",
       "    <tr>\n",
       "      <th>13</th>\n",
       "      <td>2009</td>\n",
       "      <td>White Non-Hispanic</td>\n",
       "      <td>3.4</td>\n",
       "      <td>2.5</td>\n",
       "      <td>0.9</td>\n",
       "      <td>131.0</td>\n",
       "      <td>97.0</td>\n",
       "      <td>34.0</td>\n",
       "      <td>38438</td>\n",
       "      <td>White</td>\n",
       "    </tr>\n",
       "    <tr>\n",
       "      <th>16</th>\n",
       "      <td>2008</td>\n",
       "      <td>Other Hispanic</td>\n",
       "      <td>4.8</td>\n",
       "      <td>3.3</td>\n",
       "      <td>1.5</td>\n",
       "      <td>143.0</td>\n",
       "      <td>99.0</td>\n",
       "      <td>44.0</td>\n",
       "      <td>30029</td>\n",
       "      <td>Hispanic</td>\n",
       "    </tr>\n",
       "    <tr>\n",
       "      <th>17</th>\n",
       "      <td>2010</td>\n",
       "      <td>Other Hispanic</td>\n",
       "      <td>4.3</td>\n",
       "      <td>2.7</td>\n",
       "      <td>1.6</td>\n",
       "      <td>129.0</td>\n",
       "      <td>81.0</td>\n",
       "      <td>48.0</td>\n",
       "      <td>29764</td>\n",
       "      <td>Hispanic</td>\n",
       "    </tr>\n",
       "    <tr>\n",
       "      <th>21</th>\n",
       "      <td>2007</td>\n",
       "      <td>White Non-Hispanic</td>\n",
       "      <td>3.9</td>\n",
       "      <td>2.4</td>\n",
       "      <td>1.6</td>\n",
       "      <td>155.0</td>\n",
       "      <td>93.0</td>\n",
       "      <td>62.0</td>\n",
       "      <td>39351</td>\n",
       "      <td>White</td>\n",
       "    </tr>\n",
       "    <tr>\n",
       "      <th>22</th>\n",
       "      <td>2012</td>\n",
       "      <td>Asian and Pacific Islander</td>\n",
       "      <td>3.3</td>\n",
       "      <td>2.1</td>\n",
       "      <td>1.2</td>\n",
       "      <td>70.0</td>\n",
       "      <td>45.0</td>\n",
       "      <td>25.0</td>\n",
       "      <td>21149</td>\n",
       "      <td>Asian</td>\n",
       "    </tr>\n",
       "    <tr>\n",
       "      <th>23</th>\n",
       "      <td>2010</td>\n",
       "      <td>Asian and Pacific Islander</td>\n",
       "      <td>3.4</td>\n",
       "      <td>2.3</td>\n",
       "      <td>1.2</td>\n",
       "      <td>62.0</td>\n",
       "      <td>41.0</td>\n",
       "      <td>21.0</td>\n",
       "      <td>18047</td>\n",
       "      <td>Asian</td>\n",
       "    </tr>\n",
       "    <tr>\n",
       "      <th>25</th>\n",
       "      <td>2007</td>\n",
       "      <td>Asian and Pacific Islander</td>\n",
       "      <td>3.1</td>\n",
       "      <td>2.0</td>\n",
       "      <td>1.0</td>\n",
       "      <td>59.0</td>\n",
       "      <td>39.0</td>\n",
       "      <td>20.0</td>\n",
       "      <td>19291</td>\n",
       "      <td>Asian</td>\n",
       "    </tr>\n",
       "    <tr>\n",
       "      <th>26</th>\n",
       "      <td>2012</td>\n",
       "      <td>White Non-Hispanic</td>\n",
       "      <td>2.7</td>\n",
       "      <td>1.7</td>\n",
       "      <td>0.9</td>\n",
       "      <td>104.0</td>\n",
       "      <td>67.0</td>\n",
       "      <td>37.0</td>\n",
       "      <td>39112</td>\n",
       "      <td>White</td>\n",
       "    </tr>\n",
       "    <tr>\n",
       "      <th>27</th>\n",
       "      <td>2009</td>\n",
       "      <td>Asian and Pacific Islander</td>\n",
       "      <td>2.8</td>\n",
       "      <td>2.0</td>\n",
       "      <td>0.8</td>\n",
       "      <td>50.0</td>\n",
       "      <td>36.0</td>\n",
       "      <td>14.0</td>\n",
       "      <td>17729</td>\n",
       "      <td>Asian</td>\n",
       "    </tr>\n",
       "    <tr>\n",
       "      <th>28</th>\n",
       "      <td>2011</td>\n",
       "      <td>White Non-Hispanic</td>\n",
       "      <td>3.1</td>\n",
       "      <td>2.1</td>\n",
       "      <td>0.9</td>\n",
       "      <td>118.0</td>\n",
       "      <td>82.0</td>\n",
       "      <td>36.0</td>\n",
       "      <td>38573</td>\n",
       "      <td>White</td>\n",
       "    </tr>\n",
       "    <tr>\n",
       "      <th>29</th>\n",
       "      <td>2011</td>\n",
       "      <td>Asian and Pacific Islander</td>\n",
       "      <td>2.9</td>\n",
       "      <td>1.8</td>\n",
       "      <td>1.2</td>\n",
       "      <td>57.0</td>\n",
       "      <td>34.0</td>\n",
       "      <td>23.0</td>\n",
       "      <td>19399</td>\n",
       "      <td>Asian</td>\n",
       "    </tr>\n",
       "    <tr>\n",
       "      <th>31</th>\n",
       "      <td>2014</td>\n",
       "      <td>Asian and Pacific Islander</td>\n",
       "      <td>2.6</td>\n",
       "      <td>1.8</td>\n",
       "      <td>0.8</td>\n",
       "      <td>53.0</td>\n",
       "      <td>37.0</td>\n",
       "      <td>16.0</td>\n",
       "      <td>20746</td>\n",
       "      <td>Asian</td>\n",
       "    </tr>\n",
       "    <tr>\n",
       "      <th>32</th>\n",
       "      <td>2008</td>\n",
       "      <td>Black Non-Hispanic</td>\n",
       "      <td>10.2</td>\n",
       "      <td>6.5</td>\n",
       "      <td>3.7</td>\n",
       "      <td>284.0</td>\n",
       "      <td>182.0</td>\n",
       "      <td>102.0</td>\n",
       "      <td>27917</td>\n",
       "      <td>Black</td>\n",
       "    </tr>\n",
       "    <tr>\n",
       "      <th>33</th>\n",
       "      <td>2014</td>\n",
       "      <td>Other Hispanic</td>\n",
       "      <td>4.1</td>\n",
       "      <td>2.4</td>\n",
       "      <td>1.7</td>\n",
       "      <td>113.0</td>\n",
       "      <td>66.0</td>\n",
       "      <td>47.0</td>\n",
       "      <td>27753</td>\n",
       "      <td>Hispanic</td>\n",
       "    </tr>\n",
       "    <tr>\n",
       "      <th>34</th>\n",
       "      <td>2014</td>\n",
       "      <td>White Non-Hispanic</td>\n",
       "      <td>2.6</td>\n",
       "      <td>1.9</td>\n",
       "      <td>0.8</td>\n",
       "      <td>107.0</td>\n",
       "      <td>75.0</td>\n",
       "      <td>32.0</td>\n",
       "      <td>40443</td>\n",
       "      <td>White</td>\n",
       "    </tr>\n",
       "    <tr>\n",
       "      <th>35</th>\n",
       "      <td>2007</td>\n",
       "      <td>Other Hispanic</td>\n",
       "      <td>4.3</td>\n",
       "      <td>2.7</td>\n",
       "      <td>1.6</td>\n",
       "      <td>130.0</td>\n",
       "      <td>82.0</td>\n",
       "      <td>48.0</td>\n",
       "      <td>30483</td>\n",
       "      <td>Hispanic</td>\n",
       "    </tr>\n",
       "    <tr>\n",
       "      <th>36</th>\n",
       "      <td>2009</td>\n",
       "      <td>Other Hispanic</td>\n",
       "      <td>4.8</td>\n",
       "      <td>3.2</td>\n",
       "      <td>1.6</td>\n",
       "      <td>147.0</td>\n",
       "      <td>97.0</td>\n",
       "      <td>50.0</td>\n",
       "      <td>30328</td>\n",
       "      <td>Hispanic</td>\n",
       "    </tr>\n",
       "    <tr>\n",
       "      <th>40</th>\n",
       "      <td>2012</td>\n",
       "      <td>Other Hispanic</td>\n",
       "      <td>4.8</td>\n",
       "      <td>3.2</td>\n",
       "      <td>1.5</td>\n",
       "      <td>133.0</td>\n",
       "      <td>90.0</td>\n",
       "      <td>43.0</td>\n",
       "      <td>27969</td>\n",
       "      <td>Hispanic</td>\n",
       "    </tr>\n",
       "    <tr>\n",
       "      <th>44</th>\n",
       "      <td>2013</td>\n",
       "      <td>Asian and Pacific Islander</td>\n",
       "      <td>3.1</td>\n",
       "      <td>2.5</td>\n",
       "      <td>0.6</td>\n",
       "      <td>62.0</td>\n",
       "      <td>50.0</td>\n",
       "      <td>12.0</td>\n",
       "      <td>19767</td>\n",
       "      <td>Asian</td>\n",
       "    </tr>\n",
       "    <tr>\n",
       "      <th>45</th>\n",
       "      <td>2012</td>\n",
       "      <td>Black Non-Hispanic</td>\n",
       "      <td>8.5</td>\n",
       "      <td>5.5</td>\n",
       "      <td>3.1</td>\n",
       "      <td>211.0</td>\n",
       "      <td>135.0</td>\n",
       "      <td>76.0</td>\n",
       "      <td>24758</td>\n",
       "      <td>Black</td>\n",
       "    </tr>\n",
       "    <tr>\n",
       "      <th>46</th>\n",
       "      <td>2013</td>\n",
       "      <td>White Non-Hispanic</td>\n",
       "      <td>3.0</td>\n",
       "      <td>2.1</td>\n",
       "      <td>0.8</td>\n",
       "      <td>117.0</td>\n",
       "      <td>85.0</td>\n",
       "      <td>32.0</td>\n",
       "      <td>39573</td>\n",
       "      <td>White</td>\n",
       "    </tr>\n",
       "    <tr>\n",
       "      <th>47</th>\n",
       "      <td>2008</td>\n",
       "      <td>Asian and Pacific Islander</td>\n",
       "      <td>3.2</td>\n",
       "      <td>2.4</td>\n",
       "      <td>0.8</td>\n",
       "      <td>59.0</td>\n",
       "      <td>44.0</td>\n",
       "      <td>15.0</td>\n",
       "      <td>18204</td>\n",
       "      <td>Asian</td>\n",
       "    </tr>\n",
       "    <tr>\n",
       "      <th>49</th>\n",
       "      <td>2016</td>\n",
       "      <td>Other Hispanic</td>\n",
       "      <td>3.8</td>\n",
       "      <td>2.4</td>\n",
       "      <td>1.4</td>\n",
       "      <td>102.0</td>\n",
       "      <td>65.0</td>\n",
       "      <td>37.0</td>\n",
       "      <td>26915</td>\n",
       "      <td>Hispanic</td>\n",
       "    </tr>\n",
       "    <tr>\n",
       "      <th>51</th>\n",
       "      <td>2015</td>\n",
       "      <td>Other Hispanic</td>\n",
       "      <td>4.3</td>\n",
       "      <td>2.9</td>\n",
       "      <td>1.4</td>\n",
       "      <td>119.0</td>\n",
       "      <td>80.0</td>\n",
       "      <td>39.0</td>\n",
       "      <td>27994</td>\n",
       "      <td>Hispanic</td>\n",
       "    </tr>\n",
       "    <tr>\n",
       "      <th>52</th>\n",
       "      <td>2016</td>\n",
       "      <td>Non-Hispanic White</td>\n",
       "      <td>2.6</td>\n",
       "      <td>1.6</td>\n",
       "      <td>1.0</td>\n",
       "      <td>105.0</td>\n",
       "      <td>65.0</td>\n",
       "      <td>40.0</td>\n",
       "      <td>40633</td>\n",
       "      <td>White</td>\n",
       "    </tr>\n",
       "    <tr>\n",
       "      <th>53</th>\n",
       "      <td>2016</td>\n",
       "      <td>Non-Hispanic Black</td>\n",
       "      <td>8.0</td>\n",
       "      <td>4.9</td>\n",
       "      <td>3.2</td>\n",
       "      <td>180.0</td>\n",
       "      <td>109.0</td>\n",
       "      <td>71.0</td>\n",
       "      <td>22465</td>\n",
       "      <td>Black</td>\n",
       "    </tr>\n",
       "    <tr>\n",
       "      <th>54</th>\n",
       "      <td>2016</td>\n",
       "      <td>Asian and Pacific Islander</td>\n",
       "      <td>2.9</td>\n",
       "      <td>2.0</td>\n",
       "      <td>0.9</td>\n",
       "      <td>62.0</td>\n",
       "      <td>43.0</td>\n",
       "      <td>19.0</td>\n",
       "      <td>21566</td>\n",
       "      <td>Asian</td>\n",
       "    </tr>\n",
       "    <tr>\n",
       "      <th>55</th>\n",
       "      <td>2015</td>\n",
       "      <td>Non-Hispanic Black</td>\n",
       "      <td>8.0</td>\n",
       "      <td>4.8</td>\n",
       "      <td>3.2</td>\n",
       "      <td>186.0</td>\n",
       "      <td>112.0</td>\n",
       "      <td>74.0</td>\n",
       "      <td>23116</td>\n",
       "      <td>Black</td>\n",
       "    </tr>\n",
       "    <tr>\n",
       "      <th>57</th>\n",
       "      <td>2015</td>\n",
       "      <td>Non-Hispanic White</td>\n",
       "      <td>2.7</td>\n",
       "      <td>1.8</td>\n",
       "      <td>0.9</td>\n",
       "      <td>110.0</td>\n",
       "      <td>75.0</td>\n",
       "      <td>35.0</td>\n",
       "      <td>40607</td>\n",
       "      <td>White</td>\n",
       "    </tr>\n",
       "    <tr>\n",
       "      <th>59</th>\n",
       "      <td>2015</td>\n",
       "      <td>Asian and Pacific Islander</td>\n",
       "      <td>2.6</td>\n",
       "      <td>1.6</td>\n",
       "      <td>1.0</td>\n",
       "      <td>54.0</td>\n",
       "      <td>33.0</td>\n",
       "      <td>21.0</td>\n",
       "      <td>20535</td>\n",
       "      <td>Asian</td>\n",
       "    </tr>\n",
       "    <tr>\n",
       "      <th>61</th>\n",
       "      <td>2017</td>\n",
       "      <td>Other Hispanic</td>\n",
       "      <td>4.3</td>\n",
       "      <td>2.9</td>\n",
       "      <td>1.5</td>\n",
       "      <td>115.0</td>\n",
       "      <td>76.0</td>\n",
       "      <td>39.0</td>\n",
       "      <td>26553</td>\n",
       "      <td>Hispanic</td>\n",
       "    </tr>\n",
       "    <tr>\n",
       "      <th>62</th>\n",
       "      <td>2017</td>\n",
       "      <td>Asian and Pacific Islander</td>\n",
       "      <td>3.4</td>\n",
       "      <td>2.6</td>\n",
       "      <td>0.8</td>\n",
       "      <td>69.0</td>\n",
       "      <td>52.0</td>\n",
       "      <td>17.0</td>\n",
       "      <td>20110</td>\n",
       "      <td>Asian</td>\n",
       "    </tr>\n",
       "    <tr>\n",
       "      <th>63</th>\n",
       "      <td>2017</td>\n",
       "      <td>Non-Hispanic White</td>\n",
       "      <td>2.4</td>\n",
       "      <td>1.6</td>\n",
       "      <td>0.7</td>\n",
       "      <td>95.0</td>\n",
       "      <td>66.0</td>\n",
       "      <td>29.0</td>\n",
       "      <td>40345</td>\n",
       "      <td>White</td>\n",
       "    </tr>\n",
       "    <tr>\n",
       "      <th>64</th>\n",
       "      <td>2017</td>\n",
       "      <td>Non-Hispanic Black</td>\n",
       "      <td>7.8</td>\n",
       "      <td>5.5</td>\n",
       "      <td>2.3</td>\n",
       "      <td>171.0</td>\n",
       "      <td>121.0</td>\n",
       "      <td>50.0</td>\n",
       "      <td>21992</td>\n",
       "      <td>Black</td>\n",
       "    </tr>\n",
       "    <tr>\n",
       "      <th>68</th>\n",
       "      <td>2019</td>\n",
       "      <td>Other Hispanic</td>\n",
       "      <td>3.9</td>\n",
       "      <td>2.9</td>\n",
       "      <td>1.0</td>\n",
       "      <td>97.0</td>\n",
       "      <td>71.0</td>\n",
       "      <td>26.0</td>\n",
       "      <td>24796</td>\n",
       "      <td>Hispanic</td>\n",
       "    </tr>\n",
       "    <tr>\n",
       "      <th>69</th>\n",
       "      <td>2019</td>\n",
       "      <td>Asian and Pacific Islander</td>\n",
       "      <td>2.5</td>\n",
       "      <td>1.6</td>\n",
       "      <td>0.9</td>\n",
       "      <td>46.0</td>\n",
       "      <td>30.0</td>\n",
       "      <td>16.0</td>\n",
       "      <td>18725</td>\n",
       "      <td>Asian</td>\n",
       "    </tr>\n",
       "    <tr>\n",
       "      <th>70</th>\n",
       "      <td>2019</td>\n",
       "      <td>Non-Hispanic White</td>\n",
       "      <td>2.6</td>\n",
       "      <td>1.9</td>\n",
       "      <td>0.8</td>\n",
       "      <td>104.0</td>\n",
       "      <td>73.0</td>\n",
       "      <td>31.0</td>\n",
       "      <td>39278</td>\n",
       "      <td>White</td>\n",
       "    </tr>\n",
       "    <tr>\n",
       "      <th>71</th>\n",
       "      <td>2019</td>\n",
       "      <td>Non-Hispanic Black</td>\n",
       "      <td>8.6</td>\n",
       "      <td>5.3</td>\n",
       "      <td>3.3</td>\n",
       "      <td>173.0</td>\n",
       "      <td>106.0</td>\n",
       "      <td>67.0</td>\n",
       "      <td>20053</td>\n",
       "      <td>Black</td>\n",
       "    </tr>\n",
       "    <tr>\n",
       "      <th>75</th>\n",
       "      <td>2020</td>\n",
       "      <td>Other Hispanic</td>\n",
       "      <td>4.3</td>\n",
       "      <td>2.8</td>\n",
       "      <td>1.5</td>\n",
       "      <td>99.0</td>\n",
       "      <td>65.0</td>\n",
       "      <td>34.0</td>\n",
       "      <td>23236</td>\n",
       "      <td>Hispanic</td>\n",
       "    </tr>\n",
       "    <tr>\n",
       "      <th>77</th>\n",
       "      <td>2020</td>\n",
       "      <td>White NH</td>\n",
       "      <td>2.2</td>\n",
       "      <td>1.5</td>\n",
       "      <td>0.7</td>\n",
       "      <td>77.0</td>\n",
       "      <td>52.0</td>\n",
       "      <td>25.0</td>\n",
       "      <td>35812</td>\n",
       "      <td>White</td>\n",
       "    </tr>\n",
       "    <tr>\n",
       "      <th>78</th>\n",
       "      <td>2020</td>\n",
       "      <td>Black NH</td>\n",
       "      <td>6.9</td>\n",
       "      <td>3.8</td>\n",
       "      <td>3.1</td>\n",
       "      <td>126.0</td>\n",
       "      <td>69.0</td>\n",
       "      <td>57.0</td>\n",
       "      <td>18162</td>\n",
       "      <td>Black</td>\n",
       "    </tr>\n",
       "    <tr>\n",
       "      <th>83</th>\n",
       "      <td>2021</td>\n",
       "      <td>Other Hispanic</td>\n",
       "      <td>3.8</td>\n",
       "      <td>2.1</td>\n",
       "      <td>1.7</td>\n",
       "      <td>91.0</td>\n",
       "      <td>50.0</td>\n",
       "      <td>41.0</td>\n",
       "      <td>23836</td>\n",
       "      <td>Hispanic</td>\n",
       "    </tr>\n",
       "    <tr>\n",
       "      <th>84</th>\n",
       "      <td>2021</td>\n",
       "      <td>Asian and Pacific Islander</td>\n",
       "      <td>2.7</td>\n",
       "      <td>1.9</td>\n",
       "      <td>0.8</td>\n",
       "      <td>41.0</td>\n",
       "      <td>29.0</td>\n",
       "      <td>12.0</td>\n",
       "      <td>14927</td>\n",
       "      <td>Asian</td>\n",
       "    </tr>\n",
       "    <tr>\n",
       "      <th>85</th>\n",
       "      <td>2021</td>\n",
       "      <td>Non-Hispanic White</td>\n",
       "      <td>1.8</td>\n",
       "      <td>1.1</td>\n",
       "      <td>0.7</td>\n",
       "      <td>66.0</td>\n",
       "      <td>39.0</td>\n",
       "      <td>27.0</td>\n",
       "      <td>36023</td>\n",
       "      <td>White</td>\n",
       "    </tr>\n",
       "    <tr>\n",
       "      <th>86</th>\n",
       "      <td>2021</td>\n",
       "      <td>Non-Hispanic Black</td>\n",
       "      <td>9.2</td>\n",
       "      <td>5.6</td>\n",
       "      <td>3.6</td>\n",
       "      <td>162.0</td>\n",
       "      <td>99.0</td>\n",
       "      <td>63.0</td>\n",
       "      <td>17608</td>\n",
       "      <td>Black</td>\n",
       "    </tr>\n",
       "  </tbody>\n",
       "</table>\n",
       "</div>"
      ],
      "text/plain": [
       "    Year   Materal Race or Ethnicity  Infant Mortality Rate  \\\n",
       "0   2007          Black Non-Hispanic                    9.8   \n",
       "1   2013              Other Hispanic                    4.3   \n",
       "2   2013          Black Non-Hispanic                    8.3   \n",
       "3   2008          White Non-Hispanic                    3.3   \n",
       "4   2009          Black Non-Hispanic                    9.5   \n",
       "5   2010          Black Non-Hispanic                    8.6   \n",
       "6   2010          White Non-Hispanic                    2.8   \n",
       "7   2011          Black Non-Hispanic                    8.1   \n",
       "11  2014          Black Non-Hispanic                    7.5   \n",
       "12  2011              Other Hispanic                    4.3   \n",
       "13  2009          White Non-Hispanic                    3.4   \n",
       "16  2008              Other Hispanic                    4.8   \n",
       "17  2010              Other Hispanic                    4.3   \n",
       "21  2007          White Non-Hispanic                    3.9   \n",
       "22  2012  Asian and Pacific Islander                    3.3   \n",
       "23  2010  Asian and Pacific Islander                    3.4   \n",
       "25  2007  Asian and Pacific Islander                    3.1   \n",
       "26  2012          White Non-Hispanic                    2.7   \n",
       "27  2009  Asian and Pacific Islander                    2.8   \n",
       "28  2011          White Non-Hispanic                    3.1   \n",
       "29  2011  Asian and Pacific Islander                    2.9   \n",
       "31  2014  Asian and Pacific Islander                    2.6   \n",
       "32  2008          Black Non-Hispanic                   10.2   \n",
       "33  2014              Other Hispanic                    4.1   \n",
       "34  2014          White Non-Hispanic                    2.6   \n",
       "35  2007              Other Hispanic                    4.3   \n",
       "36  2009              Other Hispanic                    4.8   \n",
       "40  2012              Other Hispanic                    4.8   \n",
       "44  2013  Asian and Pacific Islander                    3.1   \n",
       "45  2012          Black Non-Hispanic                    8.5   \n",
       "46  2013          White Non-Hispanic                    3.0   \n",
       "47  2008  Asian and Pacific Islander                    3.2   \n",
       "49  2016              Other Hispanic                    3.8   \n",
       "51  2015              Other Hispanic                    4.3   \n",
       "52  2016          Non-Hispanic White                    2.6   \n",
       "53  2016          Non-Hispanic Black                    8.0   \n",
       "54  2016  Asian and Pacific Islander                    2.9   \n",
       "55  2015          Non-Hispanic Black                    8.0   \n",
       "57  2015          Non-Hispanic White                    2.7   \n",
       "59  2015  Asian and Pacific Islander                    2.6   \n",
       "61  2017              Other Hispanic                    4.3   \n",
       "62  2017  Asian and Pacific Islander                    3.4   \n",
       "63  2017          Non-Hispanic White                    2.4   \n",
       "64  2017          Non-Hispanic Black                    7.8   \n",
       "68  2019              Other Hispanic                    3.9   \n",
       "69  2019  Asian and Pacific Islander                    2.5   \n",
       "70  2019          Non-Hispanic White                    2.6   \n",
       "71  2019          Non-Hispanic Black                    8.6   \n",
       "75  2020              Other Hispanic                    4.3   \n",
       "77  2020                    White NH                    2.2   \n",
       "78  2020                    Black NH                    6.9   \n",
       "83  2021              Other Hispanic                    3.8   \n",
       "84  2021  Asian and Pacific Islander                    2.7   \n",
       "85  2021          Non-Hispanic White                    1.8   \n",
       "86  2021          Non-Hispanic Black                    9.2   \n",
       "\n",
       "    Neonatal Mortality Rate  Postneonatal Mortality Rate  Infant Deaths  \\\n",
       "0                       6.0                          3.8          287.0   \n",
       "1                       2.6                          1.7          120.0   \n",
       "2                       5.5                          2.9          201.0   \n",
       "3                       2.1                          1.1          125.0   \n",
       "4                       5.8                          3.7          259.0   \n",
       "5                       5.6                          3.1          230.0   \n",
       "6                       2.0                          0.8          104.0   \n",
       "7                       5.3                          2.9          210.0   \n",
       "11                      4.3                          3.1          177.0   \n",
       "12                      2.8                          1.6          124.0   \n",
       "13                      2.5                          0.9          131.0   \n",
       "16                      3.3                          1.5          143.0   \n",
       "17                      2.7                          1.6          129.0   \n",
       "21                      2.4                          1.6          155.0   \n",
       "22                      2.1                          1.2           70.0   \n",
       "23                      2.3                          1.2           62.0   \n",
       "25                      2.0                          1.0           59.0   \n",
       "26                      1.7                          0.9          104.0   \n",
       "27                      2.0                          0.8           50.0   \n",
       "28                      2.1                          0.9          118.0   \n",
       "29                      1.8                          1.2           57.0   \n",
       "31                      1.8                          0.8           53.0   \n",
       "32                      6.5                          3.7          284.0   \n",
       "33                      2.4                          1.7          113.0   \n",
       "34                      1.9                          0.8          107.0   \n",
       "35                      2.7                          1.6          130.0   \n",
       "36                      3.2                          1.6          147.0   \n",
       "40                      3.2                          1.5          133.0   \n",
       "44                      2.5                          0.6           62.0   \n",
       "45                      5.5                          3.1          211.0   \n",
       "46                      2.1                          0.8          117.0   \n",
       "47                      2.4                          0.8           59.0   \n",
       "49                      2.4                          1.4          102.0   \n",
       "51                      2.9                          1.4          119.0   \n",
       "52                      1.6                          1.0          105.0   \n",
       "53                      4.9                          3.2          180.0   \n",
       "54                      2.0                          0.9           62.0   \n",
       "55                      4.8                          3.2          186.0   \n",
       "57                      1.8                          0.9          110.0   \n",
       "59                      1.6                          1.0           54.0   \n",
       "61                      2.9                          1.5          115.0   \n",
       "62                      2.6                          0.8           69.0   \n",
       "63                      1.6                          0.7           95.0   \n",
       "64                      5.5                          2.3          171.0   \n",
       "68                      2.9                          1.0           97.0   \n",
       "69                      1.6                          0.9           46.0   \n",
       "70                      1.9                          0.8          104.0   \n",
       "71                      5.3                          3.3          173.0   \n",
       "75                      2.8                          1.5           99.0   \n",
       "77                      1.5                          0.7           77.0   \n",
       "78                      3.8                          3.1          126.0   \n",
       "83                      2.1                          1.7           91.0   \n",
       "84                      1.9                          0.8           41.0   \n",
       "85                      1.1                          0.7           66.0   \n",
       "86                      5.6                          3.6          162.0   \n",
       "\n",
       "    Neonatal Infant Deaths  Postneonatal Infant Deaths  Number of Live Births  \\\n",
       "0                    177.0                       110.0                  29268   \n",
       "1                     72.0                        48.0                  27621   \n",
       "2                    132.0                        69.0                  24108   \n",
       "3                     82.0                        43.0                  38383   \n",
       "4                    158.0                       101.0                  27405   \n",
       "5                    148.0                        82.0                  26635   \n",
       "6                     75.0                        29.0                  37780   \n",
       "7                    136.0                        74.0                  25825   \n",
       "11                   103.0                        74.0                  23680   \n",
       "12                    79.0                        45.0                  28643   \n",
       "13                    97.0                        34.0                  38438   \n",
       "16                    99.0                        44.0                  30029   \n",
       "17                    81.0                        48.0                  29764   \n",
       "21                    93.0                        62.0                  39351   \n",
       "22                    45.0                        25.0                  21149   \n",
       "23                    41.0                        21.0                  18047   \n",
       "25                    39.0                        20.0                  19291   \n",
       "26                    67.0                        37.0                  39112   \n",
       "27                    36.0                        14.0                  17729   \n",
       "28                    82.0                        36.0                  38573   \n",
       "29                    34.0                        23.0                  19399   \n",
       "31                    37.0                        16.0                  20746   \n",
       "32                   182.0                       102.0                  27917   \n",
       "33                    66.0                        47.0                  27753   \n",
       "34                    75.0                        32.0                  40443   \n",
       "35                    82.0                        48.0                  30483   \n",
       "36                    97.0                        50.0                  30328   \n",
       "40                    90.0                        43.0                  27969   \n",
       "44                    50.0                        12.0                  19767   \n",
       "45                   135.0                        76.0                  24758   \n",
       "46                    85.0                        32.0                  39573   \n",
       "47                    44.0                        15.0                  18204   \n",
       "49                    65.0                        37.0                  26915   \n",
       "51                    80.0                        39.0                  27994   \n",
       "52                    65.0                        40.0                  40633   \n",
       "53                   109.0                        71.0                  22465   \n",
       "54                    43.0                        19.0                  21566   \n",
       "55                   112.0                        74.0                  23116   \n",
       "57                    75.0                        35.0                  40607   \n",
       "59                    33.0                        21.0                  20535   \n",
       "61                    76.0                        39.0                  26553   \n",
       "62                    52.0                        17.0                  20110   \n",
       "63                    66.0                        29.0                  40345   \n",
       "64                   121.0                        50.0                  21992   \n",
       "68                    71.0                        26.0                  24796   \n",
       "69                    30.0                        16.0                  18725   \n",
       "70                    73.0                        31.0                  39278   \n",
       "71                   106.0                        67.0                  20053   \n",
       "75                    65.0                        34.0                  23236   \n",
       "77                    52.0                        25.0                  35812   \n",
       "78                    69.0                        57.0                  18162   \n",
       "83                    50.0                        41.0                  23836   \n",
       "84                    29.0                        12.0                  14927   \n",
       "85                    39.0                        27.0                  36023   \n",
       "86                    99.0                        63.0                  17608   \n",
       "\n",
       "   Race Category  \n",
       "0          Black  \n",
       "1       Hispanic  \n",
       "2          Black  \n",
       "3          White  \n",
       "4          Black  \n",
       "5          Black  \n",
       "6          White  \n",
       "7          Black  \n",
       "11         Black  \n",
       "12      Hispanic  \n",
       "13         White  \n",
       "16      Hispanic  \n",
       "17      Hispanic  \n",
       "21         White  \n",
       "22         Asian  \n",
       "23         Asian  \n",
       "25         Asian  \n",
       "26         White  \n",
       "27         Asian  \n",
       "28         White  \n",
       "29         Asian  \n",
       "31         Asian  \n",
       "32         Black  \n",
       "33      Hispanic  \n",
       "34         White  \n",
       "35      Hispanic  \n",
       "36      Hispanic  \n",
       "40      Hispanic  \n",
       "44         Asian  \n",
       "45         Black  \n",
       "46         White  \n",
       "47         Asian  \n",
       "49      Hispanic  \n",
       "51      Hispanic  \n",
       "52         White  \n",
       "53         Black  \n",
       "54         Asian  \n",
       "55         Black  \n",
       "57         White  \n",
       "59         Asian  \n",
       "61      Hispanic  \n",
       "62         Asian  \n",
       "63         White  \n",
       "64         Black  \n",
       "68      Hispanic  \n",
       "69         Asian  \n",
       "70         White  \n",
       "71         Black  \n",
       "75      Hispanic  \n",
       "77         White  \n",
       "78         Black  \n",
       "83      Hispanic  \n",
       "84         Asian  \n",
       "85         White  \n",
       "86         Black  "
      ]
     },
     "execution_count": 5,
     "metadata": {},
     "output_type": "execute_result"
    }
   ],
   "source": [
    "newinfant = infant[infant['Race Category'] != 'Other']\n",
    "newinfant"
   ]
  },
  {
   "cell_type": "code",
   "execution_count": 6,
   "id": "dbf852aa-e973-492a-aadf-0cf4b79362a9",
   "metadata": {
    "scrolled": true
   },
   "outputs": [
    {
     "data": {
      "text/html": [
       "<div>\n",
       "<style scoped>\n",
       "    .dataframe tbody tr th:only-of-type {\n",
       "        vertical-align: middle;\n",
       "    }\n",
       "\n",
       "    .dataframe tbody tr th {\n",
       "        vertical-align: top;\n",
       "    }\n",
       "\n",
       "    .dataframe thead th {\n",
       "        text-align: right;\n",
       "    }\n",
       "</style>\n",
       "<table border=\"1\" class=\"dataframe\">\n",
       "  <thead>\n",
       "    <tr style=\"text-align: right;\">\n",
       "      <th></th>\n",
       "      <th>Gender</th>\n",
       "      <th>Race</th>\n",
       "      <th>MOS_Type</th>\n",
       "      <th>ranklit</th>\n",
       "      <th>sex</th>\n",
       "      <th>appdate</th>\n",
       "      <th>YearsOnJob</th>\n",
       "      <th>YearsOnJob (bins)</th>\n",
       "    </tr>\n",
       "  </thead>\n",
       "  <tbody>\n",
       "    <tr>\n",
       "      <th>47496</th>\n",
       "      <td>Male</td>\n",
       "      <td>Asian</td>\n",
       "      <td>Uniform</td>\n",
       "      <td>Sergeant</td>\n",
       "      <td>Male</td>\n",
       "      <td>07/09/2013</td>\n",
       "      <td>11</td>\n",
       "      <td>10</td>\n",
       "    </tr>\n",
       "    <tr>\n",
       "      <th>23969</th>\n",
       "      <td>Female</td>\n",
       "      <td>Hispanic</td>\n",
       "      <td>Civilian</td>\n",
       "      <td>SPAA</td>\n",
       "      <td>Female</td>\n",
       "      <td>09/02/2010</td>\n",
       "      <td>14</td>\n",
       "      <td>10</td>\n",
       "    </tr>\n",
       "    <tr>\n",
       "      <th>47360</th>\n",
       "      <td>Male</td>\n",
       "      <td>Asian</td>\n",
       "      <td>Uniform</td>\n",
       "      <td>Sergeant</td>\n",
       "      <td>Male</td>\n",
       "      <td>07/06/2010</td>\n",
       "      <td>14</td>\n",
       "      <td>10</td>\n",
       "    </tr>\n",
       "    <tr>\n",
       "      <th>38491</th>\n",
       "      <td>Male</td>\n",
       "      <td>Hispanic</td>\n",
       "      <td>Uniform</td>\n",
       "      <td>Lieutenant</td>\n",
       "      <td>Male</td>\n",
       "      <td>07/01/2004</td>\n",
       "      <td>20</td>\n",
       "      <td>20</td>\n",
       "    </tr>\n",
       "    <tr>\n",
       "      <th>29759</th>\n",
       "      <td>Female</td>\n",
       "      <td>Hispanic</td>\n",
       "      <td>Civilian</td>\n",
       "      <td>SCG</td>\n",
       "      <td>Female</td>\n",
       "      <td>03/20/2015</td>\n",
       "      <td>9</td>\n",
       "      <td>5</td>\n",
       "    </tr>\n",
       "    <tr>\n",
       "      <th>8337</th>\n",
       "      <td>Male</td>\n",
       "      <td>Hispanic</td>\n",
       "      <td>Uniform</td>\n",
       "      <td>Police Officer</td>\n",
       "      <td>Male</td>\n",
       "      <td>10/07/2015</td>\n",
       "      <td>8</td>\n",
       "      <td>5</td>\n",
       "    </tr>\n",
       "    <tr>\n",
       "      <th>48393</th>\n",
       "      <td>Male</td>\n",
       "      <td>White</td>\n",
       "      <td>Uniform</td>\n",
       "      <td>Sergeant</td>\n",
       "      <td>Male</td>\n",
       "      <td>01/04/2017</td>\n",
       "      <td>7</td>\n",
       "      <td>5</td>\n",
       "    </tr>\n",
       "    <tr>\n",
       "      <th>27907</th>\n",
       "      <td>Female</td>\n",
       "      <td>Black</td>\n",
       "      <td>Civilian</td>\n",
       "      <td>Other</td>\n",
       "      <td>Female</td>\n",
       "      <td>08/03/2009</td>\n",
       "      <td>15</td>\n",
       "      <td>15</td>\n",
       "    </tr>\n",
       "    <tr>\n",
       "      <th>9874</th>\n",
       "      <td>Male</td>\n",
       "      <td>Hispanic</td>\n",
       "      <td>Uniform</td>\n",
       "      <td>Police Officer</td>\n",
       "      <td>Male</td>\n",
       "      <td>10/19/2022</td>\n",
       "      <td>1</td>\n",
       "      <td>0</td>\n",
       "    </tr>\n",
       "    <tr>\n",
       "      <th>35515</th>\n",
       "      <td>Male</td>\n",
       "      <td>Hispanic</td>\n",
       "      <td>Uniform</td>\n",
       "      <td>Lieutenant</td>\n",
       "      <td>Male</td>\n",
       "      <td>07/10/2006</td>\n",
       "      <td>18</td>\n",
       "      <td>15</td>\n",
       "    </tr>\n",
       "    <tr>\n",
       "      <th>35362</th>\n",
       "      <td>Male</td>\n",
       "      <td>Hispanic</td>\n",
       "      <td>Uniform</td>\n",
       "      <td>Lieutenant</td>\n",
       "      <td>Male</td>\n",
       "      <td>08/31/1998</td>\n",
       "      <td>26</td>\n",
       "      <td>25</td>\n",
       "    </tr>\n",
       "    <tr>\n",
       "      <th>10494</th>\n",
       "      <td>Male</td>\n",
       "      <td>Hispanic</td>\n",
       "      <td>Uniform</td>\n",
       "      <td>Police Officer</td>\n",
       "      <td>Male</td>\n",
       "      <td>04/13/2022</td>\n",
       "      <td>2</td>\n",
       "      <td>0</td>\n",
       "    </tr>\n",
       "    <tr>\n",
       "      <th>11633</th>\n",
       "      <td>Male</td>\n",
       "      <td>Asian</td>\n",
       "      <td>Uniform</td>\n",
       "      <td>Police Officer</td>\n",
       "      <td>Male</td>\n",
       "      <td>07/13/2022</td>\n",
       "      <td>2</td>\n",
       "      <td>0</td>\n",
       "    </tr>\n",
       "    <tr>\n",
       "      <th>13018</th>\n",
       "      <td>Male</td>\n",
       "      <td>Asian</td>\n",
       "      <td>Uniform</td>\n",
       "      <td>Police Officer</td>\n",
       "      <td>Male</td>\n",
       "      <td>07/06/2010</td>\n",
       "      <td>14</td>\n",
       "      <td>10</td>\n",
       "    </tr>\n",
       "    <tr>\n",
       "      <th>47646</th>\n",
       "      <td>Male</td>\n",
       "      <td>Asian</td>\n",
       "      <td>Uniform</td>\n",
       "      <td>Sergeant</td>\n",
       "      <td>Male</td>\n",
       "      <td>01/04/2017</td>\n",
       "      <td>7</td>\n",
       "      <td>5</td>\n",
       "    </tr>\n",
       "    <tr>\n",
       "      <th>28151</th>\n",
       "      <td>Female</td>\n",
       "      <td>Black</td>\n",
       "      <td>Civilian</td>\n",
       "      <td>Other</td>\n",
       "      <td>Female</td>\n",
       "      <td>03/27/2006</td>\n",
       "      <td>18</td>\n",
       "      <td>15</td>\n",
       "    </tr>\n",
       "    <tr>\n",
       "      <th>13978</th>\n",
       "      <td>Male</td>\n",
       "      <td>Black</td>\n",
       "      <td>Uniform</td>\n",
       "      <td>Police Officer</td>\n",
       "      <td>Male</td>\n",
       "      <td>07/11/2012</td>\n",
       "      <td>12</td>\n",
       "      <td>10</td>\n",
       "    </tr>\n",
       "    <tr>\n",
       "      <th>37429</th>\n",
       "      <td>Male</td>\n",
       "      <td>Asian</td>\n",
       "      <td>Civilian</td>\n",
       "      <td>Cadet</td>\n",
       "      <td>Male</td>\n",
       "      <td>07/30/2024</td>\n",
       "      <td>0</td>\n",
       "      <td>0</td>\n",
       "    </tr>\n",
       "    <tr>\n",
       "      <th>27738</th>\n",
       "      <td>Female</td>\n",
       "      <td>Black</td>\n",
       "      <td>Civilian</td>\n",
       "      <td>Other</td>\n",
       "      <td>Female</td>\n",
       "      <td>08/03/1998</td>\n",
       "      <td>26</td>\n",
       "      <td>25</td>\n",
       "    </tr>\n",
       "    <tr>\n",
       "      <th>42957</th>\n",
       "      <td>Male</td>\n",
       "      <td>White</td>\n",
       "      <td>Civilian</td>\n",
       "      <td>Other</td>\n",
       "      <td>Male</td>\n",
       "      <td>10/31/1991</td>\n",
       "      <td>32</td>\n",
       "      <td>30</td>\n",
       "    </tr>\n",
       "    <tr>\n",
       "      <th>29753</th>\n",
       "      <td>Female</td>\n",
       "      <td>Hispanic</td>\n",
       "      <td>Civilian</td>\n",
       "      <td>SCG</td>\n",
       "      <td>Female</td>\n",
       "      <td>10/24/2014</td>\n",
       "      <td>9</td>\n",
       "      <td>5</td>\n",
       "    </tr>\n",
       "    <tr>\n",
       "      <th>31102</th>\n",
       "      <td>Female</td>\n",
       "      <td>Asian</td>\n",
       "      <td>Civilian</td>\n",
       "      <td>SCG</td>\n",
       "      <td>Female</td>\n",
       "      <td>02/26/2018</td>\n",
       "      <td>6</td>\n",
       "      <td>5</td>\n",
       "    </tr>\n",
       "    <tr>\n",
       "      <th>36379</th>\n",
       "      <td>Male</td>\n",
       "      <td>Black</td>\n",
       "      <td>Civilian</td>\n",
       "      <td>SSA</td>\n",
       "      <td>Male</td>\n",
       "      <td>05/30/2000</td>\n",
       "      <td>24</td>\n",
       "      <td>20</td>\n",
       "    </tr>\n",
       "    <tr>\n",
       "      <th>24543</th>\n",
       "      <td>Female</td>\n",
       "      <td>Hispanic</td>\n",
       "      <td>Civilian</td>\n",
       "      <td>Other</td>\n",
       "      <td>Female</td>\n",
       "      <td>09/19/1983</td>\n",
       "      <td>41</td>\n",
       "      <td>40</td>\n",
       "    </tr>\n",
       "    <tr>\n",
       "      <th>8240</th>\n",
       "      <td>Male</td>\n",
       "      <td>Hispanic</td>\n",
       "      <td>Uniform</td>\n",
       "      <td>Police Officer</td>\n",
       "      <td>Male</td>\n",
       "      <td>10/11/2016</td>\n",
       "      <td>7</td>\n",
       "      <td>5</td>\n",
       "    </tr>\n",
       "    <tr>\n",
       "      <th>38670</th>\n",
       "      <td>Male</td>\n",
       "      <td>Black</td>\n",
       "      <td>Civilian</td>\n",
       "      <td>TEA</td>\n",
       "      <td>Male</td>\n",
       "      <td>02/22/2001</td>\n",
       "      <td>23</td>\n",
       "      <td>20</td>\n",
       "    </tr>\n",
       "    <tr>\n",
       "      <th>11204</th>\n",
       "      <td>Male</td>\n",
       "      <td>Asian</td>\n",
       "      <td>Uniform</td>\n",
       "      <td>Police Officer</td>\n",
       "      <td>Male</td>\n",
       "      <td>04/24/2024</td>\n",
       "      <td>0</td>\n",
       "      <td>0</td>\n",
       "    </tr>\n",
       "    <tr>\n",
       "      <th>24382</th>\n",
       "      <td>Female</td>\n",
       "      <td>Hispanic</td>\n",
       "      <td>Civilian</td>\n",
       "      <td>PAA</td>\n",
       "      <td>Female</td>\n",
       "      <td>10/31/2022</td>\n",
       "      <td>1</td>\n",
       "      <td>0</td>\n",
       "    </tr>\n",
       "    <tr>\n",
       "      <th>47096</th>\n",
       "      <td>Male</td>\n",
       "      <td>Hispanic</td>\n",
       "      <td>Uniform</td>\n",
       "      <td>Sergeant</td>\n",
       "      <td>Male</td>\n",
       "      <td>07/08/2015</td>\n",
       "      <td>9</td>\n",
       "      <td>5</td>\n",
       "    </tr>\n",
       "    <tr>\n",
       "      <th>8286</th>\n",
       "      <td>Male</td>\n",
       "      <td>Hispanic</td>\n",
       "      <td>Uniform</td>\n",
       "      <td>Police Officer</td>\n",
       "      <td>Male</td>\n",
       "      <td>10/11/2016</td>\n",
       "      <td>7</td>\n",
       "      <td>5</td>\n",
       "    </tr>\n",
       "  </tbody>\n",
       "</table>\n",
       "</div>"
      ],
      "text/plain": [
       "       Gender      Race  MOS_Type         ranklit     sex     appdate  \\\n",
       "47496    Male     Asian   Uniform        Sergeant    Male  07/09/2013   \n",
       "23969  Female  Hispanic  Civilian            SPAA  Female  09/02/2010   \n",
       "47360    Male     Asian   Uniform        Sergeant    Male  07/06/2010   \n",
       "38491    Male  Hispanic   Uniform      Lieutenant    Male  07/01/2004   \n",
       "29759  Female  Hispanic  Civilian             SCG  Female  03/20/2015   \n",
       "8337     Male  Hispanic   Uniform  Police Officer    Male  10/07/2015   \n",
       "48393    Male     White   Uniform        Sergeant    Male  01/04/2017   \n",
       "27907  Female     Black  Civilian           Other  Female  08/03/2009   \n",
       "9874     Male  Hispanic   Uniform  Police Officer    Male  10/19/2022   \n",
       "35515    Male  Hispanic   Uniform      Lieutenant    Male  07/10/2006   \n",
       "35362    Male  Hispanic   Uniform      Lieutenant    Male  08/31/1998   \n",
       "10494    Male  Hispanic   Uniform  Police Officer    Male  04/13/2022   \n",
       "11633    Male     Asian   Uniform  Police Officer    Male  07/13/2022   \n",
       "13018    Male     Asian   Uniform  Police Officer    Male  07/06/2010   \n",
       "47646    Male     Asian   Uniform        Sergeant    Male  01/04/2017   \n",
       "28151  Female     Black  Civilian           Other  Female  03/27/2006   \n",
       "13978    Male     Black   Uniform  Police Officer    Male  07/11/2012   \n",
       "37429    Male     Asian  Civilian           Cadet    Male  07/30/2024   \n",
       "27738  Female     Black  Civilian           Other  Female  08/03/1998   \n",
       "42957    Male     White  Civilian           Other    Male  10/31/1991   \n",
       "29753  Female  Hispanic  Civilian             SCG  Female  10/24/2014   \n",
       "31102  Female     Asian  Civilian             SCG  Female  02/26/2018   \n",
       "36379    Male     Black  Civilian             SSA    Male  05/30/2000   \n",
       "24543  Female  Hispanic  Civilian           Other  Female  09/19/1983   \n",
       "8240     Male  Hispanic   Uniform  Police Officer    Male  10/11/2016   \n",
       "38670    Male     Black  Civilian             TEA    Male  02/22/2001   \n",
       "11204    Male     Asian   Uniform  Police Officer    Male  04/24/2024   \n",
       "24382  Female  Hispanic  Civilian             PAA  Female  10/31/2022   \n",
       "47096    Male  Hispanic   Uniform        Sergeant    Male  07/08/2015   \n",
       "8286     Male  Hispanic   Uniform  Police Officer    Male  10/11/2016   \n",
       "\n",
       "       YearsOnJob  YearsOnJob (bins)  \n",
       "47496          11                 10  \n",
       "23969          14                 10  \n",
       "47360          14                 10  \n",
       "38491          20                 20  \n",
       "29759           9                  5  \n",
       "8337            8                  5  \n",
       "48393           7                  5  \n",
       "27907          15                 15  \n",
       "9874            1                  0  \n",
       "35515          18                 15  \n",
       "35362          26                 25  \n",
       "10494           2                  0  \n",
       "11633           2                  0  \n",
       "13018          14                 10  \n",
       "47646           7                  5  \n",
       "28151          18                 15  \n",
       "13978          12                 10  \n",
       "37429           0                  0  \n",
       "27738          26                 25  \n",
       "42957          32                 30  \n",
       "29753           9                  5  \n",
       "31102           6                  5  \n",
       "36379          24                 20  \n",
       "24543          41                 40  \n",
       "8240            7                  5  \n",
       "38670          23                 20  \n",
       "11204           0                  0  \n",
       "24382           1                  0  \n",
       "47096           9                  5  \n",
       "8286            7                  5  "
      ]
     },
     "execution_count": 6,
     "metadata": {},
     "output_type": "execute_result"
    }
   ],
   "source": [
    "perdemo = pd.read_csv('/Users/yutonomy/Dropbox/Columbia SIPA/24FALL/Computing in Context/Project2/NYPD_Personnel_Demographics_20241119.csv')\n",
    "perdemo.sample(30)"
   ]
  },
  {
   "cell_type": "code",
   "execution_count": 7,
   "id": "196e865e-a07c-4297-9c3e-1009c9f88492",
   "metadata": {},
   "outputs": [
    {
     "data": {
      "text/html": [
       "<div>\n",
       "<style scoped>\n",
       "    .dataframe tbody tr th:only-of-type {\n",
       "        vertical-align: middle;\n",
       "    }\n",
       "\n",
       "    .dataframe tbody tr th {\n",
       "        vertical-align: top;\n",
       "    }\n",
       "\n",
       "    .dataframe thead th {\n",
       "        text-align: right;\n",
       "    }\n",
       "</style>\n",
       "<table border=\"1\" class=\"dataframe\">\n",
       "  <thead>\n",
       "    <tr style=\"text-align: right;\">\n",
       "      <th></th>\n",
       "      <th>Race</th>\n",
       "      <th>YearsOnJob</th>\n",
       "    </tr>\n",
       "  </thead>\n",
       "  <tbody>\n",
       "    <tr>\n",
       "      <th>0</th>\n",
       "      <td>Asian</td>\n",
       "      <td>50980</td>\n",
       "    </tr>\n",
       "    <tr>\n",
       "      <th>1</th>\n",
       "      <td>Black</td>\n",
       "      <td>149450</td>\n",
       "    </tr>\n",
       "    <tr>\n",
       "      <th>2</th>\n",
       "      <td>Hispanic</td>\n",
       "      <td>138298</td>\n",
       "    </tr>\n",
       "    <tr>\n",
       "      <th>3</th>\n",
       "      <td>Native American</td>\n",
       "      <td>730</td>\n",
       "    </tr>\n",
       "    <tr>\n",
       "      <th>4</th>\n",
       "      <td>White</td>\n",
       "      <td>186893</td>\n",
       "    </tr>\n",
       "  </tbody>\n",
       "</table>\n",
       "</div>"
      ],
      "text/plain": [
       "              Race  YearsOnJob\n",
       "0            Asian       50980\n",
       "1            Black      149450\n",
       "2         Hispanic      138298\n",
       "3  Native American         730\n",
       "4            White      186893"
      ]
     },
     "execution_count": 7,
     "metadata": {},
     "output_type": "execute_result"
    }
   ],
   "source": [
    "grouped = perdemo.groupby(['Race'])['YearsOnJob'].sum().reset_index()\n",
    "grouped"
   ]
  },
  {
   "cell_type": "code",
   "execution_count": 8,
   "id": "1d49b282-4ace-42e9-92d0-cb7459b8cf48",
   "metadata": {
    "scrolled": true
   },
   "outputs": [
    {
     "data": {
      "text/html": [
       "<div>\n",
       "<style scoped>\n",
       "    .dataframe tbody tr th:only-of-type {\n",
       "        vertical-align: middle;\n",
       "    }\n",
       "\n",
       "    .dataframe tbody tr th {\n",
       "        vertical-align: top;\n",
       "    }\n",
       "\n",
       "    .dataframe thead th {\n",
       "        text-align: right;\n",
       "    }\n",
       "</style>\n",
       "<table border=\"1\" class=\"dataframe\">\n",
       "  <thead>\n",
       "    <tr style=\"text-align: right;\">\n",
       "      <th></th>\n",
       "      <th>Race</th>\n",
       "      <th>YearsOnJob</th>\n",
       "      <th>avg_YearsOnJob</th>\n",
       "    </tr>\n",
       "  </thead>\n",
       "  <tbody>\n",
       "    <tr>\n",
       "      <th>0</th>\n",
       "      <td>Asian</td>\n",
       "      <td>50980</td>\n",
       "      <td>25490.0</td>\n",
       "    </tr>\n",
       "    <tr>\n",
       "      <th>1</th>\n",
       "      <td>Black</td>\n",
       "      <td>149450</td>\n",
       "      <td>74725.0</td>\n",
       "    </tr>\n",
       "    <tr>\n",
       "      <th>2</th>\n",
       "      <td>Hispanic</td>\n",
       "      <td>138298</td>\n",
       "      <td>69149.0</td>\n",
       "    </tr>\n",
       "    <tr>\n",
       "      <th>3</th>\n",
       "      <td>Native American</td>\n",
       "      <td>730</td>\n",
       "      <td>365.0</td>\n",
       "    </tr>\n",
       "    <tr>\n",
       "      <th>4</th>\n",
       "      <td>White</td>\n",
       "      <td>186893</td>\n",
       "      <td>93446.5</td>\n",
       "    </tr>\n",
       "  </tbody>\n",
       "</table>\n",
       "</div>"
      ],
      "text/plain": [
       "              Race  YearsOnJob  avg_YearsOnJob\n",
       "0            Asian       50980         25490.0\n",
       "1            Black      149450         74725.0\n",
       "2         Hispanic      138298         69149.0\n",
       "3  Native American         730           365.0\n",
       "4            White      186893         93446.5"
      ]
     },
     "execution_count": 8,
     "metadata": {},
     "output_type": "execute_result"
    }
   ],
   "source": [
    "grouped[\"avg_YearsOnJob\"] = grouped[\"YearsOnJob\"]/2\n",
    "grouped"
   ]
  },
  {
   "cell_type": "code",
   "execution_count": 9,
   "id": "e7c6f210-3f1c-4570-855d-f3eff7281231",
   "metadata": {},
   "outputs": [
    {
     "data": {
      "text/html": [
       "<div>\n",
       "<style scoped>\n",
       "    .dataframe tbody tr th:only-of-type {\n",
       "        vertical-align: middle;\n",
       "    }\n",
       "\n",
       "    .dataframe tbody tr th {\n",
       "        vertical-align: top;\n",
       "    }\n",
       "\n",
       "    .dataframe thead th {\n",
       "        text-align: right;\n",
       "    }\n",
       "</style>\n",
       "<table border=\"1\" class=\"dataframe\">\n",
       "  <thead>\n",
       "    <tr style=\"text-align: right;\">\n",
       "      <th></th>\n",
       "      <th>Race</th>\n",
       "      <th>YearsOnJob</th>\n",
       "      <th>avg_YearsOnJob</th>\n",
       "    </tr>\n",
       "  </thead>\n",
       "  <tbody>\n",
       "    <tr>\n",
       "      <th>0</th>\n",
       "      <td>Asian</td>\n",
       "      <td>50980</td>\n",
       "      <td>25490.0</td>\n",
       "    </tr>\n",
       "    <tr>\n",
       "      <th>1</th>\n",
       "      <td>Black</td>\n",
       "      <td>149450</td>\n",
       "      <td>74725.0</td>\n",
       "    </tr>\n",
       "    <tr>\n",
       "      <th>2</th>\n",
       "      <td>Hispanic</td>\n",
       "      <td>138298</td>\n",
       "      <td>69149.0</td>\n",
       "    </tr>\n",
       "    <tr>\n",
       "      <th>4</th>\n",
       "      <td>White</td>\n",
       "      <td>186893</td>\n",
       "      <td>93446.5</td>\n",
       "    </tr>\n",
       "  </tbody>\n",
       "</table>\n",
       "</div>"
      ],
      "text/plain": [
       "       Race  YearsOnJob  avg_YearsOnJob\n",
       "0     Asian       50980         25490.0\n",
       "1     Black      149450         74725.0\n",
       "2  Hispanic      138298         69149.0\n",
       "4     White      186893         93446.5"
      ]
     },
     "execution_count": 9,
     "metadata": {},
     "output_type": "execute_result"
    }
   ],
   "source": [
    "newgrouped = grouped[grouped['Race'] != 'Native American']\n",
    "newgrouped"
   ]
  },
  {
   "cell_type": "code",
   "execution_count": 10,
   "id": "22b3726a-8729-4c00-9ee1-309debc5db78",
   "metadata": {},
   "outputs": [
    {
     "data": {
      "application/vnd.plotly.v1+json": {
       "config": {
        "plotlyServerURL": "https://plot.ly"
       },
       "data": [
        {
         "alignmentgroup": "True",
         "bingroup": "x",
         "histfunc": "sum",
         "hovertemplate": "Race=%{x}<br>sum of Average Years on Job=%{y}<extra></extra>",
         "legendgroup": "",
         "marker": {
          "color": "#636efa",
          "pattern": {
           "shape": ""
          }
         },
         "name": "",
         "offsetgroup": "",
         "orientation": "v",
         "showlegend": false,
         "type": "histogram",
         "x": [
          "Asian",
          "Black",
          "Hispanic",
          "White"
         ],
         "xaxis": "x",
         "y": [
          25490,
          74725,
          69149,
          93446.5
         ],
         "yaxis": "y"
        }
       ],
       "layout": {
        "barmode": "relative",
        "legend": {
         "tracegroupgap": 0
        },
        "template": {
         "data": {
          "bar": [
           {
            "error_x": {
             "color": "#2a3f5f"
            },
            "error_y": {
             "color": "#2a3f5f"
            },
            "marker": {
             "line": {
              "color": "#E5ECF6",
              "width": 0.5
             },
             "pattern": {
              "fillmode": "overlay",
              "size": 10,
              "solidity": 0.2
             }
            },
            "type": "bar"
           }
          ],
          "barpolar": [
           {
            "marker": {
             "line": {
              "color": "#E5ECF6",
              "width": 0.5
             },
             "pattern": {
              "fillmode": "overlay",
              "size": 10,
              "solidity": 0.2
             }
            },
            "type": "barpolar"
           }
          ],
          "carpet": [
           {
            "aaxis": {
             "endlinecolor": "#2a3f5f",
             "gridcolor": "white",
             "linecolor": "white",
             "minorgridcolor": "white",
             "startlinecolor": "#2a3f5f"
            },
            "baxis": {
             "endlinecolor": "#2a3f5f",
             "gridcolor": "white",
             "linecolor": "white",
             "minorgridcolor": "white",
             "startlinecolor": "#2a3f5f"
            },
            "type": "carpet"
           }
          ],
          "choropleth": [
           {
            "colorbar": {
             "outlinewidth": 0,
             "ticks": ""
            },
            "type": "choropleth"
           }
          ],
          "contour": [
           {
            "colorbar": {
             "outlinewidth": 0,
             "ticks": ""
            },
            "colorscale": [
             [
              0,
              "#0d0887"
             ],
             [
              0.1111111111111111,
              "#46039f"
             ],
             [
              0.2222222222222222,
              "#7201a8"
             ],
             [
              0.3333333333333333,
              "#9c179e"
             ],
             [
              0.4444444444444444,
              "#bd3786"
             ],
             [
              0.5555555555555556,
              "#d8576b"
             ],
             [
              0.6666666666666666,
              "#ed7953"
             ],
             [
              0.7777777777777778,
              "#fb9f3a"
             ],
             [
              0.8888888888888888,
              "#fdca26"
             ],
             [
              1,
              "#f0f921"
             ]
            ],
            "type": "contour"
           }
          ],
          "contourcarpet": [
           {
            "colorbar": {
             "outlinewidth": 0,
             "ticks": ""
            },
            "type": "contourcarpet"
           }
          ],
          "heatmap": [
           {
            "colorbar": {
             "outlinewidth": 0,
             "ticks": ""
            },
            "colorscale": [
             [
              0,
              "#0d0887"
             ],
             [
              0.1111111111111111,
              "#46039f"
             ],
             [
              0.2222222222222222,
              "#7201a8"
             ],
             [
              0.3333333333333333,
              "#9c179e"
             ],
             [
              0.4444444444444444,
              "#bd3786"
             ],
             [
              0.5555555555555556,
              "#d8576b"
             ],
             [
              0.6666666666666666,
              "#ed7953"
             ],
             [
              0.7777777777777778,
              "#fb9f3a"
             ],
             [
              0.8888888888888888,
              "#fdca26"
             ],
             [
              1,
              "#f0f921"
             ]
            ],
            "type": "heatmap"
           }
          ],
          "heatmapgl": [
           {
            "colorbar": {
             "outlinewidth": 0,
             "ticks": ""
            },
            "colorscale": [
             [
              0,
              "#0d0887"
             ],
             [
              0.1111111111111111,
              "#46039f"
             ],
             [
              0.2222222222222222,
              "#7201a8"
             ],
             [
              0.3333333333333333,
              "#9c179e"
             ],
             [
              0.4444444444444444,
              "#bd3786"
             ],
             [
              0.5555555555555556,
              "#d8576b"
             ],
             [
              0.6666666666666666,
              "#ed7953"
             ],
             [
              0.7777777777777778,
              "#fb9f3a"
             ],
             [
              0.8888888888888888,
              "#fdca26"
             ],
             [
              1,
              "#f0f921"
             ]
            ],
            "type": "heatmapgl"
           }
          ],
          "histogram": [
           {
            "marker": {
             "pattern": {
              "fillmode": "overlay",
              "size": 10,
              "solidity": 0.2
             }
            },
            "type": "histogram"
           }
          ],
          "histogram2d": [
           {
            "colorbar": {
             "outlinewidth": 0,
             "ticks": ""
            },
            "colorscale": [
             [
              0,
              "#0d0887"
             ],
             [
              0.1111111111111111,
              "#46039f"
             ],
             [
              0.2222222222222222,
              "#7201a8"
             ],
             [
              0.3333333333333333,
              "#9c179e"
             ],
             [
              0.4444444444444444,
              "#bd3786"
             ],
             [
              0.5555555555555556,
              "#d8576b"
             ],
             [
              0.6666666666666666,
              "#ed7953"
             ],
             [
              0.7777777777777778,
              "#fb9f3a"
             ],
             [
              0.8888888888888888,
              "#fdca26"
             ],
             [
              1,
              "#f0f921"
             ]
            ],
            "type": "histogram2d"
           }
          ],
          "histogram2dcontour": [
           {
            "colorbar": {
             "outlinewidth": 0,
             "ticks": ""
            },
            "colorscale": [
             [
              0,
              "#0d0887"
             ],
             [
              0.1111111111111111,
              "#46039f"
             ],
             [
              0.2222222222222222,
              "#7201a8"
             ],
             [
              0.3333333333333333,
              "#9c179e"
             ],
             [
              0.4444444444444444,
              "#bd3786"
             ],
             [
              0.5555555555555556,
              "#d8576b"
             ],
             [
              0.6666666666666666,
              "#ed7953"
             ],
             [
              0.7777777777777778,
              "#fb9f3a"
             ],
             [
              0.8888888888888888,
              "#fdca26"
             ],
             [
              1,
              "#f0f921"
             ]
            ],
            "type": "histogram2dcontour"
           }
          ],
          "mesh3d": [
           {
            "colorbar": {
             "outlinewidth": 0,
             "ticks": ""
            },
            "type": "mesh3d"
           }
          ],
          "parcoords": [
           {
            "line": {
             "colorbar": {
              "outlinewidth": 0,
              "ticks": ""
             }
            },
            "type": "parcoords"
           }
          ],
          "pie": [
           {
            "automargin": true,
            "type": "pie"
           }
          ],
          "scatter": [
           {
            "fillpattern": {
             "fillmode": "overlay",
             "size": 10,
             "solidity": 0.2
            },
            "type": "scatter"
           }
          ],
          "scatter3d": [
           {
            "line": {
             "colorbar": {
              "outlinewidth": 0,
              "ticks": ""
             }
            },
            "marker": {
             "colorbar": {
              "outlinewidth": 0,
              "ticks": ""
             }
            },
            "type": "scatter3d"
           }
          ],
          "scattercarpet": [
           {
            "marker": {
             "colorbar": {
              "outlinewidth": 0,
              "ticks": ""
             }
            },
            "type": "scattercarpet"
           }
          ],
          "scattergeo": [
           {
            "marker": {
             "colorbar": {
              "outlinewidth": 0,
              "ticks": ""
             }
            },
            "type": "scattergeo"
           }
          ],
          "scattergl": [
           {
            "marker": {
             "colorbar": {
              "outlinewidth": 0,
              "ticks": ""
             }
            },
            "type": "scattergl"
           }
          ],
          "scattermapbox": [
           {
            "marker": {
             "colorbar": {
              "outlinewidth": 0,
              "ticks": ""
             }
            },
            "type": "scattermapbox"
           }
          ],
          "scatterpolar": [
           {
            "marker": {
             "colorbar": {
              "outlinewidth": 0,
              "ticks": ""
             }
            },
            "type": "scatterpolar"
           }
          ],
          "scatterpolargl": [
           {
            "marker": {
             "colorbar": {
              "outlinewidth": 0,
              "ticks": ""
             }
            },
            "type": "scatterpolargl"
           }
          ],
          "scatterternary": [
           {
            "marker": {
             "colorbar": {
              "outlinewidth": 0,
              "ticks": ""
             }
            },
            "type": "scatterternary"
           }
          ],
          "surface": [
           {
            "colorbar": {
             "outlinewidth": 0,
             "ticks": ""
            },
            "colorscale": [
             [
              0,
              "#0d0887"
             ],
             [
              0.1111111111111111,
              "#46039f"
             ],
             [
              0.2222222222222222,
              "#7201a8"
             ],
             [
              0.3333333333333333,
              "#9c179e"
             ],
             [
              0.4444444444444444,
              "#bd3786"
             ],
             [
              0.5555555555555556,
              "#d8576b"
             ],
             [
              0.6666666666666666,
              "#ed7953"
             ],
             [
              0.7777777777777778,
              "#fb9f3a"
             ],
             [
              0.8888888888888888,
              "#fdca26"
             ],
             [
              1,
              "#f0f921"
             ]
            ],
            "type": "surface"
           }
          ],
          "table": [
           {
            "cells": {
             "fill": {
              "color": "#EBF0F8"
             },
             "line": {
              "color": "white"
             }
            },
            "header": {
             "fill": {
              "color": "#C8D4E3"
             },
             "line": {
              "color": "white"
             }
            },
            "type": "table"
           }
          ]
         },
         "layout": {
          "annotationdefaults": {
           "arrowcolor": "#2a3f5f",
           "arrowhead": 0,
           "arrowwidth": 1
          },
          "autotypenumbers": "strict",
          "coloraxis": {
           "colorbar": {
            "outlinewidth": 0,
            "ticks": ""
           }
          },
          "colorscale": {
           "diverging": [
            [
             0,
             "#8e0152"
            ],
            [
             0.1,
             "#c51b7d"
            ],
            [
             0.2,
             "#de77ae"
            ],
            [
             0.3,
             "#f1b6da"
            ],
            [
             0.4,
             "#fde0ef"
            ],
            [
             0.5,
             "#f7f7f7"
            ],
            [
             0.6,
             "#e6f5d0"
            ],
            [
             0.7,
             "#b8e186"
            ],
            [
             0.8,
             "#7fbc41"
            ],
            [
             0.9,
             "#4d9221"
            ],
            [
             1,
             "#276419"
            ]
           ],
           "sequential": [
            [
             0,
             "#0d0887"
            ],
            [
             0.1111111111111111,
             "#46039f"
            ],
            [
             0.2222222222222222,
             "#7201a8"
            ],
            [
             0.3333333333333333,
             "#9c179e"
            ],
            [
             0.4444444444444444,
             "#bd3786"
            ],
            [
             0.5555555555555556,
             "#d8576b"
            ],
            [
             0.6666666666666666,
             "#ed7953"
            ],
            [
             0.7777777777777778,
             "#fb9f3a"
            ],
            [
             0.8888888888888888,
             "#fdca26"
            ],
            [
             1,
             "#f0f921"
            ]
           ],
           "sequentialminus": [
            [
             0,
             "#0d0887"
            ],
            [
             0.1111111111111111,
             "#46039f"
            ],
            [
             0.2222222222222222,
             "#7201a8"
            ],
            [
             0.3333333333333333,
             "#9c179e"
            ],
            [
             0.4444444444444444,
             "#bd3786"
            ],
            [
             0.5555555555555556,
             "#d8576b"
            ],
            [
             0.6666666666666666,
             "#ed7953"
            ],
            [
             0.7777777777777778,
             "#fb9f3a"
            ],
            [
             0.8888888888888888,
             "#fdca26"
            ],
            [
             1,
             "#f0f921"
            ]
           ]
          },
          "colorway": [
           "#636efa",
           "#EF553B",
           "#00cc96",
           "#ab63fa",
           "#FFA15A",
           "#19d3f3",
           "#FF6692",
           "#B6E880",
           "#FF97FF",
           "#FECB52"
          ],
          "font": {
           "color": "#2a3f5f"
          },
          "geo": {
           "bgcolor": "white",
           "lakecolor": "white",
           "landcolor": "#E5ECF6",
           "showlakes": true,
           "showland": true,
           "subunitcolor": "white"
          },
          "hoverlabel": {
           "align": "left"
          },
          "hovermode": "closest",
          "mapbox": {
           "style": "light"
          },
          "paper_bgcolor": "white",
          "plot_bgcolor": "#E5ECF6",
          "polar": {
           "angularaxis": {
            "gridcolor": "white",
            "linecolor": "white",
            "ticks": ""
           },
           "bgcolor": "#E5ECF6",
           "radialaxis": {
            "gridcolor": "white",
            "linecolor": "white",
            "ticks": ""
           }
          },
          "scene": {
           "xaxis": {
            "backgroundcolor": "#E5ECF6",
            "gridcolor": "white",
            "gridwidth": 2,
            "linecolor": "white",
            "showbackground": true,
            "ticks": "",
            "zerolinecolor": "white"
           },
           "yaxis": {
            "backgroundcolor": "#E5ECF6",
            "gridcolor": "white",
            "gridwidth": 2,
            "linecolor": "white",
            "showbackground": true,
            "ticks": "",
            "zerolinecolor": "white"
           },
           "zaxis": {
            "backgroundcolor": "#E5ECF6",
            "gridcolor": "white",
            "gridwidth": 2,
            "linecolor": "white",
            "showbackground": true,
            "ticks": "",
            "zerolinecolor": "white"
           }
          },
          "shapedefaults": {
           "line": {
            "color": "#2a3f5f"
           }
          },
          "ternary": {
           "aaxis": {
            "gridcolor": "white",
            "linecolor": "white",
            "ticks": ""
           },
           "baxis": {
            "gridcolor": "white",
            "linecolor": "white",
            "ticks": ""
           },
           "bgcolor": "#E5ECF6",
           "caxis": {
            "gridcolor": "white",
            "linecolor": "white",
            "ticks": ""
           }
          },
          "title": {
           "x": 0.05
          },
          "xaxis": {
           "automargin": true,
           "gridcolor": "white",
           "linecolor": "white",
           "ticks": "",
           "title": {
            "standoff": 15
           },
           "zerolinecolor": "white",
           "zerolinewidth": 2
          },
          "yaxis": {
           "automargin": true,
           "gridcolor": "white",
           "linecolor": "white",
           "ticks": "",
           "title": {
            "standoff": 15
           },
           "zerolinecolor": "white",
           "zerolinewidth": 2
          }
         }
        },
        "title": {
         "text": "Average Years on Job by Race"
        },
        "xaxis": {
         "anchor": "y",
         "domain": [
          0,
          1
         ],
         "title": {
          "text": "Race"
         }
        },
        "yaxis": {
         "anchor": "x",
         "domain": [
          0,
          1
         ],
         "title": {
          "text": "sum of Average Years on Job"
         }
        }
       }
      }
     },
     "metadata": {},
     "output_type": "display_data"
    }
   ],
   "source": [
    "import plotly.express as px #data visualization No.1\n",
    "\n",
    "fig = px.histogram(newgrouped, x=\"Race\", y=\"avg_YearsOnJob\", title=\"Average Years on Job by Race\",\n",
    "              labels={\"avg_YearsOnJob\": \"Average Years on Job\", \"Race\": \"Race\"})\n",
    "fig.show()\n"
   ]
  },
  {
   "cell_type": "code",
   "execution_count": 11,
   "id": "cdb6fdb7-155b-4505-8dde-a957d6ef9095",
   "metadata": {},
   "outputs": [
    {
     "data": {
      "text/html": [
       "<div>\n",
       "<style scoped>\n",
       "    .dataframe tbody tr th:only-of-type {\n",
       "        vertical-align: middle;\n",
       "    }\n",
       "\n",
       "    .dataframe tbody tr th {\n",
       "        vertical-align: top;\n",
       "    }\n",
       "\n",
       "    .dataframe thead th {\n",
       "        text-align: right;\n",
       "    }\n",
       "</style>\n",
       "<table border=\"1\" class=\"dataframe\">\n",
       "  <thead>\n",
       "    <tr style=\"text-align: right;\">\n",
       "      <th></th>\n",
       "      <th>Year</th>\n",
       "      <th>Materal Race or Ethnicity</th>\n",
       "      <th>Infant Mortality Rate</th>\n",
       "      <th>Neonatal Mortality Rate</th>\n",
       "      <th>Postneonatal Mortality Rate</th>\n",
       "      <th>Infant Deaths</th>\n",
       "      <th>Neonatal Infant Deaths</th>\n",
       "      <th>Postneonatal Infant Deaths</th>\n",
       "      <th>Number of Live Births</th>\n",
       "      <th>Race Category</th>\n",
       "    </tr>\n",
       "  </thead>\n",
       "  <tbody>\n",
       "    <tr>\n",
       "      <th>83</th>\n",
       "      <td>2021</td>\n",
       "      <td>Other Hispanic</td>\n",
       "      <td>3.8</td>\n",
       "      <td>2.1</td>\n",
       "      <td>1.7</td>\n",
       "      <td>91.0</td>\n",
       "      <td>50.0</td>\n",
       "      <td>41.0</td>\n",
       "      <td>23836</td>\n",
       "      <td>Hispanic</td>\n",
       "    </tr>\n",
       "    <tr>\n",
       "      <th>84</th>\n",
       "      <td>2021</td>\n",
       "      <td>Asian and Pacific Islander</td>\n",
       "      <td>2.7</td>\n",
       "      <td>1.9</td>\n",
       "      <td>0.8</td>\n",
       "      <td>41.0</td>\n",
       "      <td>29.0</td>\n",
       "      <td>12.0</td>\n",
       "      <td>14927</td>\n",
       "      <td>Asian</td>\n",
       "    </tr>\n",
       "    <tr>\n",
       "      <th>85</th>\n",
       "      <td>2021</td>\n",
       "      <td>Non-Hispanic White</td>\n",
       "      <td>1.8</td>\n",
       "      <td>1.1</td>\n",
       "      <td>0.7</td>\n",
       "      <td>66.0</td>\n",
       "      <td>39.0</td>\n",
       "      <td>27.0</td>\n",
       "      <td>36023</td>\n",
       "      <td>White</td>\n",
       "    </tr>\n",
       "    <tr>\n",
       "      <th>86</th>\n",
       "      <td>2021</td>\n",
       "      <td>Non-Hispanic Black</td>\n",
       "      <td>9.2</td>\n",
       "      <td>5.6</td>\n",
       "      <td>3.6</td>\n",
       "      <td>162.0</td>\n",
       "      <td>99.0</td>\n",
       "      <td>63.0</td>\n",
       "      <td>17608</td>\n",
       "      <td>Black</td>\n",
       "    </tr>\n",
       "  </tbody>\n",
       "</table>\n",
       "</div>"
      ],
      "text/plain": [
       "    Year   Materal Race or Ethnicity  Infant Mortality Rate  \\\n",
       "83  2021              Other Hispanic                    3.8   \n",
       "84  2021  Asian and Pacific Islander                    2.7   \n",
       "85  2021          Non-Hispanic White                    1.8   \n",
       "86  2021          Non-Hispanic Black                    9.2   \n",
       "\n",
       "    Neonatal Mortality Rate  Postneonatal Mortality Rate  Infant Deaths  \\\n",
       "83                      2.1                          1.7           91.0   \n",
       "84                      1.9                          0.8           41.0   \n",
       "85                      1.1                          0.7           66.0   \n",
       "86                      5.6                          3.6          162.0   \n",
       "\n",
       "    Neonatal Infant Deaths  Postneonatal Infant Deaths  Number of Live Births  \\\n",
       "83                    50.0                        41.0                  23836   \n",
       "84                    29.0                        12.0                  14927   \n",
       "85                    39.0                        27.0                  36023   \n",
       "86                    99.0                        63.0                  17608   \n",
       "\n",
       "   Race Category  \n",
       "83      Hispanic  \n",
       "84         Asian  \n",
       "85         White  \n",
       "86         Black  "
      ]
     },
     "execution_count": 11,
     "metadata": {},
     "output_type": "execute_result"
    }
   ],
   "source": [
    "newinfant_2021 = newinfant[newinfant['Year'] == 2021]\n",
    "newinfant_2021"
   ]
  },
  {
   "cell_type": "code",
   "execution_count": 12,
   "id": "d30a35d6-0225-4daf-9627-5bb15040d3b4",
   "metadata": {},
   "outputs": [
    {
     "name": "stderr",
     "output_type": "stream",
     "text": [
      "/var/folders/86/12w2lyq17mxfsvf2zgc0sh780000gn/T/ipykernel_90420/3651253750.py:1: SettingWithCopyWarning:\n",
      "\n",
      "\n",
      "A value is trying to be set on a copy of a slice from a DataFrame\n",
      "\n",
      "See the caveats in the documentation: https://pandas.pydata.org/pandas-docs/stable/user_guide/indexing.html#returning-a-view-versus-a-copy\n",
      "\n"
     ]
    },
    {
     "data": {
      "text/html": [
       "<div>\n",
       "<style scoped>\n",
       "    .dataframe tbody tr th:only-of-type {\n",
       "        vertical-align: middle;\n",
       "    }\n",
       "\n",
       "    .dataframe tbody tr th {\n",
       "        vertical-align: top;\n",
       "    }\n",
       "\n",
       "    .dataframe thead th {\n",
       "        text-align: right;\n",
       "    }\n",
       "</style>\n",
       "<table border=\"1\" class=\"dataframe\">\n",
       "  <thead>\n",
       "    <tr style=\"text-align: right;\">\n",
       "      <th></th>\n",
       "      <th>Year</th>\n",
       "      <th>Materal Race or Ethnicity</th>\n",
       "      <th>Infant Mortality Rate</th>\n",
       "      <th>Neonatal Mortality Rate</th>\n",
       "      <th>Postneonatal Mortality Rate</th>\n",
       "      <th>Infant Deaths</th>\n",
       "      <th>Neonatal Infant Deaths</th>\n",
       "      <th>Postneonatal Infant Deaths</th>\n",
       "      <th>Number of Live Births</th>\n",
       "      <th>Race</th>\n",
       "    </tr>\n",
       "  </thead>\n",
       "  <tbody>\n",
       "    <tr>\n",
       "      <th>83</th>\n",
       "      <td>2021</td>\n",
       "      <td>Other Hispanic</td>\n",
       "      <td>3.8</td>\n",
       "      <td>2.1</td>\n",
       "      <td>1.7</td>\n",
       "      <td>91.0</td>\n",
       "      <td>50.0</td>\n",
       "      <td>41.0</td>\n",
       "      <td>23836</td>\n",
       "      <td>Hispanic</td>\n",
       "    </tr>\n",
       "    <tr>\n",
       "      <th>84</th>\n",
       "      <td>2021</td>\n",
       "      <td>Asian and Pacific Islander</td>\n",
       "      <td>2.7</td>\n",
       "      <td>1.9</td>\n",
       "      <td>0.8</td>\n",
       "      <td>41.0</td>\n",
       "      <td>29.0</td>\n",
       "      <td>12.0</td>\n",
       "      <td>14927</td>\n",
       "      <td>Asian</td>\n",
       "    </tr>\n",
       "    <tr>\n",
       "      <th>85</th>\n",
       "      <td>2021</td>\n",
       "      <td>Non-Hispanic White</td>\n",
       "      <td>1.8</td>\n",
       "      <td>1.1</td>\n",
       "      <td>0.7</td>\n",
       "      <td>66.0</td>\n",
       "      <td>39.0</td>\n",
       "      <td>27.0</td>\n",
       "      <td>36023</td>\n",
       "      <td>White</td>\n",
       "    </tr>\n",
       "    <tr>\n",
       "      <th>86</th>\n",
       "      <td>2021</td>\n",
       "      <td>Non-Hispanic Black</td>\n",
       "      <td>9.2</td>\n",
       "      <td>5.6</td>\n",
       "      <td>3.6</td>\n",
       "      <td>162.0</td>\n",
       "      <td>99.0</td>\n",
       "      <td>63.0</td>\n",
       "      <td>17608</td>\n",
       "      <td>Black</td>\n",
       "    </tr>\n",
       "  </tbody>\n",
       "</table>\n",
       "</div>"
      ],
      "text/plain": [
       "    Year   Materal Race or Ethnicity  Infant Mortality Rate  \\\n",
       "83  2021              Other Hispanic                    3.8   \n",
       "84  2021  Asian and Pacific Islander                    2.7   \n",
       "85  2021          Non-Hispanic White                    1.8   \n",
       "86  2021          Non-Hispanic Black                    9.2   \n",
       "\n",
       "    Neonatal Mortality Rate  Postneonatal Mortality Rate  Infant Deaths  \\\n",
       "83                      2.1                          1.7           91.0   \n",
       "84                      1.9                          0.8           41.0   \n",
       "85                      1.1                          0.7           66.0   \n",
       "86                      5.6                          3.6          162.0   \n",
       "\n",
       "    Neonatal Infant Deaths  Postneonatal Infant Deaths  Number of Live Births  \\\n",
       "83                    50.0                        41.0                  23836   \n",
       "84                    29.0                        12.0                  14927   \n",
       "85                    39.0                        27.0                  36023   \n",
       "86                    99.0                        63.0                  17608   \n",
       "\n",
       "        Race  \n",
       "83  Hispanic  \n",
       "84     Asian  \n",
       "85     White  \n",
       "86     Black  "
      ]
     },
     "execution_count": 12,
     "metadata": {},
     "output_type": "execute_result"
    }
   ],
   "source": [
    "newinfant_2021.rename(columns={\"Race Category\":\"Race\"}, inplace=True)\n",
    "newinfant_2021"
   ]
  },
  {
   "cell_type": "code",
   "execution_count": 13,
   "id": "101c652e-e1cd-452e-b794-8f3561ec272a",
   "metadata": {
    "scrolled": true
   },
   "outputs": [
    {
     "data": {
      "application/vnd.plotly.v1+json": {
       "config": {
        "plotlyServerURL": "https://plot.ly"
       },
       "data": [
        {
         "alignmentgroup": "True",
         "bingroup": "x",
         "histfunc": "sum",
         "hovertemplate": "Race=%{x}<br>sum of Infant Mortality Rate=%{y}<extra></extra>",
         "legendgroup": "",
         "marker": {
          "color": "#636efa",
          "pattern": {
           "shape": ""
          }
         },
         "name": "",
         "offsetgroup": "",
         "orientation": "v",
         "showlegend": false,
         "type": "histogram",
         "x": [
          "Hispanic",
          "Asian",
          "White",
          "Black"
         ],
         "xaxis": "x",
         "y": [
          3.8,
          2.7,
          1.8,
          9.2
         ],
         "yaxis": "y"
        }
       ],
       "layout": {
        "barmode": "relative",
        "legend": {
         "tracegroupgap": 0
        },
        "template": {
         "data": {
          "bar": [
           {
            "error_x": {
             "color": "#2a3f5f"
            },
            "error_y": {
             "color": "#2a3f5f"
            },
            "marker": {
             "line": {
              "color": "#E5ECF6",
              "width": 0.5
             },
             "pattern": {
              "fillmode": "overlay",
              "size": 10,
              "solidity": 0.2
             }
            },
            "type": "bar"
           }
          ],
          "barpolar": [
           {
            "marker": {
             "line": {
              "color": "#E5ECF6",
              "width": 0.5
             },
             "pattern": {
              "fillmode": "overlay",
              "size": 10,
              "solidity": 0.2
             }
            },
            "type": "barpolar"
           }
          ],
          "carpet": [
           {
            "aaxis": {
             "endlinecolor": "#2a3f5f",
             "gridcolor": "white",
             "linecolor": "white",
             "minorgridcolor": "white",
             "startlinecolor": "#2a3f5f"
            },
            "baxis": {
             "endlinecolor": "#2a3f5f",
             "gridcolor": "white",
             "linecolor": "white",
             "minorgridcolor": "white",
             "startlinecolor": "#2a3f5f"
            },
            "type": "carpet"
           }
          ],
          "choropleth": [
           {
            "colorbar": {
             "outlinewidth": 0,
             "ticks": ""
            },
            "type": "choropleth"
           }
          ],
          "contour": [
           {
            "colorbar": {
             "outlinewidth": 0,
             "ticks": ""
            },
            "colorscale": [
             [
              0,
              "#0d0887"
             ],
             [
              0.1111111111111111,
              "#46039f"
             ],
             [
              0.2222222222222222,
              "#7201a8"
             ],
             [
              0.3333333333333333,
              "#9c179e"
             ],
             [
              0.4444444444444444,
              "#bd3786"
             ],
             [
              0.5555555555555556,
              "#d8576b"
             ],
             [
              0.6666666666666666,
              "#ed7953"
             ],
             [
              0.7777777777777778,
              "#fb9f3a"
             ],
             [
              0.8888888888888888,
              "#fdca26"
             ],
             [
              1,
              "#f0f921"
             ]
            ],
            "type": "contour"
           }
          ],
          "contourcarpet": [
           {
            "colorbar": {
             "outlinewidth": 0,
             "ticks": ""
            },
            "type": "contourcarpet"
           }
          ],
          "heatmap": [
           {
            "colorbar": {
             "outlinewidth": 0,
             "ticks": ""
            },
            "colorscale": [
             [
              0,
              "#0d0887"
             ],
             [
              0.1111111111111111,
              "#46039f"
             ],
             [
              0.2222222222222222,
              "#7201a8"
             ],
             [
              0.3333333333333333,
              "#9c179e"
             ],
             [
              0.4444444444444444,
              "#bd3786"
             ],
             [
              0.5555555555555556,
              "#d8576b"
             ],
             [
              0.6666666666666666,
              "#ed7953"
             ],
             [
              0.7777777777777778,
              "#fb9f3a"
             ],
             [
              0.8888888888888888,
              "#fdca26"
             ],
             [
              1,
              "#f0f921"
             ]
            ],
            "type": "heatmap"
           }
          ],
          "heatmapgl": [
           {
            "colorbar": {
             "outlinewidth": 0,
             "ticks": ""
            },
            "colorscale": [
             [
              0,
              "#0d0887"
             ],
             [
              0.1111111111111111,
              "#46039f"
             ],
             [
              0.2222222222222222,
              "#7201a8"
             ],
             [
              0.3333333333333333,
              "#9c179e"
             ],
             [
              0.4444444444444444,
              "#bd3786"
             ],
             [
              0.5555555555555556,
              "#d8576b"
             ],
             [
              0.6666666666666666,
              "#ed7953"
             ],
             [
              0.7777777777777778,
              "#fb9f3a"
             ],
             [
              0.8888888888888888,
              "#fdca26"
             ],
             [
              1,
              "#f0f921"
             ]
            ],
            "type": "heatmapgl"
           }
          ],
          "histogram": [
           {
            "marker": {
             "pattern": {
              "fillmode": "overlay",
              "size": 10,
              "solidity": 0.2
             }
            },
            "type": "histogram"
           }
          ],
          "histogram2d": [
           {
            "colorbar": {
             "outlinewidth": 0,
             "ticks": ""
            },
            "colorscale": [
             [
              0,
              "#0d0887"
             ],
             [
              0.1111111111111111,
              "#46039f"
             ],
             [
              0.2222222222222222,
              "#7201a8"
             ],
             [
              0.3333333333333333,
              "#9c179e"
             ],
             [
              0.4444444444444444,
              "#bd3786"
             ],
             [
              0.5555555555555556,
              "#d8576b"
             ],
             [
              0.6666666666666666,
              "#ed7953"
             ],
             [
              0.7777777777777778,
              "#fb9f3a"
             ],
             [
              0.8888888888888888,
              "#fdca26"
             ],
             [
              1,
              "#f0f921"
             ]
            ],
            "type": "histogram2d"
           }
          ],
          "histogram2dcontour": [
           {
            "colorbar": {
             "outlinewidth": 0,
             "ticks": ""
            },
            "colorscale": [
             [
              0,
              "#0d0887"
             ],
             [
              0.1111111111111111,
              "#46039f"
             ],
             [
              0.2222222222222222,
              "#7201a8"
             ],
             [
              0.3333333333333333,
              "#9c179e"
             ],
             [
              0.4444444444444444,
              "#bd3786"
             ],
             [
              0.5555555555555556,
              "#d8576b"
             ],
             [
              0.6666666666666666,
              "#ed7953"
             ],
             [
              0.7777777777777778,
              "#fb9f3a"
             ],
             [
              0.8888888888888888,
              "#fdca26"
             ],
             [
              1,
              "#f0f921"
             ]
            ],
            "type": "histogram2dcontour"
           }
          ],
          "mesh3d": [
           {
            "colorbar": {
             "outlinewidth": 0,
             "ticks": ""
            },
            "type": "mesh3d"
           }
          ],
          "parcoords": [
           {
            "line": {
             "colorbar": {
              "outlinewidth": 0,
              "ticks": ""
             }
            },
            "type": "parcoords"
           }
          ],
          "pie": [
           {
            "automargin": true,
            "type": "pie"
           }
          ],
          "scatter": [
           {
            "fillpattern": {
             "fillmode": "overlay",
             "size": 10,
             "solidity": 0.2
            },
            "type": "scatter"
           }
          ],
          "scatter3d": [
           {
            "line": {
             "colorbar": {
              "outlinewidth": 0,
              "ticks": ""
             }
            },
            "marker": {
             "colorbar": {
              "outlinewidth": 0,
              "ticks": ""
             }
            },
            "type": "scatter3d"
           }
          ],
          "scattercarpet": [
           {
            "marker": {
             "colorbar": {
              "outlinewidth": 0,
              "ticks": ""
             }
            },
            "type": "scattercarpet"
           }
          ],
          "scattergeo": [
           {
            "marker": {
             "colorbar": {
              "outlinewidth": 0,
              "ticks": ""
             }
            },
            "type": "scattergeo"
           }
          ],
          "scattergl": [
           {
            "marker": {
             "colorbar": {
              "outlinewidth": 0,
              "ticks": ""
             }
            },
            "type": "scattergl"
           }
          ],
          "scattermapbox": [
           {
            "marker": {
             "colorbar": {
              "outlinewidth": 0,
              "ticks": ""
             }
            },
            "type": "scattermapbox"
           }
          ],
          "scatterpolar": [
           {
            "marker": {
             "colorbar": {
              "outlinewidth": 0,
              "ticks": ""
             }
            },
            "type": "scatterpolar"
           }
          ],
          "scatterpolargl": [
           {
            "marker": {
             "colorbar": {
              "outlinewidth": 0,
              "ticks": ""
             }
            },
            "type": "scatterpolargl"
           }
          ],
          "scatterternary": [
           {
            "marker": {
             "colorbar": {
              "outlinewidth": 0,
              "ticks": ""
             }
            },
            "type": "scatterternary"
           }
          ],
          "surface": [
           {
            "colorbar": {
             "outlinewidth": 0,
             "ticks": ""
            },
            "colorscale": [
             [
              0,
              "#0d0887"
             ],
             [
              0.1111111111111111,
              "#46039f"
             ],
             [
              0.2222222222222222,
              "#7201a8"
             ],
             [
              0.3333333333333333,
              "#9c179e"
             ],
             [
              0.4444444444444444,
              "#bd3786"
             ],
             [
              0.5555555555555556,
              "#d8576b"
             ],
             [
              0.6666666666666666,
              "#ed7953"
             ],
             [
              0.7777777777777778,
              "#fb9f3a"
             ],
             [
              0.8888888888888888,
              "#fdca26"
             ],
             [
              1,
              "#f0f921"
             ]
            ],
            "type": "surface"
           }
          ],
          "table": [
           {
            "cells": {
             "fill": {
              "color": "#EBF0F8"
             },
             "line": {
              "color": "white"
             }
            },
            "header": {
             "fill": {
              "color": "#C8D4E3"
             },
             "line": {
              "color": "white"
             }
            },
            "type": "table"
           }
          ]
         },
         "layout": {
          "annotationdefaults": {
           "arrowcolor": "#2a3f5f",
           "arrowhead": 0,
           "arrowwidth": 1
          },
          "autotypenumbers": "strict",
          "coloraxis": {
           "colorbar": {
            "outlinewidth": 0,
            "ticks": ""
           }
          },
          "colorscale": {
           "diverging": [
            [
             0,
             "#8e0152"
            ],
            [
             0.1,
             "#c51b7d"
            ],
            [
             0.2,
             "#de77ae"
            ],
            [
             0.3,
             "#f1b6da"
            ],
            [
             0.4,
             "#fde0ef"
            ],
            [
             0.5,
             "#f7f7f7"
            ],
            [
             0.6,
             "#e6f5d0"
            ],
            [
             0.7,
             "#b8e186"
            ],
            [
             0.8,
             "#7fbc41"
            ],
            [
             0.9,
             "#4d9221"
            ],
            [
             1,
             "#276419"
            ]
           ],
           "sequential": [
            [
             0,
             "#0d0887"
            ],
            [
             0.1111111111111111,
             "#46039f"
            ],
            [
             0.2222222222222222,
             "#7201a8"
            ],
            [
             0.3333333333333333,
             "#9c179e"
            ],
            [
             0.4444444444444444,
             "#bd3786"
            ],
            [
             0.5555555555555556,
             "#d8576b"
            ],
            [
             0.6666666666666666,
             "#ed7953"
            ],
            [
             0.7777777777777778,
             "#fb9f3a"
            ],
            [
             0.8888888888888888,
             "#fdca26"
            ],
            [
             1,
             "#f0f921"
            ]
           ],
           "sequentialminus": [
            [
             0,
             "#0d0887"
            ],
            [
             0.1111111111111111,
             "#46039f"
            ],
            [
             0.2222222222222222,
             "#7201a8"
            ],
            [
             0.3333333333333333,
             "#9c179e"
            ],
            [
             0.4444444444444444,
             "#bd3786"
            ],
            [
             0.5555555555555556,
             "#d8576b"
            ],
            [
             0.6666666666666666,
             "#ed7953"
            ],
            [
             0.7777777777777778,
             "#fb9f3a"
            ],
            [
             0.8888888888888888,
             "#fdca26"
            ],
            [
             1,
             "#f0f921"
            ]
           ]
          },
          "colorway": [
           "#636efa",
           "#EF553B",
           "#00cc96",
           "#ab63fa",
           "#FFA15A",
           "#19d3f3",
           "#FF6692",
           "#B6E880",
           "#FF97FF",
           "#FECB52"
          ],
          "font": {
           "color": "#2a3f5f"
          },
          "geo": {
           "bgcolor": "white",
           "lakecolor": "white",
           "landcolor": "#E5ECF6",
           "showlakes": true,
           "showland": true,
           "subunitcolor": "white"
          },
          "hoverlabel": {
           "align": "left"
          },
          "hovermode": "closest",
          "mapbox": {
           "style": "light"
          },
          "paper_bgcolor": "white",
          "plot_bgcolor": "#E5ECF6",
          "polar": {
           "angularaxis": {
            "gridcolor": "white",
            "linecolor": "white",
            "ticks": ""
           },
           "bgcolor": "#E5ECF6",
           "radialaxis": {
            "gridcolor": "white",
            "linecolor": "white",
            "ticks": ""
           }
          },
          "scene": {
           "xaxis": {
            "backgroundcolor": "#E5ECF6",
            "gridcolor": "white",
            "gridwidth": 2,
            "linecolor": "white",
            "showbackground": true,
            "ticks": "",
            "zerolinecolor": "white"
           },
           "yaxis": {
            "backgroundcolor": "#E5ECF6",
            "gridcolor": "white",
            "gridwidth": 2,
            "linecolor": "white",
            "showbackground": true,
            "ticks": "",
            "zerolinecolor": "white"
           },
           "zaxis": {
            "backgroundcolor": "#E5ECF6",
            "gridcolor": "white",
            "gridwidth": 2,
            "linecolor": "white",
            "showbackground": true,
            "ticks": "",
            "zerolinecolor": "white"
           }
          },
          "shapedefaults": {
           "line": {
            "color": "#2a3f5f"
           }
          },
          "ternary": {
           "aaxis": {
            "gridcolor": "white",
            "linecolor": "white",
            "ticks": ""
           },
           "baxis": {
            "gridcolor": "white",
            "linecolor": "white",
            "ticks": ""
           },
           "bgcolor": "#E5ECF6",
           "caxis": {
            "gridcolor": "white",
            "linecolor": "white",
            "ticks": ""
           }
          },
          "title": {
           "x": 0.05
          },
          "xaxis": {
           "automargin": true,
           "gridcolor": "white",
           "linecolor": "white",
           "ticks": "",
           "title": {
            "standoff": 15
           },
           "zerolinecolor": "white",
           "zerolinewidth": 2
          },
          "yaxis": {
           "automargin": true,
           "gridcolor": "white",
           "linecolor": "white",
           "ticks": "",
           "title": {
            "standoff": 15
           },
           "zerolinecolor": "white",
           "zerolinewidth": 2
          }
         }
        },
        "title": {
         "text": "Infant Mortality Rate in 2021"
        },
        "xaxis": {
         "anchor": "y",
         "domain": [
          0,
          1
         ],
         "title": {
          "text": "Race"
         }
        },
        "yaxis": {
         "anchor": "x",
         "domain": [
          0,
          1
         ],
         "title": {
          "text": "sum of Infant Mortality Rate"
         }
        }
       }
      }
     },
     "metadata": {},
     "output_type": "display_data"
    }
   ],
   "source": [
    "fig = px.histogram(newinfant_2021, x=\"Race\", y=\"Infant Mortality Rate\", title='Infant Mortality Rate in 2021')\n",
    "\n",
    "fig.show()"
   ]
  },
  {
   "cell_type": "code",
   "execution_count": 14,
   "id": "4727740d-7569-418f-98fc-53681c6ea91d",
   "metadata": {},
   "outputs": [
    {
     "data": {
      "text/html": [
       "<div>\n",
       "<style scoped>\n",
       "    .dataframe tbody tr th:only-of-type {\n",
       "        vertical-align: middle;\n",
       "    }\n",
       "\n",
       "    .dataframe tbody tr th {\n",
       "        vertical-align: top;\n",
       "    }\n",
       "\n",
       "    .dataframe thead th {\n",
       "        text-align: right;\n",
       "    }\n",
       "</style>\n",
       "<table border=\"1\" class=\"dataframe\">\n",
       "  <thead>\n",
       "    <tr style=\"text-align: right;\">\n",
       "      <th></th>\n",
       "      <th>Year</th>\n",
       "      <th>Materal Race or Ethnicity</th>\n",
       "      <th>Infant Mortality Rate</th>\n",
       "      <th>Neonatal Mortality Rate</th>\n",
       "      <th>Postneonatal Mortality Rate</th>\n",
       "      <th>Infant Deaths</th>\n",
       "      <th>Neonatal Infant Deaths</th>\n",
       "      <th>Postneonatal Infant Deaths</th>\n",
       "      <th>Number of Live Births</th>\n",
       "      <th>Race</th>\n",
       "      <th>YearsOnJob</th>\n",
       "      <th>avg_YearsOnJob</th>\n",
       "    </tr>\n",
       "  </thead>\n",
       "  <tbody>\n",
       "    <tr>\n",
       "      <th>0</th>\n",
       "      <td>2021</td>\n",
       "      <td>Other Hispanic</td>\n",
       "      <td>3.8</td>\n",
       "      <td>2.1</td>\n",
       "      <td>1.7</td>\n",
       "      <td>91.0</td>\n",
       "      <td>50.0</td>\n",
       "      <td>41.0</td>\n",
       "      <td>23836</td>\n",
       "      <td>Hispanic</td>\n",
       "      <td>138298</td>\n",
       "      <td>69149.0</td>\n",
       "    </tr>\n",
       "    <tr>\n",
       "      <th>1</th>\n",
       "      <td>2021</td>\n",
       "      <td>Asian and Pacific Islander</td>\n",
       "      <td>2.7</td>\n",
       "      <td>1.9</td>\n",
       "      <td>0.8</td>\n",
       "      <td>41.0</td>\n",
       "      <td>29.0</td>\n",
       "      <td>12.0</td>\n",
       "      <td>14927</td>\n",
       "      <td>Asian</td>\n",
       "      <td>50980</td>\n",
       "      <td>25490.0</td>\n",
       "    </tr>\n",
       "    <tr>\n",
       "      <th>2</th>\n",
       "      <td>2021</td>\n",
       "      <td>Non-Hispanic White</td>\n",
       "      <td>1.8</td>\n",
       "      <td>1.1</td>\n",
       "      <td>0.7</td>\n",
       "      <td>66.0</td>\n",
       "      <td>39.0</td>\n",
       "      <td>27.0</td>\n",
       "      <td>36023</td>\n",
       "      <td>White</td>\n",
       "      <td>186893</td>\n",
       "      <td>93446.5</td>\n",
       "    </tr>\n",
       "    <tr>\n",
       "      <th>3</th>\n",
       "      <td>2021</td>\n",
       "      <td>Non-Hispanic Black</td>\n",
       "      <td>9.2</td>\n",
       "      <td>5.6</td>\n",
       "      <td>3.6</td>\n",
       "      <td>162.0</td>\n",
       "      <td>99.0</td>\n",
       "      <td>63.0</td>\n",
       "      <td>17608</td>\n",
       "      <td>Black</td>\n",
       "      <td>149450</td>\n",
       "      <td>74725.0</td>\n",
       "    </tr>\n",
       "  </tbody>\n",
       "</table>\n",
       "</div>"
      ],
      "text/plain": [
       "   Year   Materal Race or Ethnicity  Infant Mortality Rate  \\\n",
       "0  2021              Other Hispanic                    3.8   \n",
       "1  2021  Asian and Pacific Islander                    2.7   \n",
       "2  2021          Non-Hispanic White                    1.8   \n",
       "3  2021          Non-Hispanic Black                    9.2   \n",
       "\n",
       "   Neonatal Mortality Rate  Postneonatal Mortality Rate  Infant Deaths  \\\n",
       "0                      2.1                          1.7           91.0   \n",
       "1                      1.9                          0.8           41.0   \n",
       "2                      1.1                          0.7           66.0   \n",
       "3                      5.6                          3.6          162.0   \n",
       "\n",
       "   Neonatal Infant Deaths  Postneonatal Infant Deaths  Number of Live Births  \\\n",
       "0                    50.0                        41.0                  23836   \n",
       "1                    29.0                        12.0                  14927   \n",
       "2                    39.0                        27.0                  36023   \n",
       "3                    99.0                        63.0                  17608   \n",
       "\n",
       "       Race  YearsOnJob  avg_YearsOnJob  \n",
       "0  Hispanic      138298         69149.0  \n",
       "1     Asian       50980         25490.0  \n",
       "2     White      186893         93446.5  \n",
       "3     Black      149450         74725.0  "
      ]
     },
     "execution_count": 14,
     "metadata": {},
     "output_type": "execute_result"
    }
   ],
   "source": [
    "infantrace = pd.merge(newinfant_2021,newgrouped,on=\"Race\", how=\"left\")\n",
    "\n",
    "\n",
    "infantrace"
   ]
  },
  {
   "cell_type": "code",
   "execution_count": 15,
   "id": "24fadca6-5d46-438f-a28a-402a892c4b16",
   "metadata": {},
   "outputs": [
    {
     "data": {
      "image/png": "[encoded data removed]",
      "text/plain": [
       "<Figure size 700x400 with 2 Axes>"
      ]
     },
     "metadata": {},
     "output_type": "display_data"
    }
   ],
   "source": [
    "import numpy as np\n",
    "\n",
    "fig, ax1 = plt.subplots(figsize=(7, 4))\n",
    "\n",
    "x = np.arange(len(infantrace['Race']))\n",
    "\n",
    "bar1 = ax1.bar(x - 0.2,\n",
    "               infantrace['Infant Mortality Rate'],\n",
    "               width=0.4,\n",
    "               label='Infant Mortality Rate',\n",
    "               color='blue')\n",
    "ax1.set_xlabel('Race')\n",
    "ax1.set_ylabel('Infant Mortality Rate', color='blue')\n",
    "ax1.tick_params(axis='y', labelcolor='blue')\n",
    "\n",
    "ax2 = ax1.twinx()\n",
    "bar2 = ax2.bar(x + 0.2,\n",
    "               infantrace['avg_YearsOnJob'],\n",
    "               width = 0.4,\n",
    "               label='avg_YearsOnJob',\n",
    "               color='green')\n",
    "ax2.set_ylabel('avg_YearsOnJob',color='green')\n",
    "ax2.tick_params(axis='y', labelcolor='green')\n",
    "\n",
    "ax1.set_xticks(x)\n",
    "ax1.set_xticklabels(infantrace['Race'])\n",
    "\n",
    "\n",
    "plt.title('Infant Mortality Rate and Average Years on Job by Race')\n",
    "\n",
    "plt.show()\n"
   ]
  },
  {
   "cell_type": "code",
   "execution_count": null,
   "id": "a243645b-8429-4080-b9e6-d2526ce96505",
   "metadata": {},
   "outputs": [],
   "source": [
    "# Takeaway\n",
    "#The Infant Mortality Rate in 2021 varies significantly by race, with the rate for Non-Hispanic Blacks being the highest at 9.2%. \n",
    "#On the other hand, no particular correlation was found between average years on the job and the Infant Mortality Rate.\n",
    "#If the comparison had been between infant mortality and income, a correlation might have been found; however, due to data limitations, this could not be demonstrated."
   ]
  }
 ],
 "metadata": {
  "kernelspec": {
   "display_name": "base",
   "language": "python",
   "name": "python3"
  },
  "language_info": {
   "codemirror_mode": {
    "name": "ipython",
    "version": 3
   },
   "file_extension": ".py",
   "mimetype": "text/x-python",
   "name": "python",
   "nbconvert_exporter": "python",
   "pygments_lexer": "ipython3",
   "version": "3.12.2"
  }
 },
 "nbformat": 4,
 "nbformat_minor": 5
}
